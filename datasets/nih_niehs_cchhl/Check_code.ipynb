{
  "nbformat": 4,
  "nbformat_minor": 0,
  "metadata": {
    "colab": {
      "provenance": []
    },
    "kernelspec": {
      "name": "python3",
      "display_name": "Python 3"
    },
    "language_info": {
      "name": "python"
    }
  },
  "cells": [
    {
      "cell_type": "markdown",
      "source": [
        "##Check Duplicate column\n",
        "\n",
        "## Zheng Zeng-May 10.2025\n",
        "\n",
        "---\n",
        "\n",
        "\n",
        "\n"
      ],
      "metadata": {
        "id": "c0MhpWRFLDB9"
      }
    },
    {
      "cell_type": "markdown",
      "source": [
        "### Read the file"
      ],
      "metadata": {
        "id": "cG7yVo5CDaqY"
      }
    },
    {
      "cell_type": "code",
      "source": [
        "import pandas as pd\n",
        "df = pd.read_csv('/content/cchhl_all_flatten.csv')"
      ],
      "metadata": {
        "colab": {
          "base_uri": "https://localhost:8080/"
        },
        "id": "0SxSTr7rDeGd",
        "outputId": "d36cb02c-f831-4893-c2c4-537d96ceb251"
      },
      "execution_count": 1,
      "outputs": [
        {
          "output_type": "stream",
          "name": "stderr",
          "text": [
            "<ipython-input-1-43d2729ff327>:2: DtypeWarning: Columns (1,3,10,13,14,15,19,20,33,34,35,39,40,41,42) have mixed types. Specify dtype option on import or set low_memory=False.\n",
            "  df = pd.read_csv('/content/cchhl_all_flatten.csv')\n"
          ]
        }
      ]
    },
    {
      "cell_type": "code",
      "source": [
        "df.dtypes"
      ],
      "metadata": {
        "colab": {
          "base_uri": "https://localhost:8080/",
          "height": 1000
        },
        "id": "2RC6nykXDrQY",
        "outputId": "8ec93738-0889-4bdf-fee4-81a283ae7772"
      },
      "execution_count": 4,
      "outputs": [
        {
          "output_type": "execute_result",
          "data": {
            "text/plain": [
              "reference_id                                    int64\n",
              "publisher                                      object\n",
              "reference_title                                object\n",
              "series_editor                                  object\n",
              "reference_type                                 object\n",
              "journal                                        object\n",
              "num                                             int64\n",
              "volume                                         object\n",
              "year_published                                  int64\n",
              "author                                         object\n",
              "series_title                                   object\n",
              "geo                                             int64\n",
              "issue                                          object\n",
              "editor                                         object\n",
              "conference                                     object\n",
              "place_published                                object\n",
              "skip                                            int64\n",
              "geo_nonus                                     float64\n",
              "page_s                                         object\n",
              "university                                     object\n",
              "book_title                                     object\n",
              "Title                                          object\n",
              "Author(s)                                      object\n",
              "Year                                          float64\n",
              "Journal                                        object\n",
              "Source                                         object\n",
              "Exposure                                       object\n",
              "Geographic Feature                             object\n",
              "Geographic Location                            object\n",
              "Health Impact                                  object\n",
              "Resource Type                                  object\n",
              "Special Topic                                  object\n",
              "Abstract                                       object\n",
              "Series                                         object\n",
              "Editor                                         object\n",
              "Publisher                                      object\n",
              "Model/Methodology                              object\n",
              "Model Timescale                                object\n",
              "Climate Change and Socioeconomic Scenarios     object\n",
              "Book                                           object\n",
              "Volume                                         object\n",
              "Page                                           object\n",
              "Conference                                     object\n",
              "dtype: object"
            ],
            "text/html": [
              "<div>\n",
              "<style scoped>\n",
              "    .dataframe tbody tr th:only-of-type {\n",
              "        vertical-align: middle;\n",
              "    }\n",
              "\n",
              "    .dataframe tbody tr th {\n",
              "        vertical-align: top;\n",
              "    }\n",
              "\n",
              "    .dataframe thead th {\n",
              "        text-align: right;\n",
              "    }\n",
              "</style>\n",
              "<table border=\"1\" class=\"dataframe\">\n",
              "  <thead>\n",
              "    <tr style=\"text-align: right;\">\n",
              "      <th></th>\n",
              "      <th>0</th>\n",
              "    </tr>\n",
              "  </thead>\n",
              "  <tbody>\n",
              "    <tr>\n",
              "      <th>reference_id</th>\n",
              "      <td>int64</td>\n",
              "    </tr>\n",
              "    <tr>\n",
              "      <th>publisher</th>\n",
              "      <td>object</td>\n",
              "    </tr>\n",
              "    <tr>\n",
              "      <th>reference_title</th>\n",
              "      <td>object</td>\n",
              "    </tr>\n",
              "    <tr>\n",
              "      <th>series_editor</th>\n",
              "      <td>object</td>\n",
              "    </tr>\n",
              "    <tr>\n",
              "      <th>reference_type</th>\n",
              "      <td>object</td>\n",
              "    </tr>\n",
              "    <tr>\n",
              "      <th>journal</th>\n",
              "      <td>object</td>\n",
              "    </tr>\n",
              "    <tr>\n",
              "      <th>num</th>\n",
              "      <td>int64</td>\n",
              "    </tr>\n",
              "    <tr>\n",
              "      <th>volume</th>\n",
              "      <td>object</td>\n",
              "    </tr>\n",
              "    <tr>\n",
              "      <th>year_published</th>\n",
              "      <td>int64</td>\n",
              "    </tr>\n",
              "    <tr>\n",
              "      <th>author</th>\n",
              "      <td>object</td>\n",
              "    </tr>\n",
              "    <tr>\n",
              "      <th>series_title</th>\n",
              "      <td>object</td>\n",
              "    </tr>\n",
              "    <tr>\n",
              "      <th>geo</th>\n",
              "      <td>int64</td>\n",
              "    </tr>\n",
              "    <tr>\n",
              "      <th>issue</th>\n",
              "      <td>object</td>\n",
              "    </tr>\n",
              "    <tr>\n",
              "      <th>editor</th>\n",
              "      <td>object</td>\n",
              "    </tr>\n",
              "    <tr>\n",
              "      <th>conference</th>\n",
              "      <td>object</td>\n",
              "    </tr>\n",
              "    <tr>\n",
              "      <th>place_published</th>\n",
              "      <td>object</td>\n",
              "    </tr>\n",
              "    <tr>\n",
              "      <th>skip</th>\n",
              "      <td>int64</td>\n",
              "    </tr>\n",
              "    <tr>\n",
              "      <th>geo_nonus</th>\n",
              "      <td>float64</td>\n",
              "    </tr>\n",
              "    <tr>\n",
              "      <th>page_s</th>\n",
              "      <td>object</td>\n",
              "    </tr>\n",
              "    <tr>\n",
              "      <th>university</th>\n",
              "      <td>object</td>\n",
              "    </tr>\n",
              "    <tr>\n",
              "      <th>book_title</th>\n",
              "      <td>object</td>\n",
              "    </tr>\n",
              "    <tr>\n",
              "      <th>Title</th>\n",
              "      <td>object</td>\n",
              "    </tr>\n",
              "    <tr>\n",
              "      <th>Author(s)</th>\n",
              "      <td>object</td>\n",
              "    </tr>\n",
              "    <tr>\n",
              "      <th>Year</th>\n",
              "      <td>float64</td>\n",
              "    </tr>\n",
              "    <tr>\n",
              "      <th>Journal</th>\n",
              "      <td>object</td>\n",
              "    </tr>\n",
              "    <tr>\n",
              "      <th>Source</th>\n",
              "      <td>object</td>\n",
              "    </tr>\n",
              "    <tr>\n",
              "      <th>Exposure</th>\n",
              "      <td>object</td>\n",
              "    </tr>\n",
              "    <tr>\n",
              "      <th>Geographic Feature</th>\n",
              "      <td>object</td>\n",
              "    </tr>\n",
              "    <tr>\n",
              "      <th>Geographic Location</th>\n",
              "      <td>object</td>\n",
              "    </tr>\n",
              "    <tr>\n",
              "      <th>Health Impact</th>\n",
              "      <td>object</td>\n",
              "    </tr>\n",
              "    <tr>\n",
              "      <th>Resource Type</th>\n",
              "      <td>object</td>\n",
              "    </tr>\n",
              "    <tr>\n",
              "      <th>Special Topic</th>\n",
              "      <td>object</td>\n",
              "    </tr>\n",
              "    <tr>\n",
              "      <th>Abstract</th>\n",
              "      <td>object</td>\n",
              "    </tr>\n",
              "    <tr>\n",
              "      <th>Series</th>\n",
              "      <td>object</td>\n",
              "    </tr>\n",
              "    <tr>\n",
              "      <th>Editor</th>\n",
              "      <td>object</td>\n",
              "    </tr>\n",
              "    <tr>\n",
              "      <th>Publisher</th>\n",
              "      <td>object</td>\n",
              "    </tr>\n",
              "    <tr>\n",
              "      <th>Model/Methodology</th>\n",
              "      <td>object</td>\n",
              "    </tr>\n",
              "    <tr>\n",
              "      <th>Model Timescale</th>\n",
              "      <td>object</td>\n",
              "    </tr>\n",
              "    <tr>\n",
              "      <th>Climate Change and Socioeconomic Scenarios</th>\n",
              "      <td>object</td>\n",
              "    </tr>\n",
              "    <tr>\n",
              "      <th>Book</th>\n",
              "      <td>object</td>\n",
              "    </tr>\n",
              "    <tr>\n",
              "      <th>Volume</th>\n",
              "      <td>object</td>\n",
              "    </tr>\n",
              "    <tr>\n",
              "      <th>Page</th>\n",
              "      <td>object</td>\n",
              "    </tr>\n",
              "    <tr>\n",
              "      <th>Conference</th>\n",
              "      <td>object</td>\n",
              "    </tr>\n",
              "  </tbody>\n",
              "</table>\n",
              "</div><br><label><b>dtype:</b> object</label>"
            ]
          },
          "metadata": {},
          "execution_count": 4
        }
      ]
    },
    {
      "cell_type": "markdown",
      "source": [
        "### 1. publisher and Publisher"
      ],
      "metadata": {
        "id": "DYLAdMXfFdCY"
      }
    },
    {
      "cell_type": "code",
      "source": [
        "df['publisher'].describe()"
      ],
      "metadata": {
        "colab": {
          "base_uri": "https://localhost:8080/",
          "height": 210
        },
        "id": "ltiY6GgxFqtO",
        "outputId": "e40aa3b9-491c-46be-e840-81454ae284ac"
      },
      "execution_count": 6,
      "outputs": [
        {
          "output_type": "execute_result",
          "data": {
            "text/plain": [
              "count                            260\n",
              "unique                           150\n",
              "top       Cambridge University Press\n",
              "freq                              20\n",
              "Name: publisher, dtype: object"
            ],
            "text/html": [
              "<div>\n",
              "<style scoped>\n",
              "    .dataframe tbody tr th:only-of-type {\n",
              "        vertical-align: middle;\n",
              "    }\n",
              "\n",
              "    .dataframe tbody tr th {\n",
              "        vertical-align: top;\n",
              "    }\n",
              "\n",
              "    .dataframe thead th {\n",
              "        text-align: right;\n",
              "    }\n",
              "</style>\n",
              "<table border=\"1\" class=\"dataframe\">\n",
              "  <thead>\n",
              "    <tr style=\"text-align: right;\">\n",
              "      <th></th>\n",
              "      <th>publisher</th>\n",
              "    </tr>\n",
              "  </thead>\n",
              "  <tbody>\n",
              "    <tr>\n",
              "      <th>count</th>\n",
              "      <td>260</td>\n",
              "    </tr>\n",
              "    <tr>\n",
              "      <th>unique</th>\n",
              "      <td>150</td>\n",
              "    </tr>\n",
              "    <tr>\n",
              "      <th>top</th>\n",
              "      <td>Cambridge University Press</td>\n",
              "    </tr>\n",
              "    <tr>\n",
              "      <th>freq</th>\n",
              "      <td>20</td>\n",
              "    </tr>\n",
              "  </tbody>\n",
              "</table>\n",
              "</div><br><label><b>dtype:</b> object</label>"
            ]
          },
          "metadata": {},
          "execution_count": 6
        }
      ]
    },
    {
      "cell_type": "code",
      "source": [
        "df['Publisher'].describe()"
      ],
      "metadata": {
        "colab": {
          "base_uri": "https://localhost:8080/",
          "height": 210
        },
        "id": "seuTANmpFtkN",
        "outputId": "daefd56c-e0fd-4f2f-f04a-31442dafa3a5"
      },
      "execution_count": 8,
      "outputs": [
        {
          "output_type": "execute_result",
          "data": {
            "text/plain": [
              "count                                                 261\n",
              "unique                                                161\n",
              "top       Cambridge University Press (Cambridge, England)\n",
              "freq                                                   16\n",
              "Name: Publisher, dtype: object"
            ],
            "text/html": [
              "<div>\n",
              "<style scoped>\n",
              "    .dataframe tbody tr th:only-of-type {\n",
              "        vertical-align: middle;\n",
              "    }\n",
              "\n",
              "    .dataframe tbody tr th {\n",
              "        vertical-align: top;\n",
              "    }\n",
              "\n",
              "    .dataframe thead th {\n",
              "        text-align: right;\n",
              "    }\n",
              "</style>\n",
              "<table border=\"1\" class=\"dataframe\">\n",
              "  <thead>\n",
              "    <tr style=\"text-align: right;\">\n",
              "      <th></th>\n",
              "      <th>Publisher</th>\n",
              "    </tr>\n",
              "  </thead>\n",
              "  <tbody>\n",
              "    <tr>\n",
              "      <th>count</th>\n",
              "      <td>261</td>\n",
              "    </tr>\n",
              "    <tr>\n",
              "      <th>unique</th>\n",
              "      <td>161</td>\n",
              "    </tr>\n",
              "    <tr>\n",
              "      <th>top</th>\n",
              "      <td>Cambridge University Press (Cambridge, England)</td>\n",
              "    </tr>\n",
              "    <tr>\n",
              "      <th>freq</th>\n",
              "      <td>16</td>\n",
              "    </tr>\n",
              "  </tbody>\n",
              "</table>\n",
              "</div><br><label><b>dtype:</b> object</label>"
            ]
          },
          "metadata": {},
          "execution_count": 8
        }
      ]
    },
    {
      "cell_type": "code",
      "source": [
        "missing_count = df['publisher'].isna().sum()\n",
        "print(f\"Journal NaN number: {missing_count}\")"
      ],
      "metadata": {
        "colab": {
          "base_uri": "https://localhost:8080/"
        },
        "id": "9Ik5pgUPUKRu",
        "outputId": "4a9b4bdf-8fdb-4455-b470-c53f6dc7ab49"
      },
      "execution_count": 78,
      "outputs": [
        {
          "output_type": "stream",
          "name": "stdout",
          "text": [
            "Journal NaN number: 22435\n"
          ]
        }
      ]
    },
    {
      "cell_type": "code",
      "source": [
        "missing_count = df['Publisher'].isna().sum()\n",
        "print(f\"Journal NaN number: {missing_count}\")"
      ],
      "metadata": {
        "colab": {
          "base_uri": "https://localhost:8080/"
        },
        "id": "Q0NoLquUT-xP",
        "outputId": "2e41d73c-146f-4227-8521-4cc994e8c063"
      },
      "execution_count": 77,
      "outputs": [
        {
          "output_type": "stream",
          "name": "stdout",
          "text": [
            "Journal NaN number: 22434\n"
          ]
        }
      ]
    },
    {
      "cell_type": "code",
      "source": [
        "for index, value in df['Publisher'].head(10).items():\n",
        "    if isinstance(value, str) and value.strip() != '':\n",
        "        print(f\"Index: {index}, Value: {value}\")"
      ],
      "metadata": {
        "colab": {
          "base_uri": "https://localhost:8080/"
        },
        "id": "8m_mkCZyF0jC",
        "outputId": "0b07fe9f-db43-4237-a450-24ba41dd2112"
      },
      "execution_count": 11,
      "outputs": [
        {
          "output_type": "stream",
          "name": "stdout",
          "text": [
            "Index: 4, Value: Routledge (Sterling, VA)\n",
            "Index: 5, Value: Routledge (Sterling, VA)\n",
            "Index: 6, Value: Organization for Economic Cooperation and Development (OECD) (Paris, France)\n",
            "Index: 7, Value: World Health Organization (WHO) Regional Office for Europe (Copenhagen, Denmark)\n",
            "Index: 8, Value: World Health Organization (WHO) Regional Office for Europe (Copenhagen, Denmark)\n"
          ]
        }
      ]
    },
    {
      "cell_type": "code",
      "source": [
        "for index, value in df['publisher'].head(10).items():\n",
        "    if isinstance(value, str) and value.strip() != '':\n",
        "        print(f\"Index: {index}, Value: {value}\")\n",
        "# drop Publisher column"
      ],
      "metadata": {
        "colab": {
          "base_uri": "https://localhost:8080/"
        },
        "id": "Ls0kSIl2FhX6",
        "outputId": "36e5bf88-badd-4d28-c864-ae97b166ba58"
      },
      "execution_count": 13,
      "outputs": [
        {
          "output_type": "stream",
          "name": "stdout",
          "text": [
            "Index: 4, Value: Routledge\n",
            "Index: 5, Value: Routledge\n",
            "Index: 6, Value: Organization for Economic Cooperation and Development (OECD)\n",
            "Index: 7, Value: World Health Organization (WHO) Regional Office for Europe\n",
            "Index: 8, Value: World Health Organization (WHO) Regional Office for Europe\n"
          ]
        }
      ]
    },
    {
      "cell_type": "markdown",
      "source": [
        "### 2. reference_title and Title"
      ],
      "metadata": {
        "id": "BCmlqWbg6xCn"
      }
    },
    {
      "cell_type": "code",
      "source": [
        "print(df['reference_title'][:5])\n",
        "print(df['Title'][:5])"
      ],
      "metadata": {
        "colab": {
          "base_uri": "https://localhost:8080/"
        },
        "collapsed": true,
        "id": "G7wHoKMvHMNE",
        "outputId": "3215b303-c8f3-49f9-f049-38f295d66149"
      },
      "execution_count": 16,
      "outputs": [
        {
          "output_type": "stream",
          "name": "stdout",
          "text": [
            "0                           Adapting to climate change\n",
            "1    Vector-borne diseases: Impact of climate chang...\n",
            "2    Plan for disaster before it happens: Do organi...\n",
            "3                     Health impacts of climate change\n",
            "4                        Climate change and adaptation\n",
            "Name: reference_title, dtype: object\n",
            "0                           Adapting to climate change\n",
            "1    Vector-borne diseases: Impact of climate chang...\n",
            "2    Plan for disaster before it happens: Do organi...\n",
            "3                     Health impacts of climate change\n",
            "4                        Climate change and adaptation\n",
            "Name: Title, dtype: object\n"
          ]
        }
      ]
    },
    {
      "cell_type": "code",
      "source": [
        "# Determine whether it is a duplicate column\n",
        "# based on whether the number of words is consistent\n",
        "df['refernce_title_count']=df['reference_title'].str.split().str.len()\n",
        "df['title_count']=df['Title'].str.split().str.len()\n",
        "\n",
        "# all zero means they are the same column, we can drop one of them\n",
        "df['check_1']=df['refernce_title_count']-df['title_count']\n",
        "df['check_1'].value_counts()\n",
        "# drop Title column"
      ],
      "metadata": {
        "colab": {
          "base_uri": "https://localhost:8080/",
          "height": 147
        },
        "id": "VrYXC-CmpsFk",
        "outputId": "3ebe939e-0ae1-4c2c-cc75-e61c3a7c92c7"
      },
      "execution_count": 17,
      "outputs": [
        {
          "output_type": "execute_result",
          "data": {
            "text/plain": [
              "check_1\n",
              "0    22695\n",
              "Name: count, dtype: int64"
            ],
            "text/html": [
              "<div>\n",
              "<style scoped>\n",
              "    .dataframe tbody tr th:only-of-type {\n",
              "        vertical-align: middle;\n",
              "    }\n",
              "\n",
              "    .dataframe tbody tr th {\n",
              "        vertical-align: top;\n",
              "    }\n",
              "\n",
              "    .dataframe thead th {\n",
              "        text-align: right;\n",
              "    }\n",
              "</style>\n",
              "<table border=\"1\" class=\"dataframe\">\n",
              "  <thead>\n",
              "    <tr style=\"text-align: right;\">\n",
              "      <th></th>\n",
              "      <th>count</th>\n",
              "    </tr>\n",
              "    <tr>\n",
              "      <th>check_1</th>\n",
              "      <th></th>\n",
              "    </tr>\n",
              "  </thead>\n",
              "  <tbody>\n",
              "    <tr>\n",
              "      <th>0</th>\n",
              "      <td>22695</td>\n",
              "    </tr>\n",
              "  </tbody>\n",
              "</table>\n",
              "</div><br><label><b>dtype:</b> int64</label>"
            ]
          },
          "metadata": {},
          "execution_count": 17
        }
      ]
    },
    {
      "cell_type": "markdown",
      "source": [
        "### 3. series_editor and editor"
      ],
      "metadata": {
        "id": "BThQm1vFHxd8"
      }
    },
    {
      "cell_type": "code",
      "source": [
        "for index, value in df['series_editor'].items():\n",
        "    if isinstance(value, str) and value.strip() != '':\n",
        "        print(f\"Index: {index}, Value: {value}\")"
      ],
      "metadata": {
        "colab": {
          "base_uri": "https://localhost:8080/"
        },
        "id": "ZKRKiEgLsjMB",
        "outputId": "1a51b30a-4373-453c-e1cd-2ce6a1493625"
      },
      "execution_count": null,
      "outputs": [
        {
          "output_type": "stream",
          "name": "stdout",
          "text": [
            "Index: 18, Value: Vakil, C.\n",
            "Index: 372, Value: Vos, F.;Rodriguez, J.;Below, R.;Guha-Sapir, D.\n",
            "Index: 525, Value: Kovats, S.\n",
            "Index: 769, Value: Gamble, J. L.\n",
            "Index: 1431, Value: May, E.\n",
            "Index: 1594, Value: Meyer, L. A.;Peterson, A. C.\n",
            "Index: 2251, Value: Karl, T. R.;Meehl, G. A.;Miller, C. D.;Hassol, S. J.;Waple, A. M.;Murray, W. L.\n",
            "Index: 2267, Value: Walsh, M.\n",
            "Index: 8469, Value: E. L. F. Schipper, J. Ayers, H. Reid, S. Huq and A. Rahman\n",
            "Index: 8470, Value: C. D. Butler\n",
            "Index: 8471, Value: K. E. Pinkerton and W. N. Rom\n",
            "Index: 8473, Value: V. I. Grover\n",
            "Index: 8474, Value: V. R. Barros, C. B. Field, D. J. Dokken, M. D. Mastrandrea, K. J. Mach, T. B. Bilir, M. Chatterjee, K. L. Ebi, Y. O. Estrada, R. C. Genova, B. Girma, E. S. Kissel, A. N. Levy, S. MacCracken, P. R. Mastrandrea and L. L. White\n",
            "Index: 8475, Value: Rosenzweig, C., Solecki, W.\n",
            "Index: 8478, Value: Leal Filho, W., Azeiteiro, U. M., Alves, F.\n",
            "Index: 8479, Value: Akhtar, R.\n"
          ]
        }
      ]
    },
    {
      "cell_type": "code",
      "source": [
        "for index, value in df['editor'].items():\n",
        "    if isinstance(value, str) and value.strip() != '':\n",
        "        print(f\"Index: {index}, Value: {value}\")\n",
        "# Comparing these two result, these two column totally different"
      ],
      "metadata": {
        "colab": {
          "base_uri": "https://localhost:8080/"
        },
        "id": "wOleYc1TsjU3",
        "outputId": "9fe1c030-8258-4d11-f90d-a6eea09deee8"
      },
      "execution_count": null,
      "outputs": [
        {
          "output_type": "stream",
          "name": "stdout",
          "text": [
            "Index: 4, Value: Leary, N.;Adejuwon, J.;Barros, V.;Burton, I.;Kulkarni, J.;Lasco, R.\n",
            "Index: 5, Value: Leary, N.;Conde, C.;Kulkarni, J.;Nyong, A.;Pulhin, J.\n",
            "Index: 6, Value: Agrawala, S.;Fankhauser, S.\n",
            "Index: 7, Value: Matthies, F.;Bickler, G.;Marin, N. C.;Hales, S.\n",
            "Index: 8, Value: Menne, B.;Apfel, F.;Kovats, S.;Racioppi, F.\n",
            "Index: 11, Value: Adger, W. N.;Lorenzoni, I.;O'Brien, K. L.\n",
            "Index: 12, Value: Brauch, H. G.;Behera, N. C.; ;Kameri-Mbote, P.;Grin, J.;Oswald Spring, U.; Chourou, B.; Mesjasz, C.; Krummenacher, H.\n",
            "Index: 163, Value: Bates, B. C.;Kundzewicz, Z. W.;Wu, S.;Palutikof, J. P.\n",
            "Index: 1072, Value: Parry, M. L.;Canziani, O. F.;Palutikof, J. P.;van der Linden, P. J.;Hanson, C. E.\n",
            "Index: 1073, Value: Metz, B.;Davidson, O.;Bosch, P.;Dave, R.;Meyer, L.\n",
            "Index: 1075, Value: Core Writing Team; Pachauri, R. K., Reisinger, A.\n",
            "Index: 1162, Value: Karl, T. R.;Melillo, J. M.;Peterson, T. C.\n",
            "Index: 1249, Value: Koundouri, P.\n",
            "Index: 1992, Value: Se?guin, J.\n",
            "Index: 2337, Value: United Nations Development Programme\n",
            "Index: 2414, Value: Wolf, T.;Menne, B.\n",
            "Index: 11216, Value: Akhtar, R; Palagiano, C\n"
          ]
        }
      ]
    },
    {
      "cell_type": "markdown",
      "source": [
        "### 4. year_published and Year"
      ],
      "metadata": {
        "id": "fLch91m8IKFb"
      }
    },
    {
      "cell_type": "code",
      "source": [
        "df['check_2']=df['year_published']-df['Year']\n",
        "df['check_2'].value_counts()\n",
        "# These two column are the same\n",
        "# drop Year column"
      ],
      "metadata": {
        "colab": {
          "base_uri": "https://localhost:8080/",
          "height": 147
        },
        "id": "wDvtCD8quQ6b",
        "outputId": "6e9d77f4-770d-4e19-df86-f581a8639363",
        "collapsed": true
      },
      "execution_count": 18,
      "outputs": [
        {
          "output_type": "execute_result",
          "data": {
            "text/plain": [
              "check_2\n",
              "0.0    22652\n",
              "Name: count, dtype: int64"
            ],
            "text/html": [
              "<div>\n",
              "<style scoped>\n",
              "    .dataframe tbody tr th:only-of-type {\n",
              "        vertical-align: middle;\n",
              "    }\n",
              "\n",
              "    .dataframe tbody tr th {\n",
              "        vertical-align: top;\n",
              "    }\n",
              "\n",
              "    .dataframe thead th {\n",
              "        text-align: right;\n",
              "    }\n",
              "</style>\n",
              "<table border=\"1\" class=\"dataframe\">\n",
              "  <thead>\n",
              "    <tr style=\"text-align: right;\">\n",
              "      <th></th>\n",
              "      <th>count</th>\n",
              "    </tr>\n",
              "    <tr>\n",
              "      <th>check_2</th>\n",
              "      <th></th>\n",
              "    </tr>\n",
              "  </thead>\n",
              "  <tbody>\n",
              "    <tr>\n",
              "      <th>0.0</th>\n",
              "      <td>22652</td>\n",
              "    </tr>\n",
              "  </tbody>\n",
              "</table>\n",
              "</div><br><label><b>dtype:</b> int64</label>"
            ]
          },
          "metadata": {},
          "execution_count": 18
        }
      ]
    },
    {
      "cell_type": "markdown",
      "source": [
        "### 5. Author(s) and author"
      ],
      "metadata": {
        "id": "a9cAswXOIeIz"
      }
    },
    {
      "cell_type": "code",
      "source": [
        "import numpy as np\n",
        "# Change the content no author list in Author(s) column to NaN for comparing\n",
        "df['Author(s)'] = df['Author(s)'].apply(lambda x: np.nan if isinstance(x, str) and x.strip() == 'No authors listed' else x)\n",
        "df['Author(s)']"
      ],
      "metadata": {
        "colab": {
          "base_uri": "https://localhost:8080/",
          "height": 458
        },
        "id": "ot6izJEtusGD",
        "outputId": "59b27651-be25-4b02-8e3d-d175093b6b97"
      },
      "execution_count": 19,
      "outputs": [
        {
          "output_type": "execute_result",
          "data": {
            "text/plain": [
              "0                                                      NaN\n",
              "1                                                      NaN\n",
              "2                                                      NaN\n",
              "3                                                      NaN\n",
              "4                                                      NaN\n",
              "                               ...                        \n",
              "22690                                Shomar B, Rashkeev SN\n",
              "22691                              Zhu D, Zhang YY, Zhu YG\n",
              "22692    Sinno-Tellier S, Abadie E, Guillotin S, Bossée...\n",
              "22693                                             Mündel T\n",
              "22694            Abdelbaset AE, Kwak ML, Nonaka N, Nakao R\n",
              "Name: Author(s), Length: 22695, dtype: object"
            ],
            "text/html": [
              "<div>\n",
              "<style scoped>\n",
              "    .dataframe tbody tr th:only-of-type {\n",
              "        vertical-align: middle;\n",
              "    }\n",
              "\n",
              "    .dataframe tbody tr th {\n",
              "        vertical-align: top;\n",
              "    }\n",
              "\n",
              "    .dataframe thead th {\n",
              "        text-align: right;\n",
              "    }\n",
              "</style>\n",
              "<table border=\"1\" class=\"dataframe\">\n",
              "  <thead>\n",
              "    <tr style=\"text-align: right;\">\n",
              "      <th></th>\n",
              "      <th>Author(s)</th>\n",
              "    </tr>\n",
              "  </thead>\n",
              "  <tbody>\n",
              "    <tr>\n",
              "      <th>0</th>\n",
              "      <td>NaN</td>\n",
              "    </tr>\n",
              "    <tr>\n",
              "      <th>1</th>\n",
              "      <td>NaN</td>\n",
              "    </tr>\n",
              "    <tr>\n",
              "      <th>2</th>\n",
              "      <td>NaN</td>\n",
              "    </tr>\n",
              "    <tr>\n",
              "      <th>3</th>\n",
              "      <td>NaN</td>\n",
              "    </tr>\n",
              "    <tr>\n",
              "      <th>4</th>\n",
              "      <td>NaN</td>\n",
              "    </tr>\n",
              "    <tr>\n",
              "      <th>...</th>\n",
              "      <td>...</td>\n",
              "    </tr>\n",
              "    <tr>\n",
              "      <th>22690</th>\n",
              "      <td>Shomar B, Rashkeev SN</td>\n",
              "    </tr>\n",
              "    <tr>\n",
              "      <th>22691</th>\n",
              "      <td>Zhu D, Zhang YY, Zhu YG</td>\n",
              "    </tr>\n",
              "    <tr>\n",
              "      <th>22692</th>\n",
              "      <td>Sinno-Tellier S, Abadie E, Guillotin S, Bossée...</td>\n",
              "    </tr>\n",
              "    <tr>\n",
              "      <th>22693</th>\n",
              "      <td>Mündel T</td>\n",
              "    </tr>\n",
              "    <tr>\n",
              "      <th>22694</th>\n",
              "      <td>Abdelbaset AE, Kwak ML, Nonaka N, Nakao R</td>\n",
              "    </tr>\n",
              "  </tbody>\n",
              "</table>\n",
              "<p>22695 rows × 1 columns</p>\n",
              "</div><br><label><b>dtype:</b> object</label>"
            ]
          },
          "metadata": {},
          "execution_count": 19
        }
      ]
    },
    {
      "cell_type": "code",
      "source": [
        "df['Author_count']=df['Author(s)'].str.split().str.len()\n",
        "df['author_count']=df['author'].str.split().str.len()\n",
        "\n",
        "# all zero means they are the same column, we can drop one of them\n",
        "df['check_3']=df['Author_count']-df['author_count']\n",
        "df['check_3'].value_counts()"
      ],
      "metadata": {
        "colab": {
          "base_uri": "https://localhost:8080/",
          "height": 178
        },
        "id": "_6votF87uuvv",
        "outputId": "e67e11f2-e03d-4158-d752-a52ba5cd566c"
      },
      "execution_count": 20,
      "outputs": [
        {
          "output_type": "execute_result",
          "data": {
            "text/plain": [
              "check_3\n",
              "0.0    22592\n",
              "1.0        3\n",
              "Name: count, dtype: int64"
            ],
            "text/html": [
              "<div>\n",
              "<style scoped>\n",
              "    .dataframe tbody tr th:only-of-type {\n",
              "        vertical-align: middle;\n",
              "    }\n",
              "\n",
              "    .dataframe tbody tr th {\n",
              "        vertical-align: top;\n",
              "    }\n",
              "\n",
              "    .dataframe thead th {\n",
              "        text-align: right;\n",
              "    }\n",
              "</style>\n",
              "<table border=\"1\" class=\"dataframe\">\n",
              "  <thead>\n",
              "    <tr style=\"text-align: right;\">\n",
              "      <th></th>\n",
              "      <th>count</th>\n",
              "    </tr>\n",
              "    <tr>\n",
              "      <th>check_3</th>\n",
              "      <th></th>\n",
              "    </tr>\n",
              "  </thead>\n",
              "  <tbody>\n",
              "    <tr>\n",
              "      <th>0.0</th>\n",
              "      <td>22592</td>\n",
              "    </tr>\n",
              "    <tr>\n",
              "      <th>1.0</th>\n",
              "      <td>3</td>\n",
              "    </tr>\n",
              "  </tbody>\n",
              "</table>\n",
              "</div><br><label><b>dtype:</b> int64</label>"
            ]
          },
          "metadata": {},
          "execution_count": 20
        }
      ]
    },
    {
      "cell_type": "code",
      "source": [
        "result_rows = df[df['check_3'] == 1]\n",
        "\n",
        "# compare three rows\n",
        "print(result_rows[['Author(s)', 'author']])"
      ],
      "metadata": {
        "colab": {
          "base_uri": "https://localhost:8080/"
        },
        "id": "0-3vvbRhwFfk",
        "outputId": "2622b7c1-0a67-4221-8903-a8136c5b45f7"
      },
      "execution_count": null,
      "outputs": [
        {
          "output_type": "stream",
          "name": "stdout",
          "text": [
            "                                              Author(s)  \\\n",
            "5119  Hoang MH, Namirembe S, Van Noordwijk M, Catacu...   \n",
            "6162  Petrasek Macdonald J, Cunsolo Willox A, Ford J...   \n",
            "6176  Whitmee S, Haines A, Beyrer C, Boltz F, Capon ...   \n",
            "\n",
            "                                                 author  \n",
            "5119  Hoang MH, Namirembe S, Van Noordwijk M, Catacu...  \n",
            "6162  Petrasek Macdonald J, Cunsolo Willox A, Ford J...  \n",
            "6176  Whitmee S, Haines A, Beyrer C, Boltz F, Capon ...  \n"
          ]
        }
      ]
    },
    {
      "cell_type": "code",
      "source": [
        "print(df['Author(s)'][5119])\n",
        "print(df['author'][5119])\n",
        "# Author(s) has more one space in index 5119"
      ],
      "metadata": {
        "colab": {
          "base_uri": "https://localhost:8080/"
        },
        "id": "7GbI9_EzwF1M",
        "outputId": "6a30162d-4149-42d1-f70b-ad2c6433e4ff"
      },
      "execution_count": 24,
      "outputs": [
        {
          "output_type": "stream",
          "name": "stdout",
          "text": [
            "Hoang MH, Namirembe S, Van Noordwijk M, Catacutan D, Ouml; Born I, Perez-Teran AS, Nguyen HQ, Dumas-Johansen MK\n",
            "Hoang MH, Namirembe S, Van Noordwijk M, Catacutan D, Ouml;Born I, Perez-Teran AS, Nguyen HQ, Dumas-Johansen MK\n"
          ]
        }
      ]
    },
    {
      "cell_type": "code",
      "source": [
        "print(df['Author(s)'][6162])\n",
        "print(df['author'][6162])\n",
        "# Author(s) has more one space in index 6162"
      ],
      "metadata": {
        "colab": {
          "base_uri": "https://localhost:8080/"
        },
        "id": "RyW1X6yVJjh2",
        "outputId": "ddff3831-cf4f-4f66-b001-7eed5480c9af"
      },
      "execution_count": 25,
      "outputs": [
        {
          "output_type": "stream",
          "name": "stdout",
          "text": [
            "Petrasek Macdonald J, Cunsolo Willox A, Ford JD, Shiwak I, Wood M, Team Imhacc; Rigolet Inuit Community Government\n",
            "Petrasek Macdonald J, Cunsolo Willox A, Ford JD, Shiwak I, Wood M, Team Imhacc;Rigolet Inuit Community Government\n"
          ]
        }
      ]
    },
    {
      "cell_type": "code",
      "source": [
        "print(df['Author(s)'][6176])\n",
        "print(df['author'][6176])\n",
        "# Author(s) has more one space in index 6176\n",
        "# Drop author column"
      ],
      "metadata": {
        "colab": {
          "base_uri": "https://localhost:8080/"
        },
        "id": "ImoaC0fzJnCz",
        "outputId": "145660f9-e935-4c42-ae0c-90201a2291e4"
      },
      "execution_count": 26,
      "outputs": [
        {
          "output_type": "stream",
          "name": "stdout",
          "text": [
            "Whitmee S, Haines A, Beyrer C, Boltz F, Capon AG, Dias Bfds; Ezeh A, Frumkin H, Gong P, Head P, Horton R, Mace GM, Marten R, Myers SS, Nishtar S, Osofsky SA, Pattanayak SK, Pongsiri MJ, Romanelli C, Soucat A, Vega J, Yach D\n",
            "Whitmee S, Haines A, Beyrer C, Boltz F, Capon AG, Dias Bfds;Ezeh A, Frumkin H, Gong P, Head P, Horton R, Mace GM, Marten R, Myers SS, Nishtar S, Osofsky SA, Pattanayak SK, Pongsiri MJ, Romanelli C, Soucat A, Vega J, Yach D\n"
          ]
        }
      ]
    },
    {
      "cell_type": "markdown",
      "source": [
        "### 6. Series_title and Series"
      ],
      "metadata": {
        "id": "mSmYL7yXJw6k"
      }
    },
    {
      "cell_type": "code",
      "source": [
        "df['Series_count']=df['Series'].str.split().str.len()\n",
        "df['series_title_count']=df['series_title'].str.split().str.len()\n",
        "\n",
        "# zero means they are the same column, we can drop one of them\n",
        "df['check_4']=df['Series_count']-df['series_title_count']\n",
        "df['check_4'].value_counts()"
      ],
      "metadata": {
        "colab": {
          "base_uri": "https://localhost:8080/",
          "height": 178
        },
        "id": "ZGFvY6TGxIcG",
        "outputId": "b1f5f7c6-54d1-429d-cb50-17eaa73958b1"
      },
      "execution_count": 27,
      "outputs": [
        {
          "output_type": "execute_result",
          "data": {
            "text/plain": [
              "check_4\n",
              "0.0    43\n",
              "1.0    16\n",
              "Name: count, dtype: int64"
            ],
            "text/html": [
              "<div>\n",
              "<style scoped>\n",
              "    .dataframe tbody tr th:only-of-type {\n",
              "        vertical-align: middle;\n",
              "    }\n",
              "\n",
              "    .dataframe tbody tr th {\n",
              "        vertical-align: top;\n",
              "    }\n",
              "\n",
              "    .dataframe thead th {\n",
              "        text-align: right;\n",
              "    }\n",
              "</style>\n",
              "<table border=\"1\" class=\"dataframe\">\n",
              "  <thead>\n",
              "    <tr style=\"text-align: right;\">\n",
              "      <th></th>\n",
              "      <th>count</th>\n",
              "    </tr>\n",
              "    <tr>\n",
              "      <th>check_4</th>\n",
              "      <th></th>\n",
              "    </tr>\n",
              "  </thead>\n",
              "  <tbody>\n",
              "    <tr>\n",
              "      <th>0.0</th>\n",
              "      <td>43</td>\n",
              "    </tr>\n",
              "    <tr>\n",
              "      <th>1.0</th>\n",
              "      <td>16</td>\n",
              "    </tr>\n",
              "  </tbody>\n",
              "</table>\n",
              "</div><br><label><b>dtype:</b> int64</label>"
            ]
          },
          "metadata": {},
          "execution_count": 27
        }
      ]
    },
    {
      "cell_type": "code",
      "source": [
        "result_rows = df[df['check_4'] == 1]\n",
        "print(result_rows[['Series', 'series_title']])\n",
        "# The Series column have more information than series_title"
      ],
      "metadata": {
        "colab": {
          "base_uri": "https://localhost:8080/"
        },
        "id": "LPgpLLmHxJte",
        "outputId": "1d1647d8-5b9d-41ce-986d-1c8a980dac0d"
      },
      "execution_count": 28,
      "outputs": [
        {
          "output_type": "stream",
          "name": "stdout",
          "text": [
            "                                                 Series  \\\n",
            "353    Annals of the New York Academy of Sciences, 1149   \n",
            "689                  Annual Review of Public Health, 28   \n",
            "768               Synthesis and Assessment Product, 4.6   \n",
            "1003         Developments in Environmental Science 6, 6   \n",
            "1004   Annals of the New York Academy of Sciences, 1140   \n",
            "1152                                  Biometeorology, 1   \n",
            "1223             Advances in Global Change Research, 30   \n",
            "1564     Annual Review of Environment and Resources, 34   \n",
            "1640             Advances in Global Change Research, 42   \n",
            "1709  Advances in Experimental Medicine and Biology,...   \n",
            "1728             Annual Review of Resource Economics, 1   \n",
            "1980    Ecology and Control of Vector-Borne Diseases, 1   \n",
            "3851   Annals of the New York Academy of Sciences, 1244   \n",
            "4312   Annals of the New York Academy of Sciences, 1196   \n",
            "4458   Annals of the New York Academy of Sciences, 1244   \n",
            "4640  Current Topics in Microbiology and Immunology,...   \n",
            "\n",
            "                                       series_title  \n",
            "353      Annals of the New York Academy of Sciences  \n",
            "689                  Annual Review of Public Health  \n",
            "768                Synthesis and Assessment Product  \n",
            "1003        Developments in Environmental Science 6  \n",
            "1004     Annals of the New York Academy of Sciences  \n",
            "1152                                 Biometeorology  \n",
            "1223             Advances in Global Change Research  \n",
            "1564     Annual Review of Environment and Resources  \n",
            "1640             Advances in Global Change Research  \n",
            "1709  Advances in Experimental Medicine and Biology  \n",
            "1728            Annual Review of Resource Economics  \n",
            "1980   Ecology and Control of Vector-Borne Diseases  \n",
            "3851     Annals of the New York Academy of Sciences  \n",
            "4312     Annals of the New York Academy of Sciences  \n",
            "4458     Annals of the New York Academy of Sciences  \n",
            "4640  Current Topics in Microbiology and Immunology  \n"
          ]
        }
      ]
    },
    {
      "cell_type": "code",
      "source": [
        "# Rename these two column based on finding\n",
        "df.rename(columns={'Series': 'Series_detailed'}, inplace=True)\n",
        "# drop series_title"
      ],
      "metadata": {
        "id": "1coW1j9NJ78D"
      },
      "execution_count": 29,
      "outputs": []
    },
    {
      "cell_type": "markdown",
      "source": [
        "### 7. book_title and Book"
      ],
      "metadata": {
        "id": "oQLyCDyGK1vY"
      }
    },
    {
      "cell_type": "code",
      "source": [
        "df['book_title'].describe()"
      ],
      "metadata": {
        "colab": {
          "base_uri": "https://localhost:8080/",
          "height": 210
        },
        "id": "w-M7Qml7x0Tf",
        "outputId": "a3136bc0-08e4-416b-af45-309e8ee68b37"
      },
      "execution_count": 30,
      "outputs": [
        {
          "output_type": "execute_result",
          "data": {
            "text/plain": [
              "count                                                    62\n",
              "unique                                                   47\n",
              "top       Climate Change 2007: Impacts, Adaptation and V...\n",
              "freq                                                     11\n",
              "Name: book_title, dtype: object"
            ],
            "text/html": [
              "<div>\n",
              "<style scoped>\n",
              "    .dataframe tbody tr th:only-of-type {\n",
              "        vertical-align: middle;\n",
              "    }\n",
              "\n",
              "    .dataframe tbody tr th {\n",
              "        vertical-align: top;\n",
              "    }\n",
              "\n",
              "    .dataframe thead th {\n",
              "        text-align: right;\n",
              "    }\n",
              "</style>\n",
              "<table border=\"1\" class=\"dataframe\">\n",
              "  <thead>\n",
              "    <tr style=\"text-align: right;\">\n",
              "      <th></th>\n",
              "      <th>book_title</th>\n",
              "    </tr>\n",
              "  </thead>\n",
              "  <tbody>\n",
              "    <tr>\n",
              "      <th>count</th>\n",
              "      <td>62</td>\n",
              "    </tr>\n",
              "    <tr>\n",
              "      <th>unique</th>\n",
              "      <td>47</td>\n",
              "    </tr>\n",
              "    <tr>\n",
              "      <th>top</th>\n",
              "      <td>Climate Change 2007: Impacts, Adaptation and V...</td>\n",
              "    </tr>\n",
              "    <tr>\n",
              "      <th>freq</th>\n",
              "      <td>11</td>\n",
              "    </tr>\n",
              "  </tbody>\n",
              "</table>\n",
              "</div><br><label><b>dtype:</b> object</label>"
            ]
          },
          "metadata": {},
          "execution_count": 30
        }
      ]
    },
    {
      "cell_type": "code",
      "source": [
        "df['Book'].describe()"
      ],
      "metadata": {
        "colab": {
          "base_uri": "https://localhost:8080/",
          "height": 210
        },
        "id": "LMBpH9IryAYo",
        "outputId": "eda87f5b-da4c-4f1d-84ef-1214f18f04ff"
      },
      "execution_count": 31,
      "outputs": [
        {
          "output_type": "execute_result",
          "data": {
            "text/plain": [
              "count                                                    62\n",
              "unique                                                   47\n",
              "top       Climate Change 2007: Impacts, Adaptation and V...\n",
              "freq                                                     11\n",
              "Name: Book, dtype: object"
            ],
            "text/html": [
              "<div>\n",
              "<style scoped>\n",
              "    .dataframe tbody tr th:only-of-type {\n",
              "        vertical-align: middle;\n",
              "    }\n",
              "\n",
              "    .dataframe tbody tr th {\n",
              "        vertical-align: top;\n",
              "    }\n",
              "\n",
              "    .dataframe thead th {\n",
              "        text-align: right;\n",
              "    }\n",
              "</style>\n",
              "<table border=\"1\" class=\"dataframe\">\n",
              "  <thead>\n",
              "    <tr style=\"text-align: right;\">\n",
              "      <th></th>\n",
              "      <th>Book</th>\n",
              "    </tr>\n",
              "  </thead>\n",
              "  <tbody>\n",
              "    <tr>\n",
              "      <th>count</th>\n",
              "      <td>62</td>\n",
              "    </tr>\n",
              "    <tr>\n",
              "      <th>unique</th>\n",
              "      <td>47</td>\n",
              "    </tr>\n",
              "    <tr>\n",
              "      <th>top</th>\n",
              "      <td>Climate Change 2007: Impacts, Adaptation and V...</td>\n",
              "    </tr>\n",
              "    <tr>\n",
              "      <th>freq</th>\n",
              "      <td>11</td>\n",
              "    </tr>\n",
              "  </tbody>\n",
              "</table>\n",
              "</div><br><label><b>dtype:</b> object</label>"
            ]
          },
          "metadata": {},
          "execution_count": 31
        }
      ]
    },
    {
      "cell_type": "code",
      "source": [
        "df['Book_count']=df['Book'].str.split().str.len()\n",
        "df['book_title_count']=df['book_title'].str.split().str.len()\n",
        "\n",
        "# all zero means they are the same column, we can drop one of them\n",
        "df['check_5']=df['Book_count']-df['book_title_count']\n",
        "df['check_5'].value_counts()\n",
        "# Drop Book Column"
      ],
      "metadata": {
        "colab": {
          "base_uri": "https://localhost:8080/",
          "height": 147
        },
        "id": "NNgPNXqbyHAK",
        "outputId": "c840c687-5195-4f3e-e17e-cdb155b7df23"
      },
      "execution_count": 32,
      "outputs": [
        {
          "output_type": "execute_result",
          "data": {
            "text/plain": [
              "check_5\n",
              "0.0    62\n",
              "Name: count, dtype: int64"
            ],
            "text/html": [
              "<div>\n",
              "<style scoped>\n",
              "    .dataframe tbody tr th:only-of-type {\n",
              "        vertical-align: middle;\n",
              "    }\n",
              "\n",
              "    .dataframe tbody tr th {\n",
              "        vertical-align: top;\n",
              "    }\n",
              "\n",
              "    .dataframe thead th {\n",
              "        text-align: right;\n",
              "    }\n",
              "</style>\n",
              "<table border=\"1\" class=\"dataframe\">\n",
              "  <thead>\n",
              "    <tr style=\"text-align: right;\">\n",
              "      <th></th>\n",
              "      <th>count</th>\n",
              "    </tr>\n",
              "    <tr>\n",
              "      <th>check_5</th>\n",
              "      <th></th>\n",
              "    </tr>\n",
              "  </thead>\n",
              "  <tbody>\n",
              "    <tr>\n",
              "      <th>0.0</th>\n",
              "      <td>62</td>\n",
              "    </tr>\n",
              "  </tbody>\n",
              "</table>\n",
              "</div><br><label><b>dtype:</b> int64</label>"
            ]
          },
          "metadata": {},
          "execution_count": 32
        }
      ]
    },
    {
      "cell_type": "markdown",
      "source": [
        "### 8. page_s and Page"
      ],
      "metadata": {
        "id": "pr1pOCB5LYaH"
      }
    },
    {
      "cell_type": "code",
      "source": [
        "df['page_s'].describe()"
      ],
      "metadata": {
        "colab": {
          "base_uri": "https://localhost:8080/",
          "height": 210
        },
        "id": "T95D9DLnyPcu",
        "outputId": "0d663203-f0f2-4cb5-e8cd-7427908e2880"
      },
      "execution_count": null,
      "outputs": [
        {
          "output_type": "execute_result",
          "data": {
            "text/plain": [
              "count     19132\n",
              "unique    14935\n",
              "top           1\n",
              "freq         46\n",
              "Name: page_s, dtype: object"
            ],
            "text/html": [
              "<div>\n",
              "<style scoped>\n",
              "    .dataframe tbody tr th:only-of-type {\n",
              "        vertical-align: middle;\n",
              "    }\n",
              "\n",
              "    .dataframe tbody tr th {\n",
              "        vertical-align: top;\n",
              "    }\n",
              "\n",
              "    .dataframe thead th {\n",
              "        text-align: right;\n",
              "    }\n",
              "</style>\n",
              "<table border=\"1\" class=\"dataframe\">\n",
              "  <thead>\n",
              "    <tr style=\"text-align: right;\">\n",
              "      <th></th>\n",
              "      <th>page_s</th>\n",
              "    </tr>\n",
              "  </thead>\n",
              "  <tbody>\n",
              "    <tr>\n",
              "      <th>count</th>\n",
              "      <td>19132</td>\n",
              "    </tr>\n",
              "    <tr>\n",
              "      <th>unique</th>\n",
              "      <td>14935</td>\n",
              "    </tr>\n",
              "    <tr>\n",
              "      <th>top</th>\n",
              "      <td>1</td>\n",
              "    </tr>\n",
              "    <tr>\n",
              "      <th>freq</th>\n",
              "      <td>46</td>\n",
              "    </tr>\n",
              "  </tbody>\n",
              "</table>\n",
              "</div><br><label><b>dtype:</b> object</label>"
            ]
          },
          "metadata": {},
          "execution_count": 59
        }
      ]
    },
    {
      "cell_type": "code",
      "source": [
        "df['Page'].describe()"
      ],
      "metadata": {
        "colab": {
          "base_uri": "https://localhost:8080/",
          "height": 210
        },
        "id": "an0QGXylyYS6",
        "outputId": "201662b4-2eb6-4392-a490-bb4e82a1259d"
      },
      "execution_count": null,
      "outputs": [
        {
          "output_type": "execute_result",
          "data": {
            "text/plain": [
              "count        46\n",
              "unique       45\n",
              "top       4-Jan\n",
              "freq          2\n",
              "Name: Page, dtype: object"
            ],
            "text/html": [
              "<div>\n",
              "<style scoped>\n",
              "    .dataframe tbody tr th:only-of-type {\n",
              "        vertical-align: middle;\n",
              "    }\n",
              "\n",
              "    .dataframe tbody tr th {\n",
              "        vertical-align: top;\n",
              "    }\n",
              "\n",
              "    .dataframe thead th {\n",
              "        text-align: right;\n",
              "    }\n",
              "</style>\n",
              "<table border=\"1\" class=\"dataframe\">\n",
              "  <thead>\n",
              "    <tr style=\"text-align: right;\">\n",
              "      <th></th>\n",
              "      <th>Page</th>\n",
              "    </tr>\n",
              "  </thead>\n",
              "  <tbody>\n",
              "    <tr>\n",
              "      <th>count</th>\n",
              "      <td>46</td>\n",
              "    </tr>\n",
              "    <tr>\n",
              "      <th>unique</th>\n",
              "      <td>45</td>\n",
              "    </tr>\n",
              "    <tr>\n",
              "      <th>top</th>\n",
              "      <td>4-Jan</td>\n",
              "    </tr>\n",
              "    <tr>\n",
              "      <th>freq</th>\n",
              "      <td>2</td>\n",
              "    </tr>\n",
              "  </tbody>\n",
              "</table>\n",
              "</div><br><label><b>dtype:</b> object</label>"
            ]
          },
          "metadata": {},
          "execution_count": 58
        }
      ]
    },
    {
      "cell_type": "markdown",
      "source": [
        "### 9. journal and Journal"
      ],
      "metadata": {
        "id": "4xhplSluLoA9"
      }
    },
    {
      "cell_type": "code",
      "source": [
        "df['journal'].describe()"
      ],
      "metadata": {
        "id": "ZN82JFwxo0cc",
        "colab": {
          "base_uri": "https://localhost:8080/",
          "height": 210
        },
        "outputId": "882efcc0-4fec-4782-e694-c31c8afd0cc9"
      },
      "execution_count": 33,
      "outputs": [
        {
          "output_type": "execute_result",
          "data": {
            "text/plain": [
              "count                                                 22177\n",
              "unique                                                 4219\n",
              "top       International Journal of Environmental Researc...\n",
              "freq                                                    941\n",
              "Name: journal, dtype: object"
            ],
            "text/html": [
              "<div>\n",
              "<style scoped>\n",
              "    .dataframe tbody tr th:only-of-type {\n",
              "        vertical-align: middle;\n",
              "    }\n",
              "\n",
              "    .dataframe tbody tr th {\n",
              "        vertical-align: top;\n",
              "    }\n",
              "\n",
              "    .dataframe thead th {\n",
              "        text-align: right;\n",
              "    }\n",
              "</style>\n",
              "<table border=\"1\" class=\"dataframe\">\n",
              "  <thead>\n",
              "    <tr style=\"text-align: right;\">\n",
              "      <th></th>\n",
              "      <th>journal</th>\n",
              "    </tr>\n",
              "  </thead>\n",
              "  <tbody>\n",
              "    <tr>\n",
              "      <th>count</th>\n",
              "      <td>22177</td>\n",
              "    </tr>\n",
              "    <tr>\n",
              "      <th>unique</th>\n",
              "      <td>4219</td>\n",
              "    </tr>\n",
              "    <tr>\n",
              "      <th>top</th>\n",
              "      <td>International Journal of Environmental Researc...</td>\n",
              "    </tr>\n",
              "    <tr>\n",
              "      <th>freq</th>\n",
              "      <td>941</td>\n",
              "    </tr>\n",
              "  </tbody>\n",
              "</table>\n",
              "</div><br><label><b>dtype:</b> object</label>"
            ]
          },
          "metadata": {},
          "execution_count": 33
        }
      ]
    },
    {
      "cell_type": "code",
      "source": [
        "df['Journal'].describe()"
      ],
      "metadata": {
        "colab": {
          "base_uri": "https://localhost:8080/",
          "height": 210
        },
        "id": "wHP40ZqsL2z7",
        "outputId": "f1f6ecad-8ca8-4b3b-d978-2066240fa2d0"
      },
      "execution_count": 34,
      "outputs": [
        {
          "output_type": "execute_result",
          "data": {
            "text/plain": [
              "count                       22143\n",
              "unique                      21043\n",
              "top       Climate and Development\n",
              "freq                           24\n",
              "Name: Journal, dtype: object"
            ],
            "text/html": [
              "<div>\n",
              "<style scoped>\n",
              "    .dataframe tbody tr th:only-of-type {\n",
              "        vertical-align: middle;\n",
              "    }\n",
              "\n",
              "    .dataframe tbody tr th {\n",
              "        vertical-align: top;\n",
              "    }\n",
              "\n",
              "    .dataframe thead th {\n",
              "        text-align: right;\n",
              "    }\n",
              "</style>\n",
              "<table border=\"1\" class=\"dataframe\">\n",
              "  <thead>\n",
              "    <tr style=\"text-align: right;\">\n",
              "      <th></th>\n",
              "      <th>Journal</th>\n",
              "    </tr>\n",
              "  </thead>\n",
              "  <tbody>\n",
              "    <tr>\n",
              "      <th>count</th>\n",
              "      <td>22143</td>\n",
              "    </tr>\n",
              "    <tr>\n",
              "      <th>unique</th>\n",
              "      <td>21043</td>\n",
              "    </tr>\n",
              "    <tr>\n",
              "      <th>top</th>\n",
              "      <td>Climate and Development</td>\n",
              "    </tr>\n",
              "    <tr>\n",
              "      <th>freq</th>\n",
              "      <td>24</td>\n",
              "    </tr>\n",
              "  </tbody>\n",
              "</table>\n",
              "</div><br><label><b>dtype:</b> object</label>"
            ]
          },
          "metadata": {},
          "execution_count": 34
        }
      ]
    },
    {
      "cell_type": "code",
      "source": [
        "missing_count = df['Journal'].isna().sum()\n",
        "print(f\"Journal NaN number: {missing_count}\")"
      ],
      "metadata": {
        "colab": {
          "base_uri": "https://localhost:8080/"
        },
        "id": "Makh58iNNe1b",
        "outputId": "e1edd714-d5ad-4277-fee5-7136dcdfb28b"
      },
      "execution_count": 37,
      "outputs": [
        {
          "output_type": "stream",
          "name": "stdout",
          "text": [
            "Journal NaN number: 552\n"
          ]
        }
      ]
    },
    {
      "cell_type": "code",
      "source": [
        "missing_count = df['journal'].isna().sum()\n",
        "print(f\"journal NaN number: {missing_count}\")\n",
        "# The count difference comes from NaN number"
      ],
      "metadata": {
        "colab": {
          "base_uri": "https://localhost:8080/"
        },
        "id": "Gmf3hzYbNibb",
        "outputId": "b1f4ec72-1e5b-4311-d422-fbf652ebc9b6"
      },
      "execution_count": 38,
      "outputs": [
        {
          "output_type": "stream",
          "name": "stdout",
          "text": [
            "journal NaN number: 518\n"
          ]
        }
      ]
    },
    {
      "cell_type": "code",
      "source": [
        "for index, value in df['journal'].head(10).items():\n",
        "    if isinstance(value, str) and value.strip() != '':\n",
        "        print(f\"Index: {index}, Value: {value}\")"
      ],
      "metadata": {
        "colab": {
          "base_uri": "https://localhost:8080/"
        },
        "id": "3CNqg0NxL4mc",
        "outputId": "55a76f7b-9000-447a-99e8-7385d26d5903"
      },
      "execution_count": 35,
      "outputs": [
        {
          "output_type": "stream",
          "name": "stdout",
          "text": [
            "Index: 0, Value: The Lancet\n",
            "Index: 1, Value: Parasitology Research\n",
            "Index: 2, Value: Strategic Direction\n",
            "Index: 3, Value: Chemical and Engineering News\n",
            "Index: 9, Value: European Annals of Allergy and Clinical Immunology\n"
          ]
        }
      ]
    },
    {
      "cell_type": "code",
      "source": [
        "for index, value in df['Journal'].head(10).items():\n",
        "    if isinstance(value, str) and value.strip() != '':\n",
        "        print(f\"Index: {index}, Value: {value}\")\n",
        "# The Journal column have more information\n",
        "# drop journal"
      ],
      "metadata": {
        "colab": {
          "base_uri": "https://localhost:8080/"
        },
        "id": "IF3oh5JUMBlr",
        "outputId": "c96bc4ec-5064-4bce-852f-c851eedf4ed7"
      },
      "execution_count": 36,
      "outputs": [
        {
          "output_type": "stream",
          "name": "stdout",
          "text": [
            "Index: 0, Value: The Lancet. 371 (9613): 624\n",
            "Index: 1, Value: Parasitology Research. 103 (Suppl 1): S1-159\n",
            "Index: 2, Value: Strategic Direction. 24 (3): 8-Jun\n",
            "Index: 3, Value: Chemical and Engineering News. 86 (15): 34-34\n",
            "Index: 9, Value: European Annals of Allergy and Clinical Immunology. 41 (5): 160\n"
          ]
        }
      ]
    },
    {
      "cell_type": "markdown",
      "source": [
        "### 10. editor and Editor"
      ],
      "metadata": {
        "id": "jeG-mBvGOUeN"
      }
    },
    {
      "cell_type": "code",
      "source": [
        "df['editor'].describe()"
      ],
      "metadata": {
        "colab": {
          "base_uri": "https://localhost:8080/",
          "height": 210
        },
        "id": "Ai5pdb2ROeMt",
        "outputId": "dca9740c-1332-4a45-97f9-64fa734f594c"
      },
      "execution_count": 41,
      "outputs": [
        {
          "output_type": "execute_result",
          "data": {
            "text/plain": [
              "count                                                    17\n",
              "unique                                                   17\n",
              "top       Leary, N.;Adejuwon, J.;Barros, V.;Burton, I.;K...\n",
              "freq                                                      1\n",
              "Name: editor, dtype: object"
            ],
            "text/html": [
              "<div>\n",
              "<style scoped>\n",
              "    .dataframe tbody tr th:only-of-type {\n",
              "        vertical-align: middle;\n",
              "    }\n",
              "\n",
              "    .dataframe tbody tr th {\n",
              "        vertical-align: top;\n",
              "    }\n",
              "\n",
              "    .dataframe thead th {\n",
              "        text-align: right;\n",
              "    }\n",
              "</style>\n",
              "<table border=\"1\" class=\"dataframe\">\n",
              "  <thead>\n",
              "    <tr style=\"text-align: right;\">\n",
              "      <th></th>\n",
              "      <th>editor</th>\n",
              "    </tr>\n",
              "  </thead>\n",
              "  <tbody>\n",
              "    <tr>\n",
              "      <th>count</th>\n",
              "      <td>17</td>\n",
              "    </tr>\n",
              "    <tr>\n",
              "      <th>unique</th>\n",
              "      <td>17</td>\n",
              "    </tr>\n",
              "    <tr>\n",
              "      <th>top</th>\n",
              "      <td>Leary, N.;Adejuwon, J.;Barros, V.;Burton, I.;K...</td>\n",
              "    </tr>\n",
              "    <tr>\n",
              "      <th>freq</th>\n",
              "      <td>1</td>\n",
              "    </tr>\n",
              "  </tbody>\n",
              "</table>\n",
              "</div><br><label><b>dtype:</b> object</label>"
            ]
          },
          "metadata": {},
          "execution_count": 41
        }
      ]
    },
    {
      "cell_type": "code",
      "source": [
        "df['Editor'].describe()"
      ],
      "metadata": {
        "colab": {
          "base_uri": "https://localhost:8080/",
          "height": 210
        },
        "id": "D9pIVp8bOhiH",
        "outputId": "42f3ce06-e1f5-42f9-9569-14d0d4fe84f0"
      },
      "execution_count": 42,
      "outputs": [
        {
          "output_type": "execute_result",
          "data": {
            "text/plain": [
              "count                                                    17\n",
              "unique                                                   17\n",
              "top       Leary, N.; Adejuwon, J.; Barros, V.; Burton, I...\n",
              "freq                                                      1\n",
              "Name: Editor, dtype: object"
            ],
            "text/html": [
              "<div>\n",
              "<style scoped>\n",
              "    .dataframe tbody tr th:only-of-type {\n",
              "        vertical-align: middle;\n",
              "    }\n",
              "\n",
              "    .dataframe tbody tr th {\n",
              "        vertical-align: top;\n",
              "    }\n",
              "\n",
              "    .dataframe thead th {\n",
              "        text-align: right;\n",
              "    }\n",
              "</style>\n",
              "<table border=\"1\" class=\"dataframe\">\n",
              "  <thead>\n",
              "    <tr style=\"text-align: right;\">\n",
              "      <th></th>\n",
              "      <th>Editor</th>\n",
              "    </tr>\n",
              "  </thead>\n",
              "  <tbody>\n",
              "    <tr>\n",
              "      <th>count</th>\n",
              "      <td>17</td>\n",
              "    </tr>\n",
              "    <tr>\n",
              "      <th>unique</th>\n",
              "      <td>17</td>\n",
              "    </tr>\n",
              "    <tr>\n",
              "      <th>top</th>\n",
              "      <td>Leary, N.; Adejuwon, J.; Barros, V.; Burton, I...</td>\n",
              "    </tr>\n",
              "    <tr>\n",
              "      <th>freq</th>\n",
              "      <td>1</td>\n",
              "    </tr>\n",
              "  </tbody>\n",
              "</table>\n",
              "</div><br><label><b>dtype:</b> object</label>"
            ]
          },
          "metadata": {},
          "execution_count": 42
        }
      ]
    },
    {
      "cell_type": "code",
      "source": [
        "df['Editor_count']=df['Editor'].str.split().str.len()\n",
        "df['editor_title_count']=df['editor'].str.split().str.len()\n",
        "\n",
        "# all zero means they are the same column, we can drop one of them\n",
        "df['check_6']=df['Editor_count']-df['editor_title_count']\n",
        "df['check_6'].value_counts()\n",
        "# Drop Book Column"
      ],
      "metadata": {
        "colab": {
          "base_uri": "https://localhost:8080/",
          "height": 304
        },
        "id": "5zr68K1yOk4N",
        "outputId": "bc4cab44-2a5c-4fd6-881e-577140714ddf"
      },
      "execution_count": 45,
      "outputs": [
        {
          "output_type": "execute_result",
          "data": {
            "text/plain": [
              "check_6\n",
              "0.0    5\n",
              "4.0    4\n",
              "3.0    3\n",
              "1.0    2\n",
              "2.0    2\n",
              "5.0    1\n",
              "Name: count, dtype: int64"
            ],
            "text/html": [
              "<div>\n",
              "<style scoped>\n",
              "    .dataframe tbody tr th:only-of-type {\n",
              "        vertical-align: middle;\n",
              "    }\n",
              "\n",
              "    .dataframe tbody tr th {\n",
              "        vertical-align: top;\n",
              "    }\n",
              "\n",
              "    .dataframe thead th {\n",
              "        text-align: right;\n",
              "    }\n",
              "</style>\n",
              "<table border=\"1\" class=\"dataframe\">\n",
              "  <thead>\n",
              "    <tr style=\"text-align: right;\">\n",
              "      <th></th>\n",
              "      <th>count</th>\n",
              "    </tr>\n",
              "    <tr>\n",
              "      <th>check_6</th>\n",
              "      <th></th>\n",
              "    </tr>\n",
              "  </thead>\n",
              "  <tbody>\n",
              "    <tr>\n",
              "      <th>0.0</th>\n",
              "      <td>5</td>\n",
              "    </tr>\n",
              "    <tr>\n",
              "      <th>4.0</th>\n",
              "      <td>4</td>\n",
              "    </tr>\n",
              "    <tr>\n",
              "      <th>3.0</th>\n",
              "      <td>3</td>\n",
              "    </tr>\n",
              "    <tr>\n",
              "      <th>1.0</th>\n",
              "      <td>2</td>\n",
              "    </tr>\n",
              "    <tr>\n",
              "      <th>2.0</th>\n",
              "      <td>2</td>\n",
              "    </tr>\n",
              "    <tr>\n",
              "      <th>5.0</th>\n",
              "      <td>1</td>\n",
              "    </tr>\n",
              "  </tbody>\n",
              "</table>\n",
              "</div><br><label><b>dtype:</b> int64</label>"
            ]
          },
          "metadata": {},
          "execution_count": 45
        }
      ]
    },
    {
      "cell_type": "code",
      "source": [
        "result_rows = df[df['check_6'] == 4]\n",
        "print(result_rows[['editor', 'Editor']])\n",
        "# The Series column have more information than series_title"
      ],
      "metadata": {
        "colab": {
          "base_uri": "https://localhost:8080/"
        },
        "id": "F47aGNztPR0x",
        "outputId": "9310df7e-dcd6-4fe0-95b1-28378b4fb7ee"
      },
      "execution_count": 48,
      "outputs": [
        {
          "output_type": "stream",
          "name": "stdout",
          "text": [
            "                                                 editor  \\\n",
            "5     Leary, N.;Conde, C.;Kulkarni, J.;Nyong, A.;Pul...   \n",
            "12    Brauch, H. G.;Behera, N. C.; ;Kameri-Mbote, P....   \n",
            "1072  Parry, M. L.;Canziani, O. F.;Palutikof, J. P.;...   \n",
            "1073  Metz, B.;Davidson, O.;Bosch, P.;Dave, R.;Meyer...   \n",
            "\n",
            "                                                 Editor  \n",
            "5     Leary, N.; Conde, C.; Kulkarni, J.; Nyong, A.;...  \n",
            "12    Brauch, H. G.; Behera, N. C.; ; Kameri-Mbote, ...  \n",
            "1072  Parry, M. L.; Canziani, O. F.; Palutikof, J. P...  \n",
            "1073  Metz, B.; Davidson, O.; Bosch, P.; Dave, R.; M...  \n"
          ]
        }
      ]
    },
    {
      "cell_type": "code",
      "source": [
        "print(df['editor'][5])\n",
        "print(df['Editor'][5])\n",
        "# Editor have more sapce\n",
        "# drop editor column"
      ],
      "metadata": {
        "colab": {
          "base_uri": "https://localhost:8080/"
        },
        "id": "kDBK6fKgPLTr",
        "outputId": "9c64cb90-8df6-48ec-cd40-01b7e862d2ab"
      },
      "execution_count": 50,
      "outputs": [
        {
          "output_type": "stream",
          "name": "stdout",
          "text": [
            "Leary, N.;Conde, C.;Kulkarni, J.;Nyong, A.;Pulhin, J.\n",
            "Leary, N.; Conde, C.; Kulkarni, J.; Nyong, A.; Pulhin, J.\n"
          ]
        }
      ]
    },
    {
      "cell_type": "markdown",
      "source": [
        "### 11. conference and Conference"
      ],
      "metadata": {
        "id": "d5r3P8gDP1mU"
      }
    },
    {
      "cell_type": "code",
      "source": [
        "df['conference'].describe()"
      ],
      "metadata": {
        "colab": {
          "base_uri": "https://localhost:8080/",
          "height": 210
        },
        "id": "hpAwm_ASP422",
        "outputId": "9a29e14f-6298-43da-da10-d0b8d8679630"
      },
      "execution_count": 51,
      "outputs": [
        {
          "output_type": "execute_result",
          "data": {
            "text/plain": [
              "count                                                    67\n",
              "unique                                                   57\n",
              "top       International Alliance of Research Universitie...\n",
              "freq                                                      5\n",
              "Name: conference, dtype: object"
            ],
            "text/html": [
              "<div>\n",
              "<style scoped>\n",
              "    .dataframe tbody tr th:only-of-type {\n",
              "        vertical-align: middle;\n",
              "    }\n",
              "\n",
              "    .dataframe tbody tr th {\n",
              "        vertical-align: top;\n",
              "    }\n",
              "\n",
              "    .dataframe thead th {\n",
              "        text-align: right;\n",
              "    }\n",
              "</style>\n",
              "<table border=\"1\" class=\"dataframe\">\n",
              "  <thead>\n",
              "    <tr style=\"text-align: right;\">\n",
              "      <th></th>\n",
              "      <th>conference</th>\n",
              "    </tr>\n",
              "  </thead>\n",
              "  <tbody>\n",
              "    <tr>\n",
              "      <th>count</th>\n",
              "      <td>67</td>\n",
              "    </tr>\n",
              "    <tr>\n",
              "      <th>unique</th>\n",
              "      <td>57</td>\n",
              "    </tr>\n",
              "    <tr>\n",
              "      <th>top</th>\n",
              "      <td>International Alliance of Research Universitie...</td>\n",
              "    </tr>\n",
              "    <tr>\n",
              "      <th>freq</th>\n",
              "      <td>5</td>\n",
              "    </tr>\n",
              "  </tbody>\n",
              "</table>\n",
              "</div><br><label><b>dtype:</b> object</label>"
            ]
          },
          "metadata": {},
          "execution_count": 51
        }
      ]
    },
    {
      "cell_type": "code",
      "source": [
        "df['Conference'].describe()"
      ],
      "metadata": {
        "colab": {
          "base_uri": "https://localhost:8080/",
          "height": 210
        },
        "id": "IZvTxTIjQMcr",
        "outputId": "85f30e04-afe2-4f96-d6aa-0c3aaef70a8d"
      },
      "execution_count": 52,
      "outputs": [
        {
          "output_type": "execute_result",
          "data": {
            "text/plain": [
              "count                                                    67\n",
              "unique                                                   57\n",
              "top       International Alliance of Research Universitie...\n",
              "freq                                                      5\n",
              "Name: Conference, dtype: object"
            ],
            "text/html": [
              "<div>\n",
              "<style scoped>\n",
              "    .dataframe tbody tr th:only-of-type {\n",
              "        vertical-align: middle;\n",
              "    }\n",
              "\n",
              "    .dataframe tbody tr th {\n",
              "        vertical-align: top;\n",
              "    }\n",
              "\n",
              "    .dataframe thead th {\n",
              "        text-align: right;\n",
              "    }\n",
              "</style>\n",
              "<table border=\"1\" class=\"dataframe\">\n",
              "  <thead>\n",
              "    <tr style=\"text-align: right;\">\n",
              "      <th></th>\n",
              "      <th>Conference</th>\n",
              "    </tr>\n",
              "  </thead>\n",
              "  <tbody>\n",
              "    <tr>\n",
              "      <th>count</th>\n",
              "      <td>67</td>\n",
              "    </tr>\n",
              "    <tr>\n",
              "      <th>unique</th>\n",
              "      <td>57</td>\n",
              "    </tr>\n",
              "    <tr>\n",
              "      <th>top</th>\n",
              "      <td>International Alliance of Research Universitie...</td>\n",
              "    </tr>\n",
              "    <tr>\n",
              "      <th>freq</th>\n",
              "      <td>5</td>\n",
              "    </tr>\n",
              "  </tbody>\n",
              "</table>\n",
              "</div><br><label><b>dtype:</b> object</label>"
            ]
          },
          "metadata": {},
          "execution_count": 52
        }
      ]
    },
    {
      "cell_type": "code",
      "source": [
        "df['Conference_count']=df['Conference'].str.split().str.len()\n",
        "df['conference_count']=df['conference'].str.split().str.len()\n",
        "\n",
        "# all zero means they are the same column, we can drop one of them\n",
        "df['check_7']=df['conference_count']-df['Conference_count']\n",
        "df['check_7'].value_counts()\n",
        "# Drop Conference Column"
      ],
      "metadata": {
        "colab": {
          "base_uri": "https://localhost:8080/",
          "height": 147
        },
        "id": "ZTpSbGLAQOnF",
        "outputId": "2bdb8e25-4cf6-4d0d-f009-c730fcf20c26"
      },
      "execution_count": 53,
      "outputs": [
        {
          "output_type": "execute_result",
          "data": {
            "text/plain": [
              "check_7\n",
              "0.0    67\n",
              "Name: count, dtype: int64"
            ],
            "text/html": [
              "<div>\n",
              "<style scoped>\n",
              "    .dataframe tbody tr th:only-of-type {\n",
              "        vertical-align: middle;\n",
              "    }\n",
              "\n",
              "    .dataframe tbody tr th {\n",
              "        vertical-align: top;\n",
              "    }\n",
              "\n",
              "    .dataframe thead th {\n",
              "        text-align: right;\n",
              "    }\n",
              "</style>\n",
              "<table border=\"1\" class=\"dataframe\">\n",
              "  <thead>\n",
              "    <tr style=\"text-align: right;\">\n",
              "      <th></th>\n",
              "      <th>count</th>\n",
              "    </tr>\n",
              "    <tr>\n",
              "      <th>check_7</th>\n",
              "      <th></th>\n",
              "    </tr>\n",
              "  </thead>\n",
              "  <tbody>\n",
              "    <tr>\n",
              "      <th>0.0</th>\n",
              "      <td>67</td>\n",
              "    </tr>\n",
              "  </tbody>\n",
              "</table>\n",
              "</div><br><label><b>dtype:</b> int64</label>"
            ]
          },
          "metadata": {},
          "execution_count": 53
        }
      ]
    },
    {
      "cell_type": "markdown",
      "source": [
        "### 12. volume and Volume"
      ],
      "metadata": {
        "id": "VxyU8DVTQxLl"
      }
    },
    {
      "cell_type": "code",
      "source": [
        "df['volume'].describe()"
      ],
      "metadata": {
        "colab": {
          "base_uri": "https://localhost:8080/",
          "height": 210
        },
        "id": "r8Xwthr9Q3pm",
        "outputId": "776539a9-6579-4d38-d3de-1cfbe5a9c728"
      },
      "execution_count": 54,
      "outputs": [
        {
          "output_type": "execute_result",
          "data": {
            "text/plain": [
              "count     21518\n",
              "unique      894\n",
              "top          10\n",
              "freq        605\n",
              "Name: volume, dtype: object"
            ],
            "text/html": [
              "<div>\n",
              "<style scoped>\n",
              "    .dataframe tbody tr th:only-of-type {\n",
              "        vertical-align: middle;\n",
              "    }\n",
              "\n",
              "    .dataframe tbody tr th {\n",
              "        vertical-align: top;\n",
              "    }\n",
              "\n",
              "    .dataframe thead th {\n",
              "        text-align: right;\n",
              "    }\n",
              "</style>\n",
              "<table border=\"1\" class=\"dataframe\">\n",
              "  <thead>\n",
              "    <tr style=\"text-align: right;\">\n",
              "      <th></th>\n",
              "      <th>volume</th>\n",
              "    </tr>\n",
              "  </thead>\n",
              "  <tbody>\n",
              "    <tr>\n",
              "      <th>count</th>\n",
              "      <td>21518</td>\n",
              "    </tr>\n",
              "    <tr>\n",
              "      <th>unique</th>\n",
              "      <td>894</td>\n",
              "    </tr>\n",
              "    <tr>\n",
              "      <th>top</th>\n",
              "      <td>10</td>\n",
              "    </tr>\n",
              "    <tr>\n",
              "      <th>freq</th>\n",
              "      <td>605</td>\n",
              "    </tr>\n",
              "  </tbody>\n",
              "</table>\n",
              "</div><br><label><b>dtype:</b> object</label>"
            ]
          },
          "metadata": {},
          "execution_count": 54
        }
      ]
    },
    {
      "cell_type": "code",
      "source": [
        "df['Volume'].describe()"
      ],
      "metadata": {
        "colab": {
          "base_uri": "https://localhost:8080/",
          "height": 210
        },
        "id": "1hr5VAN0Q5k_",
        "outputId": "399043ae-e783-4536-d8e8-d4047aa55f5f"
      },
      "execution_count": 56,
      "outputs": [
        {
          "output_type": "execute_result",
          "data": {
            "text/plain": [
              "count     25\n",
              "unique    13\n",
              "top        6\n",
              "freq       7\n",
              "Name: Volume, dtype: object"
            ],
            "text/html": [
              "<div>\n",
              "<style scoped>\n",
              "    .dataframe tbody tr th:only-of-type {\n",
              "        vertical-align: middle;\n",
              "    }\n",
              "\n",
              "    .dataframe tbody tr th {\n",
              "        vertical-align: top;\n",
              "    }\n",
              "\n",
              "    .dataframe thead th {\n",
              "        text-align: right;\n",
              "    }\n",
              "</style>\n",
              "<table border=\"1\" class=\"dataframe\">\n",
              "  <thead>\n",
              "    <tr style=\"text-align: right;\">\n",
              "      <th></th>\n",
              "      <th>Volume</th>\n",
              "    </tr>\n",
              "  </thead>\n",
              "  <tbody>\n",
              "    <tr>\n",
              "      <th>count</th>\n",
              "      <td>25</td>\n",
              "    </tr>\n",
              "    <tr>\n",
              "      <th>unique</th>\n",
              "      <td>13</td>\n",
              "    </tr>\n",
              "    <tr>\n",
              "      <th>top</th>\n",
              "      <td>6</td>\n",
              "    </tr>\n",
              "    <tr>\n",
              "      <th>freq</th>\n",
              "      <td>7</td>\n",
              "    </tr>\n",
              "  </tbody>\n",
              "</table>\n",
              "</div><br><label><b>dtype:</b> object</label>"
            ]
          },
          "metadata": {},
          "execution_count": 56
        }
      ]
    },
    {
      "cell_type": "code",
      "source": [
        "for index, value in df['volume'].head(10).items():\n",
        "    if isinstance(value, str) and value.strip() != '':\n",
        "        print(f\"Index: {index}, Value: {value}\")"
      ],
      "metadata": {
        "colab": {
          "base_uri": "https://localhost:8080/"
        },
        "id": "zz4ez74LQ7mq",
        "outputId": "9f759739-a13e-4470-8f6c-5d127b6eb97b"
      },
      "execution_count": 57,
      "outputs": [
        {
          "output_type": "stream",
          "name": "stdout",
          "text": [
            "Index: 0, Value: 371\n",
            "Index: 1, Value: 103\n",
            "Index: 2, Value: 24\n",
            "Index: 3, Value: 86\n",
            "Index: 9, Value: 41\n"
          ]
        }
      ]
    },
    {
      "cell_type": "code",
      "source": [
        "for index, value in df['Volume'].head(100).items():\n",
        "    if isinstance(value, str) and value.strip() != '':\n",
        "        print(f\"Index: {index}, Value: {value}\")"
      ],
      "metadata": {
        "colab": {
          "base_uri": "https://localhost:8080/"
        },
        "id": "CRnre-TIQ_Wy",
        "outputId": "48bb4f5c-537a-4b41-ab5a-191c04172bb7"
      },
      "execution_count": 60,
      "outputs": [
        {
          "output_type": "stream",
          "name": "stdout",
          "text": [
            "Index: 54, Value: 6\n"
          ]
        }
      ]
    },
    {
      "cell_type": "code",
      "source": [
        "df.rename(columns={'volume': 'volume_detailed'}, inplace=True)"
      ],
      "metadata": {
        "id": "8pID7mrRROxk"
      },
      "execution_count": 61,
      "outputs": []
    },
    {
      "cell_type": "markdown",
      "source": [
        "### Output clean duplicate csv file"
      ],
      "metadata": {
        "id": "D9T3LsujSTXy"
      }
    },
    {
      "cell_type": "code",
      "source": [
        "# drop calculataion column\n",
        "df = df.drop(columns=df.filter(regex=r'(?i)count$|^check').columns)"
      ],
      "metadata": {
        "id": "hWbKsHBPSS7E"
      },
      "execution_count": 70,
      "outputs": []
    },
    {
      "cell_type": "code",
      "source": [
        "df.dtypes"
      ],
      "metadata": {
        "colab": {
          "base_uri": "https://localhost:8080/",
          "height": 1000
        },
        "id": "eVXfqhuxTY6S",
        "outputId": "5e4f0998-28a4-4a02-df92-dfef2eec002f"
      },
      "execution_count": 79,
      "outputs": [
        {
          "output_type": "execute_result",
          "data": {
            "text/plain": [
              "reference_id                                    int64\n",
              "publisher                                      object\n",
              "reference_title                                object\n",
              "series_editor                                  object\n",
              "reference_type                                 object\n",
              "journal                                        object\n",
              "num                                             int64\n",
              "volume_detailed                                object\n",
              "year_published                                  int64\n",
              "author                                         object\n",
              "series_title                                   object\n",
              "geo                                             int64\n",
              "issue                                          object\n",
              "editor                                         object\n",
              "conference                                     object\n",
              "place_published                                object\n",
              "skip                                            int64\n",
              "geo_nonus                                     float64\n",
              "page_s                                         object\n",
              "university                                     object\n",
              "book_title                                     object\n",
              "Title                                          object\n",
              "Author(s)                                      object\n",
              "Year                                          float64\n",
              "Journal                                        object\n",
              "Source                                         object\n",
              "Exposure                                       object\n",
              "Geographic Feature                             object\n",
              "Geographic Location                            object\n",
              "Health Impact                                  object\n",
              "Resource Type                                  object\n",
              "Special Topic                                  object\n",
              "Abstract                                       object\n",
              "Series_detailed                                object\n",
              "Editor                                         object\n",
              "publisher_detailed                             object\n",
              "Model/Methodology                              object\n",
              "Model Timescale                                object\n",
              "Climate Change and Socioeconomic Scenarios     object\n",
              "Book                                           object\n",
              "Volume                                         object\n",
              "Page                                           object\n",
              "Conference                                     object\n",
              "dtype: object"
            ],
            "text/html": [
              "<div>\n",
              "<style scoped>\n",
              "    .dataframe tbody tr th:only-of-type {\n",
              "        vertical-align: middle;\n",
              "    }\n",
              "\n",
              "    .dataframe tbody tr th {\n",
              "        vertical-align: top;\n",
              "    }\n",
              "\n",
              "    .dataframe thead th {\n",
              "        text-align: right;\n",
              "    }\n",
              "</style>\n",
              "<table border=\"1\" class=\"dataframe\">\n",
              "  <thead>\n",
              "    <tr style=\"text-align: right;\">\n",
              "      <th></th>\n",
              "      <th>0</th>\n",
              "    </tr>\n",
              "  </thead>\n",
              "  <tbody>\n",
              "    <tr>\n",
              "      <th>reference_id</th>\n",
              "      <td>int64</td>\n",
              "    </tr>\n",
              "    <tr>\n",
              "      <th>publisher</th>\n",
              "      <td>object</td>\n",
              "    </tr>\n",
              "    <tr>\n",
              "      <th>reference_title</th>\n",
              "      <td>object</td>\n",
              "    </tr>\n",
              "    <tr>\n",
              "      <th>series_editor</th>\n",
              "      <td>object</td>\n",
              "    </tr>\n",
              "    <tr>\n",
              "      <th>reference_type</th>\n",
              "      <td>object</td>\n",
              "    </tr>\n",
              "    <tr>\n",
              "      <th>journal</th>\n",
              "      <td>object</td>\n",
              "    </tr>\n",
              "    <tr>\n",
              "      <th>num</th>\n",
              "      <td>int64</td>\n",
              "    </tr>\n",
              "    <tr>\n",
              "      <th>volume_detailed</th>\n",
              "      <td>object</td>\n",
              "    </tr>\n",
              "    <tr>\n",
              "      <th>year_published</th>\n",
              "      <td>int64</td>\n",
              "    </tr>\n",
              "    <tr>\n",
              "      <th>author</th>\n",
              "      <td>object</td>\n",
              "    </tr>\n",
              "    <tr>\n",
              "      <th>series_title</th>\n",
              "      <td>object</td>\n",
              "    </tr>\n",
              "    <tr>\n",
              "      <th>geo</th>\n",
              "      <td>int64</td>\n",
              "    </tr>\n",
              "    <tr>\n",
              "      <th>issue</th>\n",
              "      <td>object</td>\n",
              "    </tr>\n",
              "    <tr>\n",
              "      <th>editor</th>\n",
              "      <td>object</td>\n",
              "    </tr>\n",
              "    <tr>\n",
              "      <th>conference</th>\n",
              "      <td>object</td>\n",
              "    </tr>\n",
              "    <tr>\n",
              "      <th>place_published</th>\n",
              "      <td>object</td>\n",
              "    </tr>\n",
              "    <tr>\n",
              "      <th>skip</th>\n",
              "      <td>int64</td>\n",
              "    </tr>\n",
              "    <tr>\n",
              "      <th>geo_nonus</th>\n",
              "      <td>float64</td>\n",
              "    </tr>\n",
              "    <tr>\n",
              "      <th>page_s</th>\n",
              "      <td>object</td>\n",
              "    </tr>\n",
              "    <tr>\n",
              "      <th>university</th>\n",
              "      <td>object</td>\n",
              "    </tr>\n",
              "    <tr>\n",
              "      <th>book_title</th>\n",
              "      <td>object</td>\n",
              "    </tr>\n",
              "    <tr>\n",
              "      <th>Title</th>\n",
              "      <td>object</td>\n",
              "    </tr>\n",
              "    <tr>\n",
              "      <th>Author(s)</th>\n",
              "      <td>object</td>\n",
              "    </tr>\n",
              "    <tr>\n",
              "      <th>Year</th>\n",
              "      <td>float64</td>\n",
              "    </tr>\n",
              "    <tr>\n",
              "      <th>Journal</th>\n",
              "      <td>object</td>\n",
              "    </tr>\n",
              "    <tr>\n",
              "      <th>Source</th>\n",
              "      <td>object</td>\n",
              "    </tr>\n",
              "    <tr>\n",
              "      <th>Exposure</th>\n",
              "      <td>object</td>\n",
              "    </tr>\n",
              "    <tr>\n",
              "      <th>Geographic Feature</th>\n",
              "      <td>object</td>\n",
              "    </tr>\n",
              "    <tr>\n",
              "      <th>Geographic Location</th>\n",
              "      <td>object</td>\n",
              "    </tr>\n",
              "    <tr>\n",
              "      <th>Health Impact</th>\n",
              "      <td>object</td>\n",
              "    </tr>\n",
              "    <tr>\n",
              "      <th>Resource Type</th>\n",
              "      <td>object</td>\n",
              "    </tr>\n",
              "    <tr>\n",
              "      <th>Special Topic</th>\n",
              "      <td>object</td>\n",
              "    </tr>\n",
              "    <tr>\n",
              "      <th>Abstract</th>\n",
              "      <td>object</td>\n",
              "    </tr>\n",
              "    <tr>\n",
              "      <th>Series_detailed</th>\n",
              "      <td>object</td>\n",
              "    </tr>\n",
              "    <tr>\n",
              "      <th>Editor</th>\n",
              "      <td>object</td>\n",
              "    </tr>\n",
              "    <tr>\n",
              "      <th>publisher_detailed</th>\n",
              "      <td>object</td>\n",
              "    </tr>\n",
              "    <tr>\n",
              "      <th>Model/Methodology</th>\n",
              "      <td>object</td>\n",
              "    </tr>\n",
              "    <tr>\n",
              "      <th>Model Timescale</th>\n",
              "      <td>object</td>\n",
              "    </tr>\n",
              "    <tr>\n",
              "      <th>Climate Change and Socioeconomic Scenarios</th>\n",
              "      <td>object</td>\n",
              "    </tr>\n",
              "    <tr>\n",
              "      <th>Book</th>\n",
              "      <td>object</td>\n",
              "    </tr>\n",
              "    <tr>\n",
              "      <th>Volume</th>\n",
              "      <td>object</td>\n",
              "    </tr>\n",
              "    <tr>\n",
              "      <th>Page</th>\n",
              "      <td>object</td>\n",
              "    </tr>\n",
              "    <tr>\n",
              "      <th>Conference</th>\n",
              "      <td>object</td>\n",
              "    </tr>\n",
              "  </tbody>\n",
              "</table>\n",
              "</div><br><label><b>dtype:</b> object</label>"
            ]
          },
          "metadata": {},
          "execution_count": 79
        }
      ]
    },
    {
      "cell_type": "code",
      "source": [
        "# Aftring using checking code, drop some duplicate columns\n",
        "drop_columns=['publisher', 'Title', 'Year', 'author', 'series_title', 'Book', 'journal', 'editor', 'Conference']\n",
        "for col in drop_columns:\n",
        "  df.drop(col, axis=1, inplace=True)"
      ],
      "metadata": {
        "id": "lbJCO1U-ToCP"
      },
      "execution_count": 80,
      "outputs": []
    },
    {
      "cell_type": "code",
      "source": [
        "df.to_csv('cchhl_all_flatten_cleanduplicate.csv', index=False)\n"
      ],
      "metadata": {
        "id": "shqKGUydSaXW"
      },
      "execution_count": 81,
      "outputs": []
    }
  ]
}