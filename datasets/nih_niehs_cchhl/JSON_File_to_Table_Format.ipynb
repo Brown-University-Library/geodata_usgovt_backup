{
  "nbformat": 4,
  "nbformat_minor": 0,
  "metadata": {
    "colab": {
      "provenance": []
    },
    "kernelspec": {
      "name": "python3",
      "display_name": "Python 3"
    },
    "language_info": {
      "name": "python"
    }
  },
  "cells": [
    {
      "cell_type": "markdown",
      "source": [
        "##JSON File to Table Format\n",
        "\n",
        "## Zheng Zeng-Mar 10.2025\n",
        "\n",
        "\n",
        "---\n",
        "\n",
        "\n",
        "\n"
      ],
      "metadata": {
        "id": "c0MhpWRFLDB9"
      }
    },
    {
      "cell_type": "markdown",
      "source": [
        "### 1. Read JSON file into dataframe"
      ],
      "metadata": {
        "id": "TqRtXfV57d9v"
      }
    },
    {
      "cell_type": "code",
      "execution_count": 1,
      "metadata": {
        "id": "zfcwKrRIknJw"
      },
      "outputs": [],
      "source": [
        "import pandas as pd"
      ]
    },
    {
      "cell_type": "code",
      "source": [
        "# Read the json file\n",
        "df=pd.read_json('/content/cchhl_all.jsonl', lines=True)"
      ],
      "metadata": {
        "id": "ZdIBqknHksnt"
      },
      "execution_count": 2,
      "outputs": []
    },
    {
      "cell_type": "code",
      "source": [
        "# Familiar with database\n",
        "df.head()\n",
        "# This json file have two column need to be flatten: Search_result & record"
      ],
      "metadata": {
        "colab": {
          "base_uri": "https://localhost:8080/",
          "height": 258
        },
        "id": "knWI-zzsqFjo",
        "outputId": "491656c4-e5d1-433a-ce28-939a64c5a42d"
      },
      "execution_count": 3,
      "outputs": [
        {
          "output_type": "execute_result",
          "data": {
            "text/plain": [
              "   reference_id                                      search_result  \\\n",
              "0             1  {'publisher': '', 'reference_title': 'Adapting...   \n",
              "1             2  {'publisher': '', 'reference_title': 'Vector-b...   \n",
              "2             3  {'publisher': '', 'reference_title': 'Plan for...   \n",
              "3             4  {'publisher': '', 'reference_title': 'Health i...   \n",
              "4             5  {'publisher': 'Routledge', 'reference_title': ...   \n",
              "\n",
              "                                              record  \n",
              "0  {'Title': 'Adapting to climate change', 'Autho...  \n",
              "1  {'Title': 'Vector-borne diseases: Impact of cl...  \n",
              "2  {'Title': 'Plan for disaster before it happens...  \n",
              "3  {'Title': 'Health impacts of climate change', ...  \n",
              "4  {'Title': 'Climate change and adaptation', 'Au...  "
            ],
            "text/html": [
              "\n",
              "  <div id=\"df-0328d34f-2430-464e-a84e-b5c4e062c524\" class=\"colab-df-container\">\n",
              "    <div>\n",
              "<style scoped>\n",
              "    .dataframe tbody tr th:only-of-type {\n",
              "        vertical-align: middle;\n",
              "    }\n",
              "\n",
              "    .dataframe tbody tr th {\n",
              "        vertical-align: top;\n",
              "    }\n",
              "\n",
              "    .dataframe thead th {\n",
              "        text-align: right;\n",
              "    }\n",
              "</style>\n",
              "<table border=\"1\" class=\"dataframe\">\n",
              "  <thead>\n",
              "    <tr style=\"text-align: right;\">\n",
              "      <th></th>\n",
              "      <th>reference_id</th>\n",
              "      <th>search_result</th>\n",
              "      <th>record</th>\n",
              "    </tr>\n",
              "  </thead>\n",
              "  <tbody>\n",
              "    <tr>\n",
              "      <th>0</th>\n",
              "      <td>1</td>\n",
              "      <td>{'publisher': '', 'reference_title': 'Adapting...</td>\n",
              "      <td>{'Title': 'Adapting to climate change', 'Autho...</td>\n",
              "    </tr>\n",
              "    <tr>\n",
              "      <th>1</th>\n",
              "      <td>2</td>\n",
              "      <td>{'publisher': '', 'reference_title': 'Vector-b...</td>\n",
              "      <td>{'Title': 'Vector-borne diseases: Impact of cl...</td>\n",
              "    </tr>\n",
              "    <tr>\n",
              "      <th>2</th>\n",
              "      <td>3</td>\n",
              "      <td>{'publisher': '', 'reference_title': 'Plan for...</td>\n",
              "      <td>{'Title': 'Plan for disaster before it happens...</td>\n",
              "    </tr>\n",
              "    <tr>\n",
              "      <th>3</th>\n",
              "      <td>4</td>\n",
              "      <td>{'publisher': '', 'reference_title': 'Health i...</td>\n",
              "      <td>{'Title': 'Health impacts of climate change', ...</td>\n",
              "    </tr>\n",
              "    <tr>\n",
              "      <th>4</th>\n",
              "      <td>5</td>\n",
              "      <td>{'publisher': 'Routledge', 'reference_title': ...</td>\n",
              "      <td>{'Title': 'Climate change and adaptation', 'Au...</td>\n",
              "    </tr>\n",
              "  </tbody>\n",
              "</table>\n",
              "</div>\n",
              "    <div class=\"colab-df-buttons\">\n",
              "\n",
              "  <div class=\"colab-df-container\">\n",
              "    <button class=\"colab-df-convert\" onclick=\"convertToInteractive('df-0328d34f-2430-464e-a84e-b5c4e062c524')\"\n",
              "            title=\"Convert this dataframe to an interactive table.\"\n",
              "            style=\"display:none;\">\n",
              "\n",
              "  <svg xmlns=\"http://www.w3.org/2000/svg\" height=\"24px\" viewBox=\"0 -960 960 960\">\n",
              "    <path d=\"M120-120v-720h720v720H120Zm60-500h600v-160H180v160Zm220 220h160v-160H400v160Zm0 220h160v-160H400v160ZM180-400h160v-160H180v160Zm440 0h160v-160H620v160ZM180-180h160v-160H180v160Zm440 0h160v-160H620v160Z\"/>\n",
              "  </svg>\n",
              "    </button>\n",
              "\n",
              "  <style>\n",
              "    .colab-df-container {\n",
              "      display:flex;\n",
              "      gap: 12px;\n",
              "    }\n",
              "\n",
              "    .colab-df-convert {\n",
              "      background-color: #E8F0FE;\n",
              "      border: none;\n",
              "      border-radius: 50%;\n",
              "      cursor: pointer;\n",
              "      display: none;\n",
              "      fill: #1967D2;\n",
              "      height: 32px;\n",
              "      padding: 0 0 0 0;\n",
              "      width: 32px;\n",
              "    }\n",
              "\n",
              "    .colab-df-convert:hover {\n",
              "      background-color: #E2EBFA;\n",
              "      box-shadow: 0px 1px 2px rgba(60, 64, 67, 0.3), 0px 1px 3px 1px rgba(60, 64, 67, 0.15);\n",
              "      fill: #174EA6;\n",
              "    }\n",
              "\n",
              "    .colab-df-buttons div {\n",
              "      margin-bottom: 4px;\n",
              "    }\n",
              "\n",
              "    [theme=dark] .colab-df-convert {\n",
              "      background-color: #3B4455;\n",
              "      fill: #D2E3FC;\n",
              "    }\n",
              "\n",
              "    [theme=dark] .colab-df-convert:hover {\n",
              "      background-color: #434B5C;\n",
              "      box-shadow: 0px 1px 3px 1px rgba(0, 0, 0, 0.15);\n",
              "      filter: drop-shadow(0px 1px 2px rgba(0, 0, 0, 0.3));\n",
              "      fill: #FFFFFF;\n",
              "    }\n",
              "  </style>\n",
              "\n",
              "    <script>\n",
              "      const buttonEl =\n",
              "        document.querySelector('#df-0328d34f-2430-464e-a84e-b5c4e062c524 button.colab-df-convert');\n",
              "      buttonEl.style.display =\n",
              "        google.colab.kernel.accessAllowed ? 'block' : 'none';\n",
              "\n",
              "      async function convertToInteractive(key) {\n",
              "        const element = document.querySelector('#df-0328d34f-2430-464e-a84e-b5c4e062c524');\n",
              "        const dataTable =\n",
              "          await google.colab.kernel.invokeFunction('convertToInteractive',\n",
              "                                                    [key], {});\n",
              "        if (!dataTable) return;\n",
              "\n",
              "        const docLinkHtml = 'Like what you see? Visit the ' +\n",
              "          '<a target=\"_blank\" href=https://colab.research.google.com/notebooks/data_table.ipynb>data table notebook</a>'\n",
              "          + ' to learn more about interactive tables.';\n",
              "        element.innerHTML = '';\n",
              "        dataTable['output_type'] = 'display_data';\n",
              "        await google.colab.output.renderOutput(dataTable, element);\n",
              "        const docLink = document.createElement('div');\n",
              "        docLink.innerHTML = docLinkHtml;\n",
              "        element.appendChild(docLink);\n",
              "      }\n",
              "    </script>\n",
              "  </div>\n",
              "\n",
              "\n",
              "<div id=\"df-500f66f8-db5b-41b5-a93e-3d4b0c26bfc4\">\n",
              "  <button class=\"colab-df-quickchart\" onclick=\"quickchart('df-500f66f8-db5b-41b5-a93e-3d4b0c26bfc4')\"\n",
              "            title=\"Suggest charts\"\n",
              "            style=\"display:none;\">\n",
              "\n",
              "<svg xmlns=\"http://www.w3.org/2000/svg\" height=\"24px\"viewBox=\"0 0 24 24\"\n",
              "     width=\"24px\">\n",
              "    <g>\n",
              "        <path d=\"M19 3H5c-1.1 0-2 .9-2 2v14c0 1.1.9 2 2 2h14c1.1 0 2-.9 2-2V5c0-1.1-.9-2-2-2zM9 17H7v-7h2v7zm4 0h-2V7h2v10zm4 0h-2v-4h2v4z\"/>\n",
              "    </g>\n",
              "</svg>\n",
              "  </button>\n",
              "\n",
              "<style>\n",
              "  .colab-df-quickchart {\n",
              "      --bg-color: #E8F0FE;\n",
              "      --fill-color: #1967D2;\n",
              "      --hover-bg-color: #E2EBFA;\n",
              "      --hover-fill-color: #174EA6;\n",
              "      --disabled-fill-color: #AAA;\n",
              "      --disabled-bg-color: #DDD;\n",
              "  }\n",
              "\n",
              "  [theme=dark] .colab-df-quickchart {\n",
              "      --bg-color: #3B4455;\n",
              "      --fill-color: #D2E3FC;\n",
              "      --hover-bg-color: #434B5C;\n",
              "      --hover-fill-color: #FFFFFF;\n",
              "      --disabled-bg-color: #3B4455;\n",
              "      --disabled-fill-color: #666;\n",
              "  }\n",
              "\n",
              "  .colab-df-quickchart {\n",
              "    background-color: var(--bg-color);\n",
              "    border: none;\n",
              "    border-radius: 50%;\n",
              "    cursor: pointer;\n",
              "    display: none;\n",
              "    fill: var(--fill-color);\n",
              "    height: 32px;\n",
              "    padding: 0;\n",
              "    width: 32px;\n",
              "  }\n",
              "\n",
              "  .colab-df-quickchart:hover {\n",
              "    background-color: var(--hover-bg-color);\n",
              "    box-shadow: 0 1px 2px rgba(60, 64, 67, 0.3), 0 1px 3px 1px rgba(60, 64, 67, 0.15);\n",
              "    fill: var(--button-hover-fill-color);\n",
              "  }\n",
              "\n",
              "  .colab-df-quickchart-complete:disabled,\n",
              "  .colab-df-quickchart-complete:disabled:hover {\n",
              "    background-color: var(--disabled-bg-color);\n",
              "    fill: var(--disabled-fill-color);\n",
              "    box-shadow: none;\n",
              "  }\n",
              "\n",
              "  .colab-df-spinner {\n",
              "    border: 2px solid var(--fill-color);\n",
              "    border-color: transparent;\n",
              "    border-bottom-color: var(--fill-color);\n",
              "    animation:\n",
              "      spin 1s steps(1) infinite;\n",
              "  }\n",
              "\n",
              "  @keyframes spin {\n",
              "    0% {\n",
              "      border-color: transparent;\n",
              "      border-bottom-color: var(--fill-color);\n",
              "      border-left-color: var(--fill-color);\n",
              "    }\n",
              "    20% {\n",
              "      border-color: transparent;\n",
              "      border-left-color: var(--fill-color);\n",
              "      border-top-color: var(--fill-color);\n",
              "    }\n",
              "    30% {\n",
              "      border-color: transparent;\n",
              "      border-left-color: var(--fill-color);\n",
              "      border-top-color: var(--fill-color);\n",
              "      border-right-color: var(--fill-color);\n",
              "    }\n",
              "    40% {\n",
              "      border-color: transparent;\n",
              "      border-right-color: var(--fill-color);\n",
              "      border-top-color: var(--fill-color);\n",
              "    }\n",
              "    60% {\n",
              "      border-color: transparent;\n",
              "      border-right-color: var(--fill-color);\n",
              "    }\n",
              "    80% {\n",
              "      border-color: transparent;\n",
              "      border-right-color: var(--fill-color);\n",
              "      border-bottom-color: var(--fill-color);\n",
              "    }\n",
              "    90% {\n",
              "      border-color: transparent;\n",
              "      border-bottom-color: var(--fill-color);\n",
              "    }\n",
              "  }\n",
              "</style>\n",
              "\n",
              "  <script>\n",
              "    async function quickchart(key) {\n",
              "      const quickchartButtonEl =\n",
              "        document.querySelector('#' + key + ' button');\n",
              "      quickchartButtonEl.disabled = true;  // To prevent multiple clicks.\n",
              "      quickchartButtonEl.classList.add('colab-df-spinner');\n",
              "      try {\n",
              "        const charts = await google.colab.kernel.invokeFunction(\n",
              "            'suggestCharts', [key], {});\n",
              "      } catch (error) {\n",
              "        console.error('Error during call to suggestCharts:', error);\n",
              "      }\n",
              "      quickchartButtonEl.classList.remove('colab-df-spinner');\n",
              "      quickchartButtonEl.classList.add('colab-df-quickchart-complete');\n",
              "    }\n",
              "    (() => {\n",
              "      let quickchartButtonEl =\n",
              "        document.querySelector('#df-500f66f8-db5b-41b5-a93e-3d4b0c26bfc4 button');\n",
              "      quickchartButtonEl.style.display =\n",
              "        google.colab.kernel.accessAllowed ? 'block' : 'none';\n",
              "    })();\n",
              "  </script>\n",
              "</div>\n",
              "\n",
              "    </div>\n",
              "  </div>\n"
            ],
            "application/vnd.google.colaboratory.intrinsic+json": {
              "type": "dataframe",
              "variable_name": "df",
              "summary": "{\n  \"name\": \"df\",\n  \"rows\": 22695,\n  \"fields\": [\n    {\n      \"column\": \"reference_id\",\n      \"properties\": {\n        \"dtype\": \"number\",\n        \"std\": 9412,\n        \"min\": 1,\n        \"max\": 33075,\n        \"num_unique_values\": 22695,\n        \"samples\": [\n          29548,\n          11437,\n          21291\n        ],\n        \"semantic_type\": \"\",\n        \"description\": \"\"\n      }\n    },\n    {\n      \"column\": \"search_result\",\n      \"properties\": {\n        \"dtype\": \"object\",\n        \"semantic_type\": \"\",\n        \"description\": \"\"\n      }\n    },\n    {\n      \"column\": \"record\",\n      \"properties\": {\n        \"dtype\": \"object\",\n        \"semantic_type\": \"\",\n        \"description\": \"\"\n      }\n    }\n  ]\n}"
            }
          },
          "metadata": {},
          "execution_count": 3
        }
      ]
    },
    {
      "cell_type": "markdown",
      "source": [
        "### 2. Flatten two column"
      ],
      "metadata": {
        "id": "O1K7RedjBufe"
      }
    },
    {
      "cell_type": "code",
      "source": [
        "# First, flatten search result column\n",
        "search_results_df = pd.json_normalize(df['search_result'])\n",
        "# check the flatten column content\n",
        "print(search_results_df.iloc[0])"
      ],
      "metadata": {
        "colab": {
          "base_uri": "https://localhost:8080/"
        },
        "id": "IL0I_zZHn1X8",
        "outputId": "5e9d0ef1-03fb-4f2d-d2a1-4999ed70361f"
      },
      "execution_count": 4,
      "outputs": [
        {
          "output_type": "stream",
          "name": "stdout",
          "text": [
            "publisher                                    \n",
            "reference_title    Adapting to climate change\n",
            "series_editor                                \n",
            "reference_type                Journal Article\n",
            "journal                            The Lancet\n",
            "num                                       943\n",
            "volume                                    371\n",
            "year_published                           2008\n",
            "author                                       \n",
            "series_title                                 \n",
            "geo                                         3\n",
            "issue                                    9613\n",
            "editor                                       \n",
            "conference                                   \n",
            "place_published                              \n",
            "skip                                      943\n",
            "geo_nonus                                   5\n",
            "page_s                                    624\n",
            "university                                   \n",
            "book_title                                   \n",
            "Name: 0, dtype: object\n"
          ]
        }
      ]
    },
    {
      "cell_type": "code",
      "source": [
        "# Second, flatten record column\n",
        "record_df = pd.json_normalize(df['record'])\n",
        "# check the flatten column content\n",
        "print(record_df.iloc[10])"
      ],
      "metadata": {
        "colab": {
          "base_uri": "https://localhost:8080/"
        },
        "id": "wNf5kv0DoTQe",
        "outputId": "8af6abdc-60fa-4cb0-d986-98405959aee0"
      },
      "execution_count": 5,
      "outputs": [
        {
          "output_type": "stream",
          "name": "stdout",
          "text": [
            "Title                                                            A Commission on climate change\n",
            "Author(s)                                                                     No authors listed\n",
            "Year                                                                                       2009\n",
            "Journal                                                            The Lancet. 373 (9676): 1659\n",
            "Source                                        <ul class=\"cchh-content_detail-plainlist\"> <li...\n",
            "Exposure                                                                                    NaN\n",
            "Geographic Feature                                        <ul> General Geographic Feature </ul>\n",
            "Geographic Location                                   <ul> Global or Unspecified Location </ul>\n",
            "Health Impact                                                  <ul> General Health Impact </ul>\n",
            "Resource Type                                                     <ul> Commentary/Opinion </ul>\n",
            "Special Topic                                 <ul> Adaptation, Health Sector Influence, Soci...\n",
            "Abstract                                      <p>The Commission calls for a new public healt...\n",
            "Series                                                                                      NaN\n",
            "Editor                                                                                      NaN\n",
            "Publisher                                                                                   NaN\n",
            "Model/Methodology                                                                           NaN\n",
            "Model Timescale                                                                             NaN\n",
            "Climate Change and Socioeconomic Scenarios                                                  NaN\n",
            "Book                                                                                        NaN\n",
            "Volume                                                                                      NaN\n",
            "Page                                                                                        NaN\n",
            "Conference                                                                                  NaN\n",
            "Name: 10, dtype: object\n"
          ]
        }
      ]
    },
    {
      "cell_type": "code",
      "source": [
        "# Third, combine flatten result\n",
        "result_df_1 = pd.concat([df.drop('search_result', axis=1), search_results_df], axis=1)\n",
        "result_df = pd.concat([result_df_1, record_df], axis=1)\n",
        "result_df.drop('record', axis=1, inplace=True)\n",
        "print(result_df.iloc[0])\n",
        "# In the combine dataset, there are some HTML column need to transform and there are some depulicate column"
      ],
      "metadata": {
        "colab": {
          "base_uri": "https://localhost:8080/"
        },
        "id": "U0sGp3Hmn2dD",
        "outputId": "e9e1094a-1a03-47da-da5c-da049827af52"
      },
      "execution_count": 6,
      "outputs": [
        {
          "output_type": "stream",
          "name": "stdout",
          "text": [
            "reference_id                                                                                  1\n",
            "publisher                                                                                      \n",
            "reference_title                                                      Adapting to climate change\n",
            "series_editor                                                                                  \n",
            "reference_type                                                                  Journal Article\n",
            "journal                                                                              The Lancet\n",
            "num                                                                                         943\n",
            "volume                                                                                      371\n",
            "year_published                                                                             2008\n",
            "author                                                                                         \n",
            "series_title                                                                                   \n",
            "geo                                                                                           3\n",
            "issue                                                                                      9613\n",
            "editor                                                                                         \n",
            "conference                                                                                     \n",
            "place_published                                                                                \n",
            "skip                                                                                        943\n",
            "geo_nonus                                                                                     5\n",
            "page_s                                                                                      624\n",
            "university                                                                                     \n",
            "book_title                                                                                     \n",
            "Title                                                                Adapting to climate change\n",
            "Author(s)                                                                     No authors listed\n",
            "Year                                                                                       2008\n",
            "Journal                                                             The Lancet. 371 (9613): 624\n",
            "Source                                        <ul class=\"cchh-content_detail-plainlist\"> <li...\n",
            "Exposure                                      <ul> Extreme Weather-Related Event or Disaster...\n",
            "Geographic Feature                                        <ul> General Geographic Feature </ul>\n",
            "Geographic Location                           <ul> Non-United States<ul><li><strong>Non-Unit...\n",
            "Health Impact                                 <ul> Cancer, Dermatological Impact, Infectious...\n",
            "Resource Type                                                     <ul> Commentary/Opinion </ul>\n",
            "Special Topic                                 <ul> Adaptation, Health Sector Influence<ul><l...\n",
            "Abstract                                                                                    NaN\n",
            "Series                                                                                      NaN\n",
            "Editor                                                                                      NaN\n",
            "Publisher                                                                                   NaN\n",
            "Model/Methodology                                                                           NaN\n",
            "Model Timescale                                                                             NaN\n",
            "Climate Change and Socioeconomic Scenarios                                                  NaN\n",
            "Book                                                                                        NaN\n",
            "Volume                                                                                      NaN\n",
            "Page                                                                                        NaN\n",
            "Conference                                                                                  NaN\n",
            "Name: 0, dtype: object\n"
          ]
        }
      ]
    },
    {
      "cell_type": "markdown",
      "source": [
        "### 3. Export csv for dropping duplicated column"
      ],
      "metadata": {
        "id": "VvbEbQ0-ittb"
      }
    },
    {
      "cell_type": "code",
      "source": [
        "result_df.to_csv('cchhl_all_flatten.csv', index=False)"
      ],
      "metadata": {
        "id": "jQJLRm2ouarz"
      },
      "execution_count": 7,
      "outputs": []
    },
    {
      "cell_type": "markdown",
      "source": [
        "### 4. Drop Duplicate column\n",
        "\n",
        "In the check code"
      ],
      "metadata": {
        "id": "FrdSWIJI3_EW"
      }
    },
    {
      "cell_type": "code",
      "source": [
        "# read drop duplicate column file\n",
        "df=pd.read_csv('/content/cchhl_all_flatten_cleanduplicate.csv')"
      ],
      "metadata": {
        "colab": {
          "base_uri": "https://localhost:8080/"
        },
        "id": "uVWuHCwTVhQ3",
        "outputId": "c7d302bd-bfa5-4cbd-dc16-7275e7bbfde2"
      },
      "execution_count": 12,
      "outputs": [
        {
          "output_type": "stream",
          "name": "stderr",
          "text": [
            "<ipython-input-12-b9e60a4b9da1>:2: DtypeWarning: Columns (2,9,10,14,15,26,27,28,32,33) have mixed types. Specify dtype option on import or set low_memory=False.\n",
            "  df=pd.read_csv('/content/cchhl_all_flatten_cleanduplicate.csv')\n"
          ]
        }
      ]
    },
    {
      "cell_type": "markdown",
      "source": [
        "### 5. Transform HTML column"
      ],
      "metadata": {
        "id": "CI-QUu0NsL5m"
      }
    },
    {
      "cell_type": "code",
      "source": [
        "# flatten HTML column\n",
        "import pandas as pd\n",
        "from bs4 import BeautifulSoup\n",
        "\n",
        "def extract_list_items(html_content):\n",
        "    if pd.isna(html_content) or html_content is None:\n",
        "        return \"\"\n",
        "\n",
        "    soup = BeautifulSoup(html_content, 'html.parser')\n",
        "    # replace all the c\n",
        "    items = [li.get_text(strip=True).replace(',', ' |') for li in soup.find_all('li')]\n",
        "\n",
        "    return ' |'.join(items)\n",
        "\n",
        "for col in ['Source', 'Exposure', 'Geographic Feature', 'Geographic Location',\n",
        "            'Health Impact', 'Resource Type', 'Special Topic', 'Model/Methodology'\n",
        "            'Model Timescale','Climate Change and Socioeconomic Scenarios']:\n",
        "    if col in df.columns:\n",
        "        df[f'{col}'] = df[col].apply(extract_list_items)"
      ],
      "metadata": {
        "id": "8g0AZrx7UeVW"
      },
      "execution_count": 14,
      "outputs": []
    },
    {
      "cell_type": "markdown",
      "source": [
        "### 6. Clean HTML Column"
      ],
      "metadata": {
        "id": "O5IbDODswdEt"
      }
    },
    {
      "cell_type": "markdown",
      "source": [
        "6.1. Clean Source Column"
      ],
      "metadata": {
        "id": "GCcDQMQLxzwx"
      }
    },
    {
      "cell_type": "code",
      "source": [
        "# Using this code to check each column\n",
        "# check source column\n",
        "for index, value in df['Source'].head(1000).items():\n",
        "    if isinstance(value, str) and value.strip() != '':\n",
        "        print(f\"Index: {index}, Value: {value}\")"
      ],
      "metadata": {
        "colab": {
          "base_uri": "https://localhost:8080/"
        },
        "collapsed": true,
        "id": "NGhkUUz7wgfp",
        "outputId": "c422a8fd-b44b-4fc8-a911-f72e977c2548"
      },
      "execution_count": 39,
      "outputs": [
        {
          "output_type": "stream",
          "name": "stdout",
          "text": [
            "Index: 0, Value: Publisherhttp://dx.doi.org/10.1016/S0140-6736(08)60276-7\n",
            "Index: 1, Value: Publisherhttp://dx.doi.org/10.1007/s00436-008-1199-6\n",
            "Index: 2, Value: Publisherhttp://dx.doi.org/10.1108/02580540810854677\n",
            "Index: 4, Value: Publisherhttp://www.routledge.com/books/details/9781844076895/\n",
            "Index: 5, Value: Publisherhttp://www.routledge.com/books/details/9781844076888/\n",
            "Index: 6, Value: Publisherhttp://www.oecd.org/env/cc/economicaspectsofadaptationtoclimatechangecostsbenefitsandpolicyinstruments.htm\n",
            "Index: 7, Value: Publisherhttp://www.euro.who.int/__data/assets/pdf_file/0006/95919/E91347.pdf\n",
            "Index: 8, Value: Publisherhttp://www.euro.who.int/en/health-topics/environment-and-health/Climate-change/publications/pre-2009/protecting-health-in-europe-from-climate-change\n",
            "Index: 9, Value: Publisherhttp://www.eurannallergyimm.com/cont/journals-articles/169/volume-news.asp\n",
            "Index: 10, Value: Publisherhttp://dx.doi.org/10.1016/s0140-6736(09)60922-3\n",
            "Index: 11, Value: Publisherhttp://www.muthar-alomar.com/wp-content/uploads/2013/01/Adopting-to-Climate-Change.pdf\n",
            "Index: 12, Value: Publisherhttp://www.springer.com/environment/book/978-3-540-68487-9\n",
            "Index: 13, Value: Publisherhttp://www.trb.org/Publications/Blurbs/162093.aspx\n",
            "Index: 16, Value: Publisherhttp://dx.doi.org/10.1016/s0140-6736(11)60845-3\n",
            "Index: 17, Value: Publisherhttp://dx.doi.org/10.1007/s11027-011-9282-1\n",
            "Index: 18, Value: Publisherhttp://ocfp.on.ca/communications/archive/public-policy-documents\n",
            "Index: 19, Value: Publisherhttp://dx.doi.org/10.1097/DMP.0b013e31815901dc\n",
            "Index: 20, Value: Publisherhttp://www.who.int/iris/handle/10665/117596#sthash.po1Lou0v.dpuf\n",
            "Index: 21, Value: PubMedhttp://dx.doi.org/10.1093/pubmed/fdp059\n",
            "Index: 22, Value: PubMedhttp://dx.doi.org/10.1093/pubmed/fdn102\n",
            "Index: 23, Value: Publisherhttp://dx.doi.org/10.1016/j.ecolecon.2007.10.006\n",
            "Index: 24, Value: PubMedhttp://www.ncbi.nlm.nih.gov/pubmed/19204839\n",
            "Index: 25, Value: Publisherhttp://dx.doi.org/10.1371/journal.pone.0007719\n",
            "Index: 26, Value: Publisherhttp://www.academicjournals.org/article/article1380812623_Adebo%20and%20Ayelari.pdf\n",
            "Index: 27, Value: Publisherhttp://www.ipcc.ch/pdf/assessment-report/ar4/wg2/ar4-wg2-chapter17.pdf\n",
            "Index: 29, Value: Publisherhttp://dx.doi.org/10.1093/occmed/kqr050\n",
            "Index: 30, Value: Publisherhttp://dx.doi.org/10.1177/1010539509350912\n",
            "Index: 31, Value: PubMedhttp://www.ncbi.nlm.nih.gov/pubmed/21357910\n",
            "Index: 32, Value: Publisherhttp://www.ncbi.nlm.nih.gov/pmc/articles/PMC2698915\n",
            "Index: 33, Value: Publisherhttp://dx.doi.org/10.1016/j.envres.2010.09.007\n",
            "Index: 34, Value: Publisherhttp://dx.doi.org/10.1596/978-0-8213-7887-8 |Publisherhttps://openknowledge.worldbank.org/bitstream/handle/10986/2689/520970PUB0EPI11C010disclosed0Dec091.pdf?sequence=1\n",
            "Index: 37, Value: Publisherhttp://dx.doi.org/10.1016/j.tplants.2010.08.002\n",
            "Index: 38, Value: Publisherhttp://dx.doi.org/10.1007/s10661-006-9473-5\n",
            "Index: 39, Value: Publisherhttp://dx.doi.org/10.1016/j.cosust.2009.07.001\n",
            "Index: 40, Value: Publisherhttp://www.unicef-irc.org/publications/560/\n",
            "Index: 41, Value: Publisherhttp://www.ncbi.nlm.nih.gov/pmc/articles/PMC2905567\n",
            "Index: 42, Value: Publisherhttp://dx.doi.org/10.1016/j.amepre.2008.09.043\n",
            "Index: 44, Value: Publisherhttp://dx.doi.org/10.1016/j.envsci.2010.09.009\n",
            "Index: 46, Value: Publisherhttp://dx.doi.org/10.1111/j.1467-7717.2010.01176.x\n",
            "Index: 49, Value: Publisherhttp://dx.doi.org/10.1016/j.regsciurbeco.2006.08.008\n",
            "Index: 50, Value: Publisherhttp://dx.doi.org/10.1016/j.jenvman.2009.02.011\n",
            "Index: 51, Value: Publisherhttp://www.tandfonline.com/doi/full/10.1080/10398560701701288\n",
            "Index: 53, Value: Publisherhttp://dx.doi.org/10.1623/hysj.52.2.247\n",
            "Index: 54, Value: Publisherhttp://adsabs.harvard.edu/cgi-bin/nph-data_query?bibcode=2009ems..confE.162A&link_type=ARTICLE&db_key=PHY&high=\n",
            "Index: 55, Value: Publisherhttp://dx.doi.org/10.1016/j.scitotenv.2011.05.032\n",
            "Index: 57, Value: Publisherhttp://dx.doi.org/10.1016/j.envres.2011.07.005\n",
            "Index: 58, Value: Publisherhttp://dx.doi.org/10.1007/s11269-011-9936-5\n",
            "Index: 60, Value: Publisherhttps://www.fs.fed.us/pnw/pubs/pnw_gtr837.pdf\n",
            "Index: 61, Value: Publisherhttp://dx.doi.org/10.1007/s00484-010-0345-x\n",
            "Index: 62, Value: Publisherhttps://ams.confex.com/ams/90annual/webprogram/Paper166219.html\n",
            "Index: 64, Value: Publisherhttp://dx.doi.org/10.1186/1476-069x-9-12\n",
            "Index: 65, Value: Publisherhttp://www.ncbi.nlm.nih.gov/pmc/articles/PMC3081772\n",
            "Index: 66, Value: Publisherhttp://dx.doi.org/10.1016/j.hal.2011.11.001\n",
            "Index: 68, Value: Publisherhttp://dx.doi.org/10.3923/jest.2010.208.216\n",
            "Index: 69, Value: Publisherhttp://dx.doi.org/10.1016/j.atmosenv.2011.07.056\n",
            "Index: 70, Value: Publisherhttp://dx.doi.org/10.1093/aje/kwn266\n",
            "Index: 72, Value: Publisherhttp://dx.doi.org/10.1097/EDE.0b013e318190ee08\n",
            "Index: 74, Value: Publisherhttp://www.ncbi.nlm.nih.gov/pmc/articles/PMC3040608\n",
            "Index: 75, Value: Publisherhttp://dx.doi.org/10.1093/heapro/dar060\n",
            "Index: 76, Value: Publisherhttp://dx.doi.org/10.1016/j.aap.2010.08.025\n",
            "Index: 77, Value: Publisherhttp://dx.doi.org/10.1039/b820432m\n",
            "Index: 78, Value: Publisherhttp://dx.doi.org/10.1039/b923342n\n",
            "Index: 79, Value: Publisherhttp://dx.doi.org/10.1002/rcm.4907\n",
            "Index: 80, Value: Publisherhttp://www.ncbi.nlm.nih.gov/pmc/articles/PMC3385429\n",
            "Index: 81, Value: Publisherhttp://dx.doi.org/10.1371/journal.pntd.0001465\n",
            "Index: 82, Value: Publisherhttp://dx.doi.org/10.1007/s10661-009-0976-8\n",
            "Index: 83, Value: Publisherhttp://www.hsj.co.uk/news/data-briefing-john-appleby-on-climate-change-and-health/58554.article\n",
            "Index: 84, Value: Publisherhttp://dx.doi.org/10.3763/cpol.2009.0678\n",
            "Index: 85, Value: Publisherhttp://dx.doi.org/10.1098/rstb.2007.0026\n",
            "Index: 86, Value: Publisherhttp://dx.doi.org/10.1111/j.1467-9493.2007.00300.x\n",
            "Index: 87, Value: Publisherhttp://dx.doi.org/10.1001/archinte.167.20.ioi70147\n",
            "Index: 89, Value: Publisherhttp://www.eurannallergyimm.com/cont/journals-articles/164/volume-climate-change-increase-allergic-diseases.asp\n",
            "Index: 90, Value: Publisherhttp://dx.doi.org/10.1016/j.anai.2009.12.005\n",
            "Index: 91, Value: Publisherhttp://dx.doi.org/10.1016/j.gloenvcha.2007.07.002\n",
            "Index: 92, Value: Publisherhttp://dx.doi.org/10.1039/c1em10131e\n",
            "Index: 93, Value: Publisherhttp://dx.doi.org/10.1136/jech.2009.093161\n",
            "Index: 94, Value: Publisherhttp://dx.doi.org/10.1111/j.1939-7445.2007.tb00205.x\n",
            "Index: 95, Value: Publisherhttp://dx.doi.org/10.2166/wst.2009.298\n",
            "Index: 96, Value: Publisherhttp://dx.doi.org/10.1016/j.gloenvcha.2011.01.015\n",
            "Index: 97, Value: Publisherhttp://dx.doi.org/10.1126/science.1181568\n",
            "Index: 98, Value: Publisherhttp://www.ncbi.nlm.nih.gov/pmc/articles/PMC2137106\n",
            "Index: 99, Value: Publisherhttp://www.ncbi.nlm.nih.gov/pmc/articles/PMC2965653\n",
            "Index: 100, Value: Publisherhttp://dx.doi.org/10.1016/j.maturitas.2011.03.008\n",
            "Index: 101, Value: Publisherhttp://dx.doi.org/10.1097/INF.0b013e3181d06fcd\n",
            "Index: 102, Value: Publisherhttp://dx.doi.org/10.1007/s10995-010-0645-0\n",
            "Index: 103, Value: Publisherhttp://dx.doi.org/10.1016/j.micinf.2008.07.012\n",
            "Index: 104, Value: Publisherhttp://dx.doi.org/10.1177/0956247808089158\n",
            "Index: 105, Value: Publisherhttp://dx.doi.org/10.1007/s10661-009-0874-0\n",
            "Index: 106, Value: Publisherhttp://dx.doi.org/10.1007/s00267-008-9223-2\n",
            "Index: 108, Value: Publisherhttp://dx.doi.org/10.1183/09031936.00003409\n",
            "Index: 109, Value: Publisherhttp://dx.doi.org/10.3402/gha.v2i0.2060\n",
            "Index: 110, Value: Publisherhttp://journals.lww.com/epidem/Fulltext/2008/09000/Heat_Effects_on_Mortality_in_15_European_Cities.13.aspx\n",
            "Index: 111, Value: Publisherhttp://dx.doi.org/10.1136/jech.2008.085639\n",
            "Index: 112, Value: Publisherhttps://www.elsevier.com/books/oceans-and-human-health/walsh/978-0-12-372584-4\n",
            "Index: 114, Value: Publisherhttp://dx.doi.org/10.1007/s10624-009-9089-6\n",
            "Index: 115, Value: Publisherhttp://www.lcoastpress.com/book.php?id=158\n",
            "Index: 116, Value: Publisherhttp://dx.doi.org/10.1080/01459740701831369\n",
            "Index: 117, Value: Publisherhttp://www.ncbi.nlm.nih.gov/pmc/articles/PMC3155970\n",
            "Index: 118, Value: Publisherhttp://dx.doi.org/10.1007/978-94-007-2430-3_10 |Publisherhttp://link.springer.com/chapter/10.1007%2F978-94-007-2430-3_10\n",
            "Index: 119, Value: Publisherhttp://www.ncbi.nlm.nih.gov/pmc/articles/PMC2997729\n",
            "Index: 120, Value: Publisherhttps://ehp.niehs.nih.gov/trp090111/\n",
            "Index: 121, Value: Publisherhttp://www.naccho.org/topics/environmental/climatechange/upload/Are-we-ready_14_view.pdf\n",
            "Index: 122, Value: Publisherhttp://dx.doi.org/10.1097/JOM.0b013e318193e12e\n",
            "Index: 124, Value: Publisherhttp://dx.doi.org/10.1097/NAQ.0b013e3181f5645e\n",
            "Index: 125, Value: Publisherhttp://dx.doi.org/10.1007/s10584-009-9758-0\n",
            "Index: 126, Value: Publisherhttp://dx.doi.org/10.1038/ncomms1360\n",
            "Index: 127, Value: Publisherhttp://dx.doi.org/10.3402/gha.v3i0.5614\n",
            "Index: 128, Value: Publisherhttp://garnautreview.org.au/CA25734E0016A131/WebObj/03-AThreehealthoutcomes/$File/03-A%20Three%20health%20outcomes.pdf\n",
            "Index: 129, Value: Publisherhttp://dx.doi.org/10.1177/1010539510391774\n",
            "Index: 130, Value: Publisherhttp://www.ncbi.nlm.nih.gov/pmc/articles/PMC2802100\n",
            "Index: 131, Value: Publisherhttp://dx.doi.org/10.1111/j.1365-3156.2011.02734.x\n",
            "Index: 132, Value: Publisherhttp://dx.doi.org/10.1111/j.1365-2915.2009.00848.x\n",
            "Index: 133, Value: Publisherhttp://dx.doi.org/10.1007/s00267-008-9237-9\n",
            "Index: 135, Value: Publisherhttp://dx.doi.org/10.3402/polar.v30i0.15469\n",
            "Index: 136, Value: Publisherhttp://www.ipcc.ch/pdf/assessment-report/ar4/wg3/ar4-wg3-chapter11.pdf\n",
            "Index: 138, Value: Publisherhttp://dx.doi.org/10.1175/WAF1031.1\n",
            "Index: 139, Value: Publisherhttp://dx.doi.org/10.1097/01.ede.0000257515.34445.a0\n",
            "Index: 140, Value: Publisherhttp://dx.doi.org/10.1016/j.envres.2011.12.010\n",
            "Index: 142, Value: Publisherhttp://www.ncbi.nlm.nih.gov/pmc/articles/PMC2913286\n",
            "Index: 143, Value: Publisherhttp://dx.doi.org/10.1016/j.jeem.2011.07.004\n",
            "Index: 144, Value: Publisherhttp://dx.doi.org/10.1109/IGARSS.2008.4779710 |Publisherhttp://ieeexplore.ieee.org/xpl/articleDetails.jsp?reload=true&arnumber=4779710\n",
            "Index: 146, Value: Publisherhttp://www.ncbi.nlm.nih.gov/pmc/articles/PMC3191211\n",
            "Index: 148, Value: Publisherhttp://dx.doi.org/10.1177/0956247808096125\n",
            "Index: 149, Value: Publisherhttp://dx.doi.org/10.1002/joc.1673\n",
            "Index: 151, Value: Publisherhttp://dx.doi.org/10.5194/nhess-10-1393-2010\n",
            "Index: 152, Value: Publisherhttp://www.ncceh.ca/documents/evidence-review/what-evidence-applicability-and-effectiveness-public-health-interventions\n",
            "Index: 153, Value: Publisherhttp://www.ncbi.nlm.nih.gov/pmc/articles/PMC2872323\n",
            "Index: 154, Value: Publisherhttp://dx.doi.org/10.1016/j.envres.2009.03.011\n",
            "Index: 156, Value: Publisherhttp://dx.doi.org/10.1136/jech.2009.101485\n",
            "Index: 157, Value: Publisherhttp://www.ncbi.nlm.nih.gov/pmc/articles/PMC2759912\n",
            "Index: 158, Value: Publisherhttp://dx.doi.org/10.1097/EDE.0b013e31815c1da7\n",
            "Index: 159, Value: Publisherhttp://dx.doi.org/10.1093/aje/kwq170\n",
            "Index: 160, Value: Publisherhttp://dx.doi.org/10.1093/aje/kwn170\n",
            "Index: 161, Value: Publisherhttp://www.ncbi.nlm.nih.gov/pmc/articles/PMC3042423\n",
            "Index: 162, Value: Publisherhttp://www.samj.org.za/index.php/samj/article/view/3132/2215\n",
            "Index: 163, Value: Publisherhttp://www.ipcc.ch/pdf/technical-papers/climate-change-water-en.pdf\n",
            "Index: 164, Value: Publisherhttp://www.ncbi.nlm.nih.gov/pmc/articles/PMC2717125\n",
            "Index: 165, Value: Publisherhttp://dx.doi.org/10.1126/science.1164363\n",
            "Index: 166, Value: Publisherhttp://www.ncbi.nlm.nih.gov/pmc/articles/PMC2830188\n",
            "Index: 167, Value: Publisherhttp://dx.doi.org/10.1016/S0140-6736(08)61558-5\n",
            "Index: 168, Value: Publisherhttp://dx.doi.org/10.1111/j.1440-1584.2008.01030.x\n",
            "Index: 169, Value: Publisherhttp://dx.doi.org/10.1353/hpu.2007.0024\n",
            "Index: 171, Value: Publisherhttp://www.ncbi.nlm.nih.gov/pmc/articles/PMC2864741\n",
            "Index: 172, Value: Publisherhttp://dx.doi.org/10.1007/s00436-008-1210-2\n",
            "Index: 173, Value: Publisherhttp://www.ppic.org/content/pubs/op/OP_208LBOP.pdf\n",
            "Index: 174, Value: Publisherhttp://www.ncbi.nlm.nih.gov/pmc/articles/PMC2679607\n",
            "Index: 175, Value: Publisherhttp://dx.doi.org/10.1007/s10584-011-0244-0\n",
            "Index: 176, Value: Publisherhttp://dx.doi.org/10.1007/s10584-011-0245-z\n",
            "Index: 177, Value: Publisherhttp://www.ppic.org/content/pubs/report/R_310LBR.pdf\n",
            "Index: 178, Value: Publisherhttp://dx.doi.org/10.1080/01944363.2010.502047\n",
            "Index: 179, Value: Publisherhttp://www.ncbi.nlm.nih.gov/pmc/articles/PMC2671609\n",
            "Index: 180, Value: Publisherhttp://dx.doi.org/10.1016/j.jaci.2008.10.025\n",
            "Index: 181, Value: Publisherhttp://www.ncbi.nlm.nih.gov/pmc/articles/PMC2685859\n",
            "Index: 182, Value: Publisherhttp://www.ncbi.nlm.nih.gov/pmc/articles/PMC2954564\n",
            "Index: 183, Value: Publisherhttps://www.novapublishers.com/catalog/product_info.php?products_id=22886\n",
            "Index: 184, Value: Publisherhttp://dx.doi.org/10.1177/1010539510391771\n",
            "Index: 185, Value: Publisherhttp://dx.doi.org/10.1007/s11869-008-0013-z\n",
            "Index: 186, Value: Publisherhttp://dx.doi.org/10.1016/j.gloenvcha.2011.06.001\n",
            "Index: 188, Value: Publisherhttp://www.ncbi.nlm.nih.gov/pmc/articles/PMC2430962\n",
            "Index: 189, Value: Publisherhttp://www.ncbi.nlm.nih.gov/pmc/articles/PMC2672360\n",
            "Index: 190, Value: Publisherhttp://dx.doi.org/10.2105/ajph.2010.202820\n",
            "Index: 191, Value: Publisherhttp://dx.doi.org/10.1007/s10459-010-9245-4\n",
            "Index: 192, Value: Publisherhttp://www.ncbi.nlm.nih.gov/pmc/articles/PMC2874564\n",
            "Index: 193, Value: Publisherhttp://www.ncbi.nlm.nih.gov/pmc/articles/PMC2519068\n",
            "Index: 194, Value: Publisherhttp://dx.doi.org/10.1093/aje/kwm396\n",
            "Index: 195, Value: Publisherhttp://dimacs.rutgers.edu/SustainabilityReport/bell-dominici10-12-10.pdf\n",
            "Index: 196, Value: Publisherhttp://dx.doi.org/10.1289/ehp.9621\n",
            "Index: 197, Value: Publisherhttp://dx.doi.org/10.1007/s10584-006-9166-7\n",
            "Index: 198, Value: Publisherhttp://dx.doi.org/10.1093/ije/dyn094\n",
            "Index: 199, Value: Publisherhttp://dx.doi.org/10.1093/ageing/afm026\n",
            "Index: 200, Value: Publisherhttp://www.ncbi.nlm.nih.gov/pmc/articles/PMC2828087\n",
            "Index: 201, Value: Publisherhttp://www.ncbi.nlm.nih.gov/pmc/articles/PMC2614152\n",
            "Index: 202, Value: Publisherhttp://www.ajtmh.org/content/81/1/40.long |PubMedhttp://www.ncbi.nlm.nih.gov/pubmed/19556564\n",
            "Index: 204, Value: Publisherhttp://www.ncbi.nlm.nih.gov/pmc/articles/PMC2212601\n",
            "Index: 207, Value: Publisherhttp://dx.doi.org/10.1007/s10584-006-9226-z\n",
            "Index: 208, Value: Publisherhttp://www.ncbi.nlm.nih.gov/pmc/articles/PMC3009583\n",
            "Index: 209, Value: Publisherhttp://dx.doi.org/10.1093/heapro/dam013\n",
            "Index: 210, Value: Publisherhttp://dx.doi.org/10.1017/s0022149x09990484\n",
            "Index: 213, Value: Publisherhttp://dx.doi.org/10.1186/1476-072x-8-18\n",
            "Index: 214, Value: Publisherhttp://dx.doi.org/10.1097/MOP.0b013e3283444c89\n",
            "Index: 215, Value: Publisherhttp://www.ipcc.ch/pdf/assessment-report/ar4/syr/ar4_syr_spm.pdf\n",
            "Index: 216, Value: Publisherhttp://dx.doi.org/10.1016/j.livsci.2011.03.018\n",
            "Index: 217, Value: Publisherhttp://dx.doi.org/10.1016/j.gloenvcha.2010.09.012\n",
            "Index: 218, Value: Publisherhttp://www.ncbi.nlm.nih.gov/pmc/articles/PMC2648659\n",
            "Index: 219, Value: Publisherhttp://dx.doi.org/10.1080/10398560903045328\n",
            "Index: 220, Value: Publisherhttp://dx.doi.org/10.1007/s00038-009-0112-0\n",
            "Index: 221, Value: Publisherhttp://dx.doi.org/10.1071/NB10030\n",
            "Index: 222, Value: Publisherhttp://www.ncbi.nlm.nih.gov/pmc/articles/PMC3210596\n",
            "Index: 223, Value: Publisherhttp://dx.doi.org/10.1177/1010539510392556\n",
            "Index: 224, Value: Publisherhttp://www.garnautreview.org.au/CA25734E0016A131/WebObj/03-DMentalhealth/$File/03-D%20Mental%20health.pdf\n",
            "Index: 225, Value: Publisherhttp://www.climateneeds.umd.edu/reports/Health%20Canada-Human%20Health%20in%20a%20Changing%20Climate.pdf\n",
            "Index: 226, Value: Publisherhttps://www.cambridge.org/core/journals/prehospital-and-disaster-medicine/article/global-warming-polar-bears-and-people-implications-for-public-health-preparedness-and-disaster-medicine-a-call-to-action/E6FED7CFFB33540928E6CD533E2CF97C\n",
            "Index: 227, Value: Publisherhttp://www.ncbi.nlm.nih.gov/pmc/articles/PMC3141627\n",
            "Index: 228, Value: Publisherhttp://dx.doi.org/10.1016/j.anaerobe.2011.05.016\n",
            "Index: 229, Value: Publisherhttp://dx.doi.org/10.1136/hrt.2009.175000\n",
            "Index: 230, Value: Publisherhttp://www.ncbi.nlm.nih.gov/pmc/articles/PMC2919679\n",
            "Index: 231, Value: Publisherhttp://dx.doi.org/10.1002/lary.20613\n",
            "Index: 232, Value: Publisherhttp://dx.doi.org/10.1016/j.jinf.2008.08.004\n",
            "Index: 233, Value: Publisherhttp://dx.doi.org/10.1017/s0950268809002441\n",
            "Index: 235, Value: Publisherhttp://dx.doi.org/10.1111/j.1440-1584.2007.00945.x\n",
            "Index: 237, Value: Publisherhttp://dx.doi.org/10.1177/1010539510391644\n",
            "Index: 238, Value: Publisherhttp://journals.lww.com/epidem/Fulltext/2009/11001/Climate_Variability_and_Salmonella_Infection_in_an.267.aspx\n",
            "Index: 239, Value: Publisherhttp://dx.doi.org/10.1016/j.jinf.2007.07.004\n",
            "Index: 240, Value: Publisherhttp://www.ncbi.nlm.nih.gov/pmc/articles/PMC3160808\n",
            "Index: 241, Value: Publisherhttp://dx.doi.org/10.1016/j.midw.2009.10.003\n",
            "Index: 242, Value: Publisherhttp://dx.doi.org/10.1177/1010539510391776\n",
            "Index: 243, Value: Publisherhttp://arc.aiaa.org/doi/abs/10.2514/6.2008-7664 |Publisherhttp://dx.doi.org/10.2514/6.2008-7664\n",
            "Index: 245, Value: Publisherhttp://dx.doi.org/10.20506/rst.27.2.1815\n",
            "Index: 246, Value: Publisherhttp://dx.doi.org/10.1038/478477a\n",
            "Index: 247, Value: Publisherhttp://dx.doi.org/10.1016/j.scitotenv.2009.04.029\n",
            "Index: 249, Value: Publisherhttp://www.nhc.noaa.gov/pdf/NWS-TPC-5.pdf\n",
            "Index: 250, Value: Publisherhttp://dx.doi.org/10.1080/10903120903144973\n",
            "Index: 251, Value: Publisherhttps://openknowledge.worldbank.org/handle/10986/20194\n",
            "Index: 252, Value: Publisherhttp://dx.doi.org/10.1111/j.1440-1584.2007.00944.x\n",
            "Index: 253, Value: Publisherhttp://dx.doi.org/10.1177/1010539510395121\n",
            "Index: 254, Value: Publisherhttps://www.mup.com.au/items/120950\n",
            "Index: 256, Value: Publisherhttp://dx.doi.org/10.1127/0340-269x/2007/0037-0495\n",
            "Index: 257, Value: Publisherhttp://dx.doi.org/10.3945/jn.109.112094\n",
            "Index: 258, Value: Publisherhttp://dx.doi.org/10.1016/j.amepre.2008.08.029\n",
            "Index: 259, Value: Publisherhttp://dx.doi.org/10.1016/j.atmosenv.2010.04.031\n",
            "Index: 260, Value: Publisherhttp://www.who.int/globalchange/A62_11_en.pdf\n",
            "Index: 261, Value: Publisherhttp://www.ncbi.nlm.nih.gov/pmc/articles/PMC3128186\n",
            "Index: 262, Value: Publisherhttp://www.hydroweb.com/journal-hydrology-2008-paper-5.html\n",
            "Index: 263, Value: Publisherhttp://dx.doi.org/10.1111/j.1360-0443.2009.02887.x\n",
            "Index: 265, Value: Publisherhttp://dx.doi.org/10.1007/s10393-010-0274-5\n",
            "Index: 266, Value: PubMedhttps://www.ncbi.nlm.nih.gov/pubmed/19541875\n",
            "Index: 267, Value: Publisherhttp://www.ncbi.nlm.nih.gov/pmc/articles/PMC3083667\n",
            "Index: 268, Value: Publisherhttp://www.ncbi.nlm.nih.gov/pmc/articles/PMC2906544\n",
            "Index: 271, Value: Publisherhttp://dx.doi.org/10.1111/j.1741-1130.2012.00331.x\n",
            "Index: 272, Value: Publisherhttp://dx.doi.org/10.1016/j.watres.2007.03.021\n",
            "Index: 273, Value: Publisherhttp://dx.doi.org/10.1002/etc.159\n",
            "Index: 274, Value: Publisherhttp://pubs.iied.org/pdfs/11501IIED.pdf\n",
            "Index: 275, Value: Publisherhttp://www.feem.it/userfiles/attach/Publication/NDL2008/NDL2008-069.pdf\n",
            "Index: 276, Value: Publisherhttp://dx.doi.org/10.1111/j.1539-6924.2008.01035.x\n",
            "Index: 277, Value: Publisherhttp://dx.doi.org/10.1001/archinte.167.20.ira70009\n",
            "Index: 278, Value: Publisherhttp://dx.doi.org/10.1007/s10584-009-9734-8\n",
            "Index: 279, Value: Publisherhttp://dx.doi.org/10.1016/j.pt.2011.07.003\n",
            "Index: 280, Value: Publisherhttp://dx.doi.org/10.1111/j.1462-2920.2011.02498.x\n",
            "Index: 281, Value: Publisherhttp://dx.doi.org/10.3390/ijerph9010055\n",
            "Index: 282, Value: Publisherhttp://dx.doi.org/10.1016/j.landurbplan.2010.05.006\n",
            "Index: 283, Value: Publisherhttp://dx.doi.org/10.1111/j.1365-2699.2011.02595.x\n",
            "Index: 288, Value: Publisherhttp://dx.doi.org/10.1289/ehp.0800084\n",
            "Index: 289, Value: Publisherhttp://dx.doi.org/10.1111/j.1095-8649.2010.02782.x\n",
            "Index: 290, Value: Publisherhttp://www.ncbi.nlm.nih.gov/pmc/articles/PMC2621147\n",
            "Index: 291, Value: Publisherhttp://dx.doi.org/10.1016/j.aap.2008.01.001\n",
            "Index: 292, Value: Publisherhttp://www.ncbi.nlm.nih.gov/pmc/articles/PMC2474527\n",
            "Index: 293, Value: Publisherhttp://dx.doi.org/10.1007/s10393-010-0354-6\n",
            "Index: 294, Value: Publisherhttp://dx.doi.org/10.2166/wh.2010.049\n",
            "Index: 295, Value: Publisherhttp://dx.doi.org/10.1111/j.1753-6405.2010.00495.x\n",
            "Index: 296, Value: Publisherhttp://dx.doi.org/10.1016/j.vetpar.2011.07.011\n",
            "Index: 297, Value: Publisherhttp://www.ncbi.nlm.nih.gov/pmc/articles/PMC2374891\n",
            "Index: 298, Value: Publisherhttp://dx.doi.org/10.4081/gh.2007.262 |PubMedhttp://www.ncbi.nlm.nih.gov/pubmed/18686239\n",
            "Index: 299, Value: Publisherhttp://dx.doi.org/10.1038/scientificamerican0608-96\n",
            "Index: 300, Value: Publisherhttp://dx.doi.org/10.1111/j.1539-6924.2007.00884.x\n",
            "Index: 301, Value: Publisherhttp://dx.doi.org/10.1126/science.1154102\n",
            "Index: 302, Value: Publisherhttp://dx.doi.org/10.1021/es901162d\n",
            "Index: 303, Value: Publisherhttp://www.iisd.org/publications/migration-and-climate-change\n",
            "Index: 304, Value: Publisherhttp://dx.doi.org/10.1080/09613210802076427\n",
            "Index: 305, Value: Publisherhttp://dx.doi.org/10.1007/s10584-007-9302-z\n",
            "Index: 306, Value: Publisherhttp://www.ncbi.nlm.nih.gov/pmc/articles/PMC3198120\n",
            "Index: 308, Value: Publisherhttp://www.ncbi.nlm.nih.gov/pmc/articles/PMC3078090\n",
            "Index: 309, Value: Publisherhttp://dx.doi.org/10.1021/es901295k\n",
            "Index: 310, Value: Publisherhttp://dx.doi.org/10.1097/DMP.0b013e31818aaf55\n",
            "Index: 312, Value: Publisherhttp://dx.doi.org/10.1016/j.jenvman.2009.05.014\n",
            "Index: 314, Value: Publisherhttp://www.ncbi.nlm.nih.gov/pmc/articles/PMC2770281\n",
            "Index: 315, Value: Publisherhttp://dx.doi.org/10.1111/j.1467-9280.2009.02284.x\n",
            "Index: 316, Value: Publisherhttp://dx.doi.org/10.1089/bsp.2009.0013\n",
            "Index: 318, Value: Publisherhttp://dx.doi.org/10.1016/j.gloenvcha.2008.11.005\n",
            "Index: 319, Value: Publisherhttp://dx.doi.org/10.1126/science.1197175\n",
            "Index: 320, Value: Publisherhttp://dx.doi.org/10.1186/1824-7288-36-58\n",
            "Index: 322, Value: Publisherhttp://dx.doi.org/10.1016/j.envpol.2011.02.005\n",
            "Index: 323, Value: Publisherhttp://www.sott.net/article/209592-Hundreds-die-in-Indian-heatwave\n",
            "Index: 324, Value: Publisherhttp://www.ncbi.nlm.nih.gov/pmc/articles/PMC2781059\n",
            "Index: 325, Value: Publisherhttp://dx.doi.org/10.1111/j.1753-6405.2010.00469.x\n",
            "Index: 326, Value: Publisherhttp://dx.doi.org/10.1097/01.ede.0000391722.16123.9b\n",
            "Index: 327, Value: Publisherhttp://www.ncbi.nlm.nih.gov/pmc/articles/PMC3114809\n",
            "Index: 328, Value: Publisherhttp://ascelibrary.org/doi/abs/10.1061/41143%28394%29121 |Publisherhttp://dx.doi.org/10.1061/41143(394)121\n",
            "Index: 331, Value: Publisherhttp://dx.doi.org/10.1136/pgmj.2009.082727\n",
            "Index: 332, Value: Publisherhttp://dx.doi.org/10.1021/es801613g\n",
            "Index: 333, Value: Publisherhttp://www.ncbi.nlm.nih.gov/pmc/articles/PMC2839380\n",
            "Index: 334, Value: Publisherhttp://www.ncbi.nlm.nih.gov/pmc/articles/PMC2799228\n",
            "Index: 335, Value: Publisherhttp://www.ncbi.nlm.nih.gov/pmc/articles/PMC2219563\n",
            "Index: 336, Value: Publisherhttp://www.ncbi.nlm.nih.gov/pmc/articles/PMC2901828\n",
            "Index: 337, Value: Publisherhttp://dx.doi.org/10.1007/s10995-007-0177-4\n",
            "Index: 339, Value: Publisherhttp://dx.doi.org/10.1016/j.apgeog.2010.03.007\n",
            "Index: 341, Value: Publisherhttp://www.ncbi.nlm.nih.gov/pmc/articles/PMC2855610\n",
            "Index: 342, Value: Publisherhttp://dx.doi.org/10.1016/s0140-6736(09)60926-0\n",
            "Index: 343, Value: Publisherhttp://dx.doi.org/10.1007/s11524-007-9170-x\n",
            "Index: 344, Value: Publisherhttp://dx.doi.org/10.2471/blt.06.039503\n",
            "Index: 345, Value: Publisherhttp://dx.doi.org/10.1080/09644010802193401\n",
            "Index: 346, Value: Publisherhttp://dx.doi.org/10.2188/jea.JE20080074\n",
            "Index: 348, Value: Publisherhttp://dx.doi.org/10.1071/NB10032\n",
            "Index: 350, Value: Publisherhttp://www.ncbi.nlm.nih.gov/pmc/articles/PMC2721831\n",
            "Index: 353, Value: Publisherhttp://dx.doi.org/10.1196/annals.1428.094 |Publisherhttp://onlinelibrary.wiley.com/doi/10.1196/annals.1428.094/abstract\n",
            "Index: 354, Value: Publisherhttp://dx.doi.org/10.3390/ijerph8040985\n",
            "Index: 355, Value: Publisherhttp://dx.doi.org/10.3945/ajcn.2009.26736AA\n",
            "Index: 356, Value: Publisherhttp://dx.doi.org/10.1007/s13280-011-0225-6\n",
            "Index: 357, Value: Publisherhttp://dx.doi.org/10.1021/es8036803\n",
            "Index: 358, Value: Publisherhttp://dx.doi.org/10.1111/j.1440-1584.2011.01224.x\n",
            "Index: 359, Value: Publisherhttp://dx.doi.org/10.1016/j.watres.2009.06.051\n",
            "Index: 361, Value: Publisherhttp://dx.doi.org/10.1021/es902582y\n",
            "Index: 362, Value: Publisherhttp://dx.doi.org/10.2166/wh.2009.207\n",
            "Index: 363, Value: Publisherhttp://dx.doi.org/10.1007/s00148-007-0174-3\n",
            "Index: 364, Value: Publisherhttp://dx.doi.org/10.1111/j.1469-0691.2010.03451.x\n",
            "Index: 367, Value: Publisherhttp://dx.doi.org/10.1093/heapro/dan016\n",
            "Index: 369, Value: Publisherhttp://dx.doi.org/10.1111/j.1398-9995.2010.02423.x\n",
            "Index: 370, Value: Publisherhttp://dx.doi.org/10.1007/s10453-007-9060-4\n",
            "Index: 371, Value: Publisherhttp://dx.doi.org/10.1055/s-0029-1185721\n",
            "Index: 372, Value: Publisherhttp://www.preventionweb.net/files/14382_ADSR2009.pdf\n",
            "Index: 373, Value: Publisherhttp://www.cdc.gov/mmwr/preview/mmwrhtml/mm5919a1.htm\n",
            "Index: 377, Value: Publisherhttp://www.cdc.gov/dengue/\n",
            "Index: 378, Value: Publisherhttp://www.cdc.gov/ncezid/dvbd/\n",
            "Index: 379, Value: Publisherhttp://dx.doi.org/10.1007/s11739-011-0518-6\n",
            "Index: 380, Value: Publisherhttp://dx.doi.org/10.1089/vbz.2007.0190\n",
            "Index: 383, Value: Publisherhttp://www.ncbi.nlm.nih.gov/pmc/articles/PMC3157502\n",
            "Index: 384, Value: Publisherhttp://www.who.int/mediacentre/news/statements/2008/s05/en/index.html\n",
            "Index: 385, Value: Publisherhttp://apps.searo.who.int/PDS_DOCS/B3253.pdf\n",
            "Index: 386, Value: Publisherhttp://dx.doi.org/10.2166/wst.2007.536\n",
            "Index: 387, Value: Publisherhttp://www.ncbi.nlm.nih.gov/pmc/articles/PMC2922733\n",
            "Index: 388, Value: Publisherhttp://dx.doi.org/10.1136/BMJ.d6520\n",
            "Index: 390, Value: Publisherhttp://dx.doi.org/10.1016/j.puhe.2008.10.022\n",
            "Index: 391, Value: Publisherhttp://dx.doi.org/10.1007/s00484-009-0232-5\n",
            "Index: 392, Value: Publisherhttp://dx.doi.org/10.2968/066001007\n",
            "Index: 393, Value: Publisherhttp://www.ncbi.nlm.nih.gov/pmc/articles/PMC3252560\n",
            "Index: 394, Value: Publisherhttp://www.ncbi.nlm.nih.gov/pmc/articles/PMC2443810\n",
            "Index: 396, Value: Publisherhttp://www.ncbi.nlm.nih.gov/pmc/articles/PMC2764568\n",
            "Index: 397, Value: Publisherhttp://dx.doi.org/10.1016/j.juro.2007.09.067\n",
            "Index: 398, Value: Publisherhttp://dx.doi.org/10.1007/s11869-009-0027-1\n",
            "Index: 399, Value: Publisherhttp://dx.doi.org/10.1007/s11270-006-9326-4\n",
            "Index: 400, Value: Publisherhttp://dx.doi.org/10.1080/15287390701601020\n",
            "Index: 401, Value: Publisherhttp://dx.doi.org/10.1080/15287390903091756\n",
            "Index: 402, Value: Publisherhttp://dx.doi.org/10.1016/j.ejim.2010.03.001\n",
            "Index: 403, Value: Publisherhttp://www.nrcan.gc.ca/environment/resources/publications/impacts-adaptation/reports/assessments/2008/10253\n",
            "Index: 404, Value: Publisherhttp://dx.doi.org/10.1016/j.scitotenv.2007.08.029\n",
            "Index: 405, Value: Publisherhttp://dx.doi.org/10.1016/j.scitotenv.2010.09.001\n",
            "Index: 406, Value: Publisherhttp://www.ncbi.nlm.nih.gov/pmc/articles/PMC3121613\n",
            "Index: 407, Value: Publisherhttp://www.ipcc.ch/pdf/assessment-report/ar4/wg1/ar4-wg1-chapter11.pdf\n",
            "Index: 409, Value: Publisherhttp://dx.doi.org/10.1016/j.scitotenv.2009.09.009\n",
            "Index: 410, Value: Publisherhttp://www.ncbi.nlm.nih.gov/pmc/articles/PMC2920305\n",
            "Index: 411, Value: Publisherhttp://www.ncbi.nlm.nih.gov/pmc/articles/PMC3041092\n",
            "Index: 412, Value: Publisherhttp://ftp.jrc.es/EURdoc/JRC55391.pdf\n",
            "Index: 413, Value: Publisherhttp://dx.doi.org/10.1016/j.atmosenv.2006.10.076\n",
            "Index: 414, Value: Publisherhttp://dx.doi.org/10.1007/s00038-011-0292-2\n",
            "Index: 415, Value: Publisherhttp://dx.doi.org/10.1111/j.1469-0691.2009.02847.x\n",
            "Index: 416, Value: Publisherhttp://dx.doi.org/10.1021/es1040317\n",
            "Index: 417, Value: Publisherhttps://scholarsbank.uoregon.edu/xmlui/bitstream/handle/1794/10741/PubHealthPrepManual5-10LR_0.pdf?sequence=1\n",
            "Index: 418, Value: Publisherhttp://www.ncbi.nlm.nih.gov/pmc/articles/PMC3177826\n",
            "Index: 419, Value: Publisherhttp://www.ncbi.nlm.nih.gov/pmc/articles/PMC2705977\n",
            "Index: 422, Value: Publisherhttp://www.ncbi.nlm.nih.gov/pmc/articles/PMC3083744\n",
            "Index: 423, Value: Publisherhttp://www.globalchange.gov/browse/reports/scientific-assessment-effects-global-change-united-states\n",
            "Index: 425, Value: Publisherhttp://dx.doi.org/10.1196/annals.1406.024\n",
            "Index: 426, Value: Publisherhttp://www.ipcc.ch/pdf/assessment-report/ar4/wg2/ar4-wg2-chapter8.pdf\n",
            "Index: 427, Value: Publisherhttp://dx.doi.org/10.3354/cr00808\n",
            "Index: 428, Value: Publisherhttp://www.ncbi.nlm.nih.gov/pmc/articles/PMC3119517\n",
            "Index: 429, Value: Publisherhttp://dx.doi.org/10.1159/000317200\n",
            "Index: 430, Value: Publisherhttp://www.ncbi.nlm.nih.gov/pmc/articles/PMC1839095\n",
            "Index: 431, Value: Publisherhttp://dx.doi.org/10.1016/j.envres.2006.06.003\n",
            "Index: 432, Value: Publisherhttp://dx.doi.org/10.1039/b713256p\n",
            "Index: 433, Value: Publisherhttp://www.ncbi.nlm.nih.gov/pmc/articles/PMC3192586\n",
            "Index: 434, Value: Publisherhttp://dx.doi.org/10.1196/annals.1425.001\n",
            "Index: 436, Value: Publisherhttp://dx.doi.org/10.1038/nm0108-3\n",
            "Index: 437, Value: Publisherhttp://www.ncbi.nlm.nih.gov/pmc/articles/PMC2974720\n",
            "Index: 438, Value: Publisherhttp://www.ncbi.nlm.nih.gov/pmc/articles/PMC2944107\n",
            "Index: 439, Value: Publisherhttp://www.ncbi.nlm.nih.gov/pmc/articles/PMC3230419\n",
            "Index: 440, Value: Publisherhttp://dx.doi.org/10.1289/ehp.119-a166\n",
            "Index: 441, Value: Publisherhttp://www.ncbi.nlm.nih.gov/pmc/articles/PMC2287240\n",
            "Index: 442, Value: Publisherhttp://dx.doi.org/10.1177/0042098008099361\n",
            "Index: 443, Value: Publisherhttp://dx.doi.org/10.1175/2007bams2432.1\n",
            "Index: 444, Value: Publisherhttp://dx.doi.org/10.1016/j.forsciint.2010.08.008\n",
            "Index: 445, Value: Publisherhttp://dx.doi.org/10.1016/j.puhe.2008.10.030\n",
            "Index: 446, Value: Publisherhttp://dx.doi.org/10.1016/j.seares.2010.01.004\n",
            "Index: 447, Value: Publisherhttp://dx.doi.org/10.1016/S0140-6736(09)60935-1\n",
            "Index: 448, Value: Publisherhttp://dx.doi.org/10.1016/S0140-6736(08)60502-4\n",
            "Index: 449, Value: Publisherhttp://dx.doi.org/10.1098/rsta.2011.0007\n",
            "Index: 450, Value: Publisherhttp://dx.doi.org/10.1016/j.ijfoodmicro.2007.07.060\n",
            "Index: 451, Value: Publisherhttp://dx.doi.org/10.1002/joc.1680\n",
            "Index: 452, Value: Publisherhttp://dx.doi.org/10.1007/s00038-010-0135-6\n",
            "Index: 453, Value: Publisherhttp://dx.doi.org/10.1016/j.pt.2007.03.008\n",
            "Index: 454, Value: Publisherhttp://dx.doi.org/10.1088/1755-1307/6/4/142018 |Publisherhttp://iopscience.iop.org/1755-1315/6/14/142018/pdf/1755-1315_6_14_142018.pdf\n",
            "Index: 455, Value: Publisherhttp://dx.doi.org/10.1016/j.envsci.2011.12.006\n",
            "Index: 456, Value: Publisherhttp://dx.doi.org/10.1016/j.envsci.2011.02.002\n",
            "Index: 457, Value: Publisherhttp://www.emdat.be/\n",
            "Index: 458, Value: Publisherhttp://dx.doi.org/10.1098/rsta.2007.2081\n",
            "Index: 460, Value: Publisherhttp://dx.doi.org/10.3402/gha.v3i0.5619\n",
            "Index: 461, Value: Publisherhttp://iahs.info/uploads/dms/iahs_325_0469.pdf\n",
            "Index: 463, Value: Publisherhttp://www.ipcc.ch/pdf/assessment-report/ar4/wg2/ar4-wg2-chapter10.pdf\n",
            "Index: 464, Value: Publisherhttp://dx.doi.org/10.1007/s00484-009-0283-7\n",
            "Index: 465, Value: Publisherhttp://dx.doi.org/10.1016/j.vaccine.2007.04.034\n",
            "Index: 466, Value: Publisherhttp://dx.doi.org/10.1108/17568691111107934\n",
            "Index: 467, Value: Publisherhttp://dx.doi.org/10.1097/ICL.0b013e318223392e\n",
            "Index: 469, Value: Publisherhttp://journals.lww.com/epidem/Fulltext/2009/11001/The_Impact_of_Climate_Change_on_the_Future.686.aspx#\n",
            "Index: 471, Value: Publisherhttps://www.harpercollins.com/9780061726941/the-weather-of-the-future\n",
            "Index: 472, Value: Publisherhttp://dx.doi.org/10.1007/s10464-010-9395-9\n",
            "Index: 473, Value: Publisherhttp://dx.doi.org/10.1111/j.1527-2001.2011.01220.x\n",
            "Index: 474, Value: Publisherhttp://search.informit.com.au/documentSummary;dn=267427071301841;res=IELHEA\n",
            "Index: 475, Value: Publisherhttp://dx.doi.org/10.1111/j.1365-2648.2010.05551.x\n",
            "Index: 476, Value: Publisherhttp://dx.doi.org/10.1007/s10646-009-0402-6\n",
            "Index: 478, Value: Publisherhttp://dx.doi.org/10.1016/j.jaci.2006.12.096\n",
            "Index: 479, Value: PubMedhttp://www.ncbi.nlm.nih.gov/pubmed/21717041\n",
            "Index: 480, Value: Publisherhttp://dx.doi.org/10.1016/j.chemosphere.2006.12.028\n",
            "Index: 482, Value: Publisherhttp://dx.doi.org/10.1111/j.1365-2222.2008.03033.x\n",
            "Index: 483, Value: PubMedhttp://www.ncbi.nlm.nih.gov/pubmed/17521313\n",
            "Index: 485, Value: Publisherhttp://dx.doi.org/10.1016/j.jaci.2007.10.046\n",
            "Index: 486, Value: Publisherhttp://dx.doi.org/10.1111/j.1398-9995.2006.01271.x\n",
            "Index: 487, Value: Publisherhttp://dx.doi.org/10.1016/j.atmosenv.2007.05.009\n",
            "Index: 488, Value: Publisherhttp://dx.doi.org/10.3109/08958370903008896\n",
            "Index: 489, Value: Publisherhttp://dx.doi.org/10.1016/j.ijmm.2008.02.005\n",
            "Index: 490, Value: Publisherhttp://dx.doi.org/10.1029/2007JD009719\n",
            "Index: 491, Value: Publisherhttp://dx.doi.org/10.1111/j.1574-6976.2010.00258.x\n",
            "Index: 492, Value: Publisherhttp://www.ncbi.nlm.nih.gov/pmc/articles/PMC2998052\n",
            "Index: 493, Value: Publisherhttp://dx.doi.org/10.3945/jn.109.111682\n",
            "Index: 496, Value: Publisherhttp://dx.doi.org/10.1080/15287390600884982\n",
            "Index: 497, Value: Publisherhttp://dx.doi.org/10.1016/j.pt.2011.02.001\n",
            "Index: 498, Value: Publisherhttp://www.routledgementalhealth.com/books/details/9781844075966/\n",
            "Index: 500, Value: Publisherhttp://dx.doi.org/10.1093/heapro/dam030\n",
            "Index: 501, Value: Publisherhttp://www.ncbi.nlm.nih.gov/pmc/articles/PMC3217310\n",
            "Index: 502, Value: Publisherhttp://dx.doi.org/10.1088/1755-1307/6/3/332008 |Publisherhttp://iopscience.iop.org/1755-1315/6/33/332008\n",
            "Index: 503, Value: Publisherhttp://dx.doi.org/10.1787/225282538105\n",
            "Index: 505, Value: Publisherhttp://dx.doi.org/10.1111/j.1574-0862.2007.00233.x\n",
            "Index: 506, Value: Publisherhttp://dx.doi.org/10.20506/rst.27.2.1807\n",
            "Index: 507, Value: Publisherhttp://dx.doi.org/10.1073/pnas.0809654105\n",
            "Index: 508, Value: Publisherhttp://dx.doi.org/10.1021/es800456m\n",
            "Index: 509, Value: Publisherhttp://dx.doi.org/10.1126/science.1208821\n",
            "Index: 510, Value: Publisherhttp://dx.doi.org/10.1177/0956247807076725\n",
            "Index: 511, Value: Publisherhttp://dx.doi.org/10.1016/j.enbuild.2011.07.014\n",
            "Index: 512, Value: Publisherhttp://link.springer.com/article/10.1007%2Fs00484-007-0124-5 |PubMedhttp://www.ncbi.nlm.nih.gov/pubmed/18030502\n",
            "Index: 513, Value: Publisherhttp://dx.doi.org/10.1016/j.mehy.2011.02.040\n",
            "Index: 514, Value: Publisherhttp://dx.doi.org/10.1111/j.1440-1584.2009.01107.x\n",
            "Index: 515, Value: Publisherhttp://dx.doi.org/10.1093/ije/dyp271\n",
            "Index: 516, Value: Publisherhttp://dx.doi.org/10.1093/eurpub/ckq181\n",
            "Index: 517, Value: Publisherhttp://dx.doi.org/10.1007/s10584-009-9747-3\n",
            "Index: 518, Value: Publisherhttp://dx.doi.org/10.1136/oem.2008.041376\n",
            "Index: 519, Value: Publisherhttp://dx.doi.org/10.2166/wst.2011.038\n",
            "Index: 520, Value: Publisherhttp://dx.doi.org/10.1016/j.envint.2009.07.001\n",
            "Index: 521, Value: Publisherhttp://dx.doi.org/10.1111/j.1749-6632.2010.05457.x\n",
            "Index: 522, Value: Publisherhttp://dx.doi.org/10.1111/j.1440-1843.2010.01868.x\n",
            "Index: 523, Value: Publisherhttp://dx.doi.org/10.1071/NB10026\n",
            "Index: 524, Value: Publisherhttp://webarchive.nationalarchives.gov.uk/+/www.dh.gov.uk/en/publicationsandstatistics/DH_082690\n",
            "Index: 525, Value: Publisherhttp://www.climatenorthernireland.org.uk/cmsfiles/resources/files/Health-Effects-of-Climate-Change-in-the-UK-2008_Department-of-Health-Update.pdf\n",
            "Index: 526, Value: Publisherhttp://dx.doi.org/10.1007/s10393-006-0080-2\n",
            "Index: 527, Value: Publisherhttp://dx.doi.org/10.1086/597036\n",
            "Index: 528, Value: Publisherhttp://econ.ucsb.edu/~olivier/DG_AER_2007.pdf\n",
            "Index: 529, Value: Publisherhttp://dx.doi.org/10.1257/app.3.4.152\n",
            "Index: 530, Value: Publisherhttp://dx.doi.org/10.1257/aer.99.2.211\n",
            "Index: 531, Value: Publisherhttp://dx.doi.org/10.1136/ip.2009.025841\n",
            "Index: 535, Value: Publisherhttp://dx.doi.org/10.1007/s00436-010-1767-4\n",
            "Index: 536, Value: Publisherhttp://www.ncbi.nlm.nih.gov/pmc/articles/PMC3021416\n",
            "Index: 540, Value: Publisherhttp://dx.doi.org/10.1590/S0074-02762008000600008 |PubMedhttp://www.ncbi.nlm.nih.gov/pubmed/18949325\n",
            "Index: 541, Value: Publisherhttp://www.tandfonline.com/toc/ufsh20/32/5#.VIXXj2OrzSc\n",
            "Index: 543, Value: Publisherhttp://www.ncbi.nlm.nih.gov/pmc/articles/PMC2154407\n",
            "Index: 544, Value: Publisherhttp://www.ncbi.nlm.nih.gov/pmc/articles/PMC2914717\n",
            "Index: 546, Value: Publisherhttp://dx.doi.org/10.1021/es0702972\n",
            "Index: 548, Value: Publisherhttp://dx.doi.org/10.1038/nature09439\n",
            "Index: 549, Value: Publisherhttp://dx.doi.org/10.1890/08-0736.1\n",
            "Index: 550, Value: Publisherhttp://www.ncbi.nlm.nih.gov/pmc/articles/PMC2796504\n",
            "Index: 551, Value: Publisherhttp://dx.doi.org/10.1037/a0023141\n",
            "Index: 554, Value: Publisherhttp://dx.doi.org/10.1016/j.scitotenv.2010.04.059\n",
            "Index: 555, Value: Publisherhttp://dx.doi.org/10.1177/0956247808089156\n",
            "Index: 556, Value: Publisherhttp://abstractsearch.agu.org/meetings/2010/FM/sections/B/sessions/B11J/abstracts/B11J-02.html\n",
            "Index: 557, Value: Publisherhttp://dx.doi.org/10.1016/j.gloenvcha.2006.08.003\n",
            "Index: 558, Value: Publisherhttp://www.ncbi.nlm.nih.gov/pmc/articles/PMC2410102\n",
            "Index: 560, Value: Publisherhttp://dx.doi.org/10.1016/j.jenvman.2008.02.004\n",
            "Index: 561, Value: Publisherhttp://dx.doi.org/10.1016/j.envsci.2010.07.003\n",
            "Index: 562, Value: Publisherhttp://dx.doi.org/10.1016/j.agrformet.2011.11.002\n",
            "Index: 564, Value: Publisherhttp://ascelibrary.org/doi/abs/10.1061/41143%28394%2996 |Publisherhttp://dx.doi.org/10.1061/41143(394)96\n",
            "Index: 565, Value: Publisherhttp://dx.doi.org/10.1017/s0950268807008229\n",
            "Index: 567, Value: Publisherhttp://dx.doi.org/10.1021/es8031852\n",
            "Index: 568, Value: Publisherhttp://dx.doi.org/10.2166/ws.2007.042\n",
            "Index: 569, Value: Publisherhttp://dx.doi.org/10.20506/rst.27.2.1817\n",
            "Index: 571, Value: Publisherhttp://dx.doi.org/10.1080/08958370802207300\n",
            "Index: 572, Value: Publisherhttp://www.ncbi.nlm.nih.gov/pmc/articles/PMC2982038\n",
            "Index: 573, Value: Publisherhttp://dx.doi.org/10.1111/j.1753-6405.2008.00254.x\n",
            "Index: 574, Value: Publisherhttp://dx.doi.org/10.2166/wh.2010.099\n",
            "Index: 575, Value: Publisherhttp://dx.doi.org/10.1073/pnas.0710388104\n",
            "Index: 576, Value: Publisherhttp://www.ipcc.ch/pdf/assessment-report/ar4/wg2/ar4-wg2-chapter5.pdf\n",
            "Index: 578, Value: Publisherhttp://dx.doi.org/10.1377/hlthaff.2011.0071\n",
            "Index: 579, Value: Publisherhttp://www.who.int/globalchange/publications/Final_Climate_Change.pdf\n",
            "Index: 581, Value: Publisherhttp://dx.doi.org/10.1080/13669870701447972\n",
            "Index: 582, Value: Publisherhttp://www.ncbi.nlm.nih.gov/pmc/articles/PMC2556651\n",
            "Index: 583, Value: Publisherhttp://dx.doi.org/10.1007/s10584-006-9233-0\n",
            "Index: 589, Value: Publisherhttp://dx.doi.org/10.1097/JOM.0b013e31816fd67b\n",
            "Index: 590, Value: Publisherhttp://www.ncbi.nlm.nih.gov/pmc/articles/PMC2687918\n",
            "Index: 591, Value: Publisherhttp://dx.doi.org/10.1016/j.cosust.2009.07.011\n",
            "Index: 593, Value: Publisherhttp://dx.doi.org/10.3390/ijerph8124582\n",
            "Index: 594, Value: Publisherhttp://dx.doi.org/10.1136/oemed-2011-100259\n",
            "Index: 595, Value: Publisherhttp://www.ncbi.nlm.nih.gov/pmc/articles/PMC2702397\n",
            "Index: 596, Value: Publisherhttps://www.humphreyfellowship.org/system/files/Effects%20of%20Global%20Change%20on%20Human%20Health.pdf\n",
            "Index: 597, Value: Publisherhttp://dx.doi.org/10.1016/j.envsci.2008.02.001\n",
            "Index: 599, Value: Publisherhttp://www.ncbi.nlm.nih.gov/pmc/articles/PMC2592262\n",
            "Index: 600, Value: Publisherhttp://archives.enap.ca/bibliotheques/2009/09/30110842.pdf\n",
            "Index: 602, Value: Publisherhttp://dx.doi.org/10.1007/s10584-011-0160-3\n",
            "Index: 604, Value: Publisherhttp://dx.doi.org/10.1016/j.cppeds.2009.12.001\n",
            "Index: 605, Value: Publisherhttp://dx.doi.org/10.1016/j.amepre.2008.08.018\n",
            "Index: 606, Value: Publisherhttp://dx.doi.org/10.1007/s10393-007-0119-z\n",
            "Index: 607, Value: Publisherhttp://www.ecdc.europa.eu/en/publications/Publications/0703_MER_Environmental_Change_and_Infectious_Disease.pdf\n",
            "Index: 608, Value: Publisherhttp://search.informit.com.au/documentSummary;dn=929928050111615;res=IELBUS\n",
            "Index: 609, Value: Publisherhttp://dx.doi.org/10.1177/1010539510392361\n",
            "Index: 610, Value: Publisherhttp://dx.doi.org/10.1093/ije/dyp172\n",
            "Index: 611, Value: Publisherhttp://ftp.eea.europa.eu/www/eea-data/Belgrade_EN_all_chapters_incl_cover.pdf\n",
            "Index: 612, Value: Publisherhttp://www.ncbi.nlm.nih.gov/pmc/articles/PMC3083677\n",
            "Index: 614, Value: Publisherhttp://dx.doi.org/10.1111/j.1467-789X.2008.00469.x\n",
            "Index: 619, Value: Publisherhttp://dx.doi.org/10.1111/j.1365-2486.2009.01998.x\n",
            "Index: 620, Value: Publisherhttp://dx.doi.org/10.1111/j.1469-0691.2009.02849.x\n",
            "Index: 621, Value: Publisherhttp://dx.doi.org/10.1016/j.scitotenv.2009.01.012\n",
            "Index: 622, Value: Publisherhttp://www.ncbi.nlm.nih.gov/pmc/articles/PMC2467415\n",
            "Index: 623, Value: Publisherhttp://dx.doi.org/10.1016/j.watres.2010.08.051\n",
            "Index: 624, Value: Publisherhttp://www.ncbi.nlm.nih.gov/pmc/articles/PMC2799308\n",
            "Index: 625, Value: Publisherhttp://dx.doi.org/10.1111/j.1475-4959.2009.00328.x\n",
            "Index: 626, Value: Publisherhttp://dx.doi.org/10.1007/s00484-010-0323-3\n",
            "Index: 627, Value: Publisherhttp://dx.doi.org/10.1007/978-0-387-73412-5_16 |Publisherhttp://link.springer.com/chapter/10.1007%2F978-0-387-73412-5_16\n",
            "Index: 628, Value: Publisherhttp://www.natgesis.bfn.de/fileadmin/MDB/documents/service/skript237.pdf#page=119\n",
            "Index: 630, Value: Publisherhttp://dx.doi.org/10.2113/gselements.6.4.223\n",
            "Index: 631, Value: Publisherhttp://www.ncbi.nlm.nih.gov/pmc/articles/PMC2801164\n",
            "Index: 633, Value: Publisherhttp://dx.doi.org/10.1111/j.1365-2222.2007.02818.x\n",
            "Index: 634, Value: Publisherhttp://dx.doi.org/10.1186/1476-069x-7-s2-s2\n",
            "Index: 636, Value: Publisherhttp://dx.doi.org/10.1007/s10661-008-0177-x\n",
            "Index: 637, Value: Publisherhttp://dx.doi.org/10.1289/ehp.1103681\n",
            "Index: 639, Value: Publisherhttp://dx.doi.org/10.1093/jmedent/44.6.1130 |PubMedhttp://www.ncbi.nlm.nih.gov/pubmed/18047215\n",
            "Index: 640, Value: Publisherhttp://ecdc.europa.eu/en/publications/Publications/0709_MIR_Chikungunya_in_Italy.pdf\n",
            "Index: 641, Value: Publisherhttp://www.europarl.europa.eu/RegData/docs_autres_institutions/commission_europeenne/sec/2007/0849/COM_SEC%282007%290849_EN.pdf\n",
            "Index: 642, Value: Publisherhttp://ec.europa.eu/health/ph_threats/climate/docs/com_2009-147_en.pdf\n",
            "Index: 643, Value: Publisherhttp://www.eea.europa.eu/publications/climate-impacts-and-vulnerability-2012\n",
            "Index: 644, Value: Publisherhttp://dx.doi.org/10.1038/nature10552\n",
            "Index: 645, Value: Publisherhttp://www.ncbi.nlm.nih.gov/pmc/articles/PMC3204919\n",
            "Index: 646, Value: Publisherhttp://dx.doi.org/10.1016/j.hal.2010.10.006\n",
            "Index: 647, Value: Publisherhttp://dx.doi.org/10.1016/s0140-6736(10)60342-x\n",
            "Index: 648, Value: Publisherhttp://dx.doi.org/10.3390/cancers2041980\n",
            "Index: 649, Value: Publisherhttp://dx.doi.org/10.1097/HJR.0b013e3282f30097\n",
            "Index: 650, Value: Publisherhttp://dx.doi.org/10.1038/ki.2009.274\n",
            "Index: 651, Value: Publisherhttp://dx.doi.org/10.1038/ki.2011.76\n",
            "Index: 652, Value: Publisherhttp://dx.doi.org/10.1016/j.eimc.2009.11.013\n",
            "Index: 653, Value: Publisherhttp://dx.doi.org/10.1139/h07-185\n",
            "Index: 654, Value: Publisherhttp://dx.doi.org/10.1093/aje/kwr313\n",
            "Index: 655, Value: Publisherhttp://dx.doi.org/10.1016/j.scitotenv.2009.05.002\n",
            "Index: 656, Value: Publisherhttp://dx.doi.org/10.1016/j.scitotenv.2007.12.018\n",
            "Index: 657, Value: Publisherhttp://dx.doi.org/10.1007/s00267-006-0116-y\n",
            "Index: 658, Value: Publisherhttp://www.fao.org/fileadmin/user_upload/foodclimate/presentations/diseases/OptionsEM3.pdf\n",
            "Index: 659, Value: Publisherhttp://www.fao.org/GIEWS/english/index.htm\n",
            "Index: 660, Value: Publisherhttp://www.fao.org/foodclimate/conference/en/\n",
            "Index: 663, Value: Publisherhttp://www.ncsl.org/research/environment-and-natural-resources/climate-change-and-public-health.aspx\n",
            "Index: 664, Value: Publisherhttp://dx.doi.org/10.3390/ijerph7072940\n",
            "Index: 665, Value: Publisherhttp://dx.doi.org/10.1097/DMP.0b013e3181b65895\n",
            "Index: 666, Value: Publisherhttp://dx.doi.org/10.1007/978-90-481-8716-4_9 |Publisherhttp://link.springer.com/chapter/10.1007/978-90-481-8716-4_9\n",
            "Index: 668, Value: Publisherhttp://www.ncbi.nlm.nih.gov/pmc/articles/PMC2834625\n",
            "Index: 669, Value: Publisherhttp://link.springer.com/article/10.1057%2Fbp.2009.13\n",
            "Index: 670, Value: Publisherhttp://www.hschange.org/CONTENT/991/\n",
            "Index: 671, Value: Publisherhttps://www.fema.gov/significant-flood-events\n",
            "Index: 672, Value: Publisherhttp://www.fema.gov/hazus\n",
            "Index: 673, Value: Publisherhttp://dx.doi.org/10.1021/es902974g\n",
            "Index: 674, Value: Publisherhttp://www.ncbi.nlm.nih.gov/pmc/articles/PMC2922556\n",
            "Index: 676, Value: Publisherhttp://dx.doi.org/10.1007/s00484-009-0289-1\n",
            "Index: 677, Value: Publisherhttp://dx.doi.org/10.1029/2011eo350006\n",
            "Index: 678, Value: Publisherhttp://dx.doi.org/10.1016/j.gloenvcha.2006.11.001\n",
            "Index: 679, Value: Publisherhttp://dx.doi.org/10.1016/j.puhe.2007.09.010\n",
            "Index: 680, Value: Publisherhttp://dx.doi.org/10.1016/j.gloenvcha.2011.08.003\n",
            "Index: 682, Value: Publisherhttp://dx.doi.org/10.1007/s10900-010-9312-z\n",
            "Index: 684, Value: Publisherhttp://dx.doi.org/10.1016/j.ecolecon.2011.01.014\n",
            "Index: 685, Value: Publisherhttp://dx.doi.org/10.4081/gh.2010.187 |PubMedhttp://www.ncbi.nlm.nih.gov/pubmed/21080321\n",
            "Index: 686, Value: Publisherhttp://dx.doi.org/10.1016/j.gloplacha.2011.05.008\n",
            "Index: 687, Value: Publisherhttp://www.ipcc.ch/pdf/assessment-report/ar4/wg2/ar4-wg2-chapter4.pdf\n",
            "Index: 688, Value: Publisherhttp://dx.doi.org/10.1111/j.1600-0668.2007.00475.x\n",
            "Index: 689, Value: Publisherhttp://dx.doi.org/10.1146/annurev.publhealth.28.021406.144128 |Publisherhttp://www.annualreviews.org/doi/abs/10.1146/annurev.publhealth.28.021406.144128\n",
            "Index: 691, Value: Publisherhttp://www.eurosurveillance.org/ViewArticle.aspx?ArticleId=18905\n",
            "Index: 692, Value: Publisherhttp://dx.doi.org/10.1071/WF08187\n",
            "Index: 693, Value: Publisherhttp://www.ncbi.nlm.nih.gov/pmc/articles/PMC2683400\n",
            "Index: 694, Value: Publisherhttp://www.fao.org/docrep/010/i0195e/i0195e00.htm\n",
            "Index: 695, Value: Publisherhttp://dx.doi.org/10.1007/s00038-009-0096-9\n",
            "Index: 696, Value: Publisherhttp://dx.doi.org/10.1007/s10113-008-0060-x\n",
            "Index: 697, Value: Publisherhttp://dx.doi.org/10.1088/1748-9326/4/2/024006\n",
            "Index: 700, Value: Publisherhttp://dx.doi.org/10.1016/j.gloenvcha.2010.05.003\n",
            "Index: 701, Value: Publisherhttp://dx.doi.org/10.1002/wcc.48\n",
            "Index: 702, Value: Publisherhttp://dx.doi.org/10.1016/j.gloenvcha.2009.10.008\n",
            "Index: 703, Value: Publisherhttp://dx.doi.org/10.2105/AJPH.2010.300105\n",
            "Index: 704, Value: Publisherhttp://www.ncbi.nlm.nih.gov/pmc/articles/PMC2687921/\n",
            "Index: 705, Value: Publisherhttp://dx.doi.org/10.3201/eid1509.081334\n",
            "Index: 706, Value: Publisherhttp://dx.doi.org/10.1038/453601a\n",
            "Index: 707, Value: Publisherhttp://dx.doi.org/10.20506/rst.27.2.1814\n",
            "Index: 708, Value: Publisherhttp://biomedgerontology.oxfordjournals.org/content/62/6/647.long |PubMedhttp://www.ncbi.nlm.nih.gov/pubmed/17595422\n",
            "Index: 710, Value: Publisherhttp://dx.doi.org/10.1016/j.puhe.2008.10.032\n",
            "Index: 711, Value: Publisherhttp://www.ncbi.nlm.nih.gov/pmc/articles/PMC1924851\n",
            "Index: 712, Value: Publisherhttp://www.ncbi.nlm.nih.gov/pmc/articles/PMC2652641\n",
            "Index: 713, Value: Publisherhttp://dx.doi.org/10.1080/10807030903051309\n",
            "Index: 714, Value: Publisherhttp://www.ncbi.nlm.nih.gov/pmc/articles/PMC3018428\n",
            "Index: 715, Value: Publisherhttp://dx.doi.org/10.1016/s0301-0546(09)71722-7\n",
            "Index: 716, Value: Publisherhttp://dx.doi.org/10.1007/s10584-010-9897-3\n",
            "Index: 717, Value: Publisherhttp://dx.doi.org/10.1016/j.ypmed.2009.09.025\n",
            "Index: 718, Value: Publisherhttp://dx.doi.org/10.1016/j.ecolecon.2010.02.010\n",
            "Index: 719, Value: Publisherhttp://dx.doi.org/10.1007/s10464-010-9392-z\n",
            "Index: 720, Value: Publisherhttp://dx.doi.org/10.1016/j.amepre.2009.02.001\n",
            "Index: 723, Value: Publisherhttp://dx.doi.org/10.1007/s00484-008-0178-z\n",
            "Index: 724, Value: Publisherhttp://dx.doi.org/10.1007/s00484-008-0159-2\n",
            "Index: 725, Value: Publisherhttp://dx.doi.org/10.1071/NB10019\n",
            "Index: 726, Value: Publisherhttp://www.ncbi.nlm.nih.gov/pmc/articles/PMC3191214\n",
            "Index: 727, Value: Publisherhttp://dx.doi.org/10.1146/annurev-publhealth-071910-140612\n",
            "Index: 728, Value: Publisherhttp://dx.doi.org/10.1016/s0140-6736(09)61753-0\n",
            "Index: 729, Value: Publisherhttp://www.ncbi.nlm.nih.gov/pmc/articles/PMC3191212\n",
            "Index: 730, Value: Publisherhttp://dx.doi.org/10.1016/S0140-6736(08)61692-X\n",
            "Index: 731, Value: Publisherhttp://www.ncbi.nlm.nih.gov/pmc/articles/PMC2669218\n",
            "Index: 732, Value: Publisherhttp://www.ncbi.nlm.nih.gov/pmc/articles/PMC2556310\n",
            "Index: 733, Value: Publisherhttp://dx.doi.org/10.1002/ajhb.20769\n",
            "Index: 734, Value: Publisherhttp://www.medscape.com/viewarticle/569342\n",
            "Index: 735, Value: Publisherhttp://dx.doi.org/10.1007/s11027-007-9138-x\n",
            "Index: 736, Value: Publisherhttp://dx.doi.org/10.1016/j.amepre.2010.11.001\n",
            "Index: 737, Value: Publisherhttp://www.ncbi.nlm.nih.gov/pmc/articles/PMC2253589\n",
            "Index: 738, Value: Publisherhttp://dx.doi.org/10.1016/j.amepre.2008.08.019\n",
            "Index: 739, Value: Publisherhttp://dx.doi.org/10.1016/j.amepre.2008.08.031\n",
            "Index: 740, Value: Publisherhttp://www.ncbi.nlm.nih.gov/pmc/articles/PMC2771419\n",
            "Index: 741, Value: Publisherhttp://dx.doi.org/10.1016/j.ijfoodmicro.2007.03.011\n",
            "Index: 742, Value: Publisherhttp://dx.doi.org/10.1021/es901944r\n",
            "Index: 743, Value: Publisherhttp://www.ncbi.nlm.nih.gov/pmc/articles/PMC3071514\n",
            "Index: 744, Value: Publisherhttp://dx.doi.org/10.1088/1748-9326/4/1/014011\n",
            "Index: 746, Value: Publisherhttp://www.ncbi.nlm.nih.gov/pmc/articles/PMC2497460\n",
            "Index: 747, Value: Publisherhttp://dx.doi.org/10.3155/1047-3289.60.6.681\n",
            "Index: 748, Value: Publisherhttp://www.ncbi.nlm.nih.gov/pmc/articles/PMC3204920\n",
            "Index: 750, Value: Publisherhttp://heinonline.org/HOL/LandingPage?handle=hein.journals/haswnw16&di=12&id=&page=\n",
            "Index: 751, Value: Publisherhttp://dx.doi.org/10.1080/09603120701358416\n",
            "Index: 752, Value: Publisherhttp://dx.doi.org/10.1016/j.gloenvcha.2010.07.009\n",
            "Index: 754, Value: Publisherhttp://dx.doi.org/10.1016/j.envpol.2011.01.016\n",
            "Index: 755, Value: Publisherhttp://dx.doi.org/10.1097/01.FCH.0000304067.25324.b7\n",
            "Index: 756, Value: Publisherhttp://dx.doi.org/10.1016/j.amepre.2008.08.030\n",
            "Index: 758, Value: Publisherhttp://dx.doi.org/10.1177/1010539510372993\n",
            "Index: 759, Value: Publisherhttp://dx.doi.org/10.1017/s0950268809990367\n",
            "Index: 760, Value: Publisherhttp://dx.doi.org/10.1111/j.1365-2672.2008.04036.x\n",
            "Index: 761, Value: Publisherhttp://dx.doi.org/10.1111/j.1365-2672.2009.04638.x\n",
            "Index: 762, Value: Publisherhttp://www.ncbi.nlm.nih.gov/pmc/articles/PMC2174368\n",
            "Index: 763, Value: Publisherhttp://dx.doi.org/10.1093/ije/dyp279\n",
            "Index: 764, Value: Publisherhttp://dx.doi.org/10.1016/j.schres.2010.12.010\n",
            "Index: 765, Value: Publisherhttp://dx.doi.org/10.4081/jlimnol.2011.186\n",
            "Index: 766, Value: Publisherhttp://dx.doi.org/10.1177/1757975909103761\n",
            "Index: 769, Value: Publisherhttp://downloads.globalchange.gov/sap/sap4-6/sap4-6-final-report-all.pdf\n",
            "Index: 770, Value: Publisherhttp://www.ncbi.nlm.nih.gov/pmc/articles/PMC2739867\n",
            "Index: 771, Value: Publisherhttp://dx.doi.org/10.1111/j.1365-2486.2010.02346.x\n",
            "Index: 772, Value: Publisherhttp://dx.doi.org/10.1098/rstb.2010.0171\n",
            "Index: 773, Value: Publisherhttps://ams.confex.com/ams/90annual/techprogram/paper_164522.htm\n",
            "Index: 775, Value: Publisherhttp://dx.doi.org/10.1016/j.worlddev.2010.01.003\n",
            "Index: 776, Value: Publisherhttp://dx.doi.org/10.1007/s00267-008-9242-z\n",
            "Index: 777, Value: Publisherhttp://www.wcrp-climate.org/conference2011/abstracts/C42/Garland_C42_TH265A.pdf\n",
            "Index: 778, Value: Publisherhttp://www.garnautreview.org.au/update-2011/garnaut-review-2011.html\n",
            "Index: 781, Value: Publisherhttp://dx.doi.org/10.1016/j.atmosenv.2010.07.016\n",
            "Index: 782, Value: Publisherhttp://dx.doi.org/10.1097/EDE.0b013e3181fdcd99\n",
            "Index: 783, Value: Publisherhttp://dx.doi.org/10.1016/j.cosust.2010.12.009\n",
            "Index: 784, Value: Publisherhttp://dx.doi.org/10.1002/met.4\n",
            "Index: 785, Value: Publisherhttp://dx.doi.org/10.1128/aem.02633-08\n",
            "Index: 786, Value: Publisherhttp://www.ncbi.nlm.nih.gov/pmc/articles/PMC2686729\n",
            "Index: 787, Value: Publisherhttp://dx.doi.org/10.1097/JOM.0b013e3181754161\n",
            "Index: 789, Value: Publisherhttp://dx.doi.org/10.1111/j.1365-2753.2009.01356.x\n",
            "Index: 790, Value: Publisherhttps://ams.confex.com/ams/29Hurricanes/webprogram/Paper168924.html\n",
            "Index: 791, Value: Publisherhttps://dph.georgia.gov/sites/dph.georgia.gov/files/EnvHealth/Food/Education/Water%20Advisory%20Drought%20Guidance%20November%202007.pdf\n",
            "Index: 792, Value: Publisherhttp://dx.doi.org/10.1111/j.1541-0072.2007.00217.x\n",
            "Index: 793, Value: Publisherhttp://www.ncbi.nlm.nih.gov/pmc/articles/PMC2885436\n",
            "Index: 794, Value: Publisherhttp://www.ncbi.nlm.nih.gov/pmc/articles/PMC3128053\n",
            "Index: 795, Value: Publisherhttp://www.ncbi.nlm.nih.gov/pmc/articles/PMC3089047\n",
            "Index: 796, Value: Publisherhttp://dx.doi.org/10.1007/s00442-009-1430-x\n",
            "Index: 797, Value: Publisherhttp://www.ncbi.nlm.nih.gov/pmc/articles/PMC2709837\n",
            "Index: 799, Value: Publisherhttp://dx.doi.org/10.1071/nb10027\n",
            "Index: 801, Value: Publisherhttp://dx.doi.org/10.1017/s1751731109004662\n",
            "Index: 803, Value: Publisherhttp://dx.doi.org/10.3354/cr00728\n",
            "Index: 805, Value: Publisherhttp://www.ncbi.nlm.nih.gov/pmc/articles/PMC2790086\n",
            "Index: 806, Value: Publisherhttp://dx.doi.org/10.1016/j.actatropica.2011.10.002\n",
            "Index: 807, Value: Publisherhttp://dx.doi.org/10.1002/joc.1828\n",
            "Index: 808, Value: Publisherhttp://dx.doi.org/10.5194/nhess-11-53-2011\n",
            "Index: 809, Value: Publisherhttp://dx.doi.org/10.3132/pcrj.2008.00015\n",
            "Index: 810, Value: Publisherhttp://www.ncbi.nlm.nih.gov/pmc/articles/PMC2799475\n",
            "Index: 811, Value: Publisherhttp://www.ghf-ge.org/human-impact-report.pdf\n",
            "Index: 812, Value: Publisherhttp://www.ncbi.nlm.nih.gov/pmc/articles/PMC2223001\n",
            "Index: 814, Value: Publisherhttp://dx.doi.org/10.1177/1010539510397038\n",
            "Index: 815, Value: Publisherhttp://www.ncbi.nlm.nih.gov/pmc/articles/PMC3094406\n",
            "Index: 816, Value: Publisherhttp://www.ncbi.nlm.nih.gov/pmc/articles/PMC3003010\n",
            "Index: 817, Value: Publisherhttp://dx.doi.org/10.1126/science.1185383\n",
            "Index: 818, Value: Publisherhttp://dx.doi.org/10.1098/rstb.2010.0180\n",
            "Index: 820, Value: Publisherhttp://dx.doi.org/10.1080/03014460801968540\n",
            "Index: 821, Value: Publisherhttp://dx.doi.org/10.1002/ajhb.20679\n",
            "Index: 822, Value: Publisherhttp://www.ncbi.nlm.nih.gov/pmc/articles/PMC3114817\n",
            "Index: 823, Value: Publisherhttp://dx.doi.org/10.1260/095830509788066439\n",
            "Index: 824, Value: Publisherhttp://dx.doi.org/10.1007/s11027-006-9044-7\n",
            "Index: 825, Value: Publisherhttp://dx.doi.org/10.1016/j.envres.2011.05.022\n",
            "Index: 826, Value: Publisherhttp://dx.doi.org/10.1007/s00484-007-0142-3\n",
            "Index: 828, Value: Publisherhttps://www.ifo.de/DocDL/cesifo1_wp3122.pdf\n",
            "Index: 829, Value: Publisherhttp://dx.doi.org/10.1007/s00038-010-0229-1\n",
            "Index: 831, Value: Publisherhttp://dx.doi.org/10.1680/udap.2008.161.3.97\n",
            "Index: 832, Value: Publisherhttp://www.ncbi.nlm.nih.gov/pmc/articles/PMC2935125\n",
            "Index: 833, Value: Publisherhttp://iahs.info/uploads/dms/iahs_327_0204.pdf\n",
            "Index: 834, Value: Publisherhttp://dx.doi.org/10.1111/j.1753-6405.2009.00447.x\n",
            "Index: 837, Value: Publisherhttp://dx.doi.org/10.1007/s10584-008-9441-x\n",
            "Index: 838, Value: Publisherhttp://dx.doi.org/10.1007/s00484-008-0189-9\n",
            "Index: 839, Value: Publisherhttp://dx.doi.org/10.1007/s00484-007-0092-9\n",
            "Index: 840, Value: Publisherhttp://dx.doi.org/10.1177/0309133311407650\n",
            "Index: 841, Value: Publisherhttp://dx.doi.org/10.2340/16501977-0890\n",
            "Index: 842, Value: Publisherhttp://www.ncbi.nlm.nih.gov/pmc/articles/PMC3180480\n",
            "Index: 843, Value: Publisherhttp://dx.doi.org/10.1016/j.jenvman.2008.07.007\n",
            "Index: 845, Value: Publisherhttp://dx.doi.org/10.1289/ehp.1103440\n",
            "Index: 846, Value: Publisherhttp://dx.doi.org/10.1016/j.hal.2010.09.002\n",
            "Index: 847, Value: Publisherhttp://dx.doi.org/10.1039/b705482c\n",
            "Index: 848, Value: Publisherhttp://dx.doi.org/10.1002/joc.1592\n",
            "Index: 849, Value: Publisherhttp://dx.doi.org/10.1111/j.1365-3156.2007.01993.x\n",
            "Index: 851, Value: Publisherhttp://www.ncbi.nlm.nih.gov/pmc/articles/PMC2648658\n",
            "Index: 852, Value: Publisherhttp://dx.doi.org/10.1007/s10584-009-9756-2\n",
            "Index: 854, Value: Publisherhttp://dx.doi.org/10.1007/s00038-009-0076-0\n",
            "Index: 855, Value: Publisherhttp://dx.doi.org/10.1175/wcas-d-11-00055.1\n",
            "Index: 856, Value: Publisherhttp://dx.doi.org/10.1016/j.annemergmed.2007.04.004\n",
            "Index: 857, Value: Publisherhttp://www.ncbi.nlm.nih.gov/pmc/articles/PMC2263103\n",
            "Index: 858, Value: Publisherhttp://dx.doi.org/10.1093/jxb/erp080\n",
            "Index: 860, Value: Publisherhttp://dx.doi.org/10.1016/j.apgeog.2011.05.013\n",
            "Index: 861, Value: Publisherhttp://dx.doi.org/10.1007/s10640-011-9483-9\n",
            "Index: 862, Value: Publisherhttp://www.rand.org/content/dam/rand/pubs/technical_reports/2008/RAND_TR505.pdf\n",
            "Index: 864, Value: Publisherhttp://dx.doi.org/10.1175/jamc-d-11-063.1\n",
            "Index: 865, Value: Publisherhttp://dx.doi.org/10.1136/thx.2007.092882\n",
            "Index: 866, Value: Publisherhttp://dx.doi.org/10.1038/ijo.2011.151\n",
            "Index: 867, Value: Publisherhttp://www.publish.csiro.au/view/journals/dsp_journal_fulltext.cfm?nid=188&f=EN07027\n",
            "Index: 868, Value: Publisherhttp://www.ncbi.nlm.nih.gov/pmc/articles/PMC2253602\n",
            "Index: 869, Value: Publisherhttp://dx.doi.org/10.1016/j.livsci.2010.02.009\n",
            "Index: 870, Value: Publisherhttp://dx.doi.org/10.1371/journal.pone.0016511\n",
            "Index: 871, Value: Publisherhttp://dx.doi.org/10.1007/s10784-010-9139-1\n",
            "Index: 872, Value: Publisherhttp://dx.doi.org/10.1007/s10640-008-9193-0\n",
            "Index: 875, Value: Publisherhttp://dx.doi.org/10.1007/s10393-010-0330-1\n",
            "Index: 876, Value: Publisherhttp://dx.doi.org/10.1039/c0pp90036b\n",
            "Index: 877, Value: Publisherhttp://abstractsearch.agu.org/meetings/2011/FM/sections/B/sessions/B42C/abstracts/B42C-04.html\n",
            "Index: 878, Value: Publisherhttp://dx.doi.org/10.1016/j.gloenvcha.2008.11.002\n",
            "Index: 880, Value: Publisherhttp://dx.doi.org/10.1016/j.socscimed.2011.12.008\n",
            "Index: 881, Value: Publisherhttp://dx.doi.org/10.1016/s0140-6736(09)61759-1\n",
            "Index: 882, Value: Publisherhttp://dx.doi.org/10.1016/s0140-6736(07)61257-4\n",
            "Index: 883, Value: Publisherhttp://unfccc.int/resource/docs/publications/financial_flows.pdf\n",
            "Index: 884, Value: Publisherhttp://dx.doi.org/10.1136/jech.2009.087999\n",
            "Index: 886, Value: Publisherhttp://dx.doi.org/10.1016/S0140-6736(09)61711-6\n",
            "Index: 887, Value: Publisherhttp://dx.doi.org/10.2105/ajph.2009.169748\n",
            "Index: 888, Value: Publisherhttp://dx.doi.org/10.1108/17568691011020229\n",
            "Index: 890, Value: Publisherhttp://dx.doi.org/10.1088/1755-1307/6/8/582014 |Publisherhttp://iopscience.iop.org/1755-1315/6/58/582014\n",
            "Index: 891, Value: Publisherhttp://dx.doi.org/10.1080/09603120801966043\n",
            "Index: 892, Value: Publisherhttp://dx.doi.org/10.1017/s0950268810001901\n",
            "Index: 893, Value: Publisherhttp://abstractsearch.agu.org/meetings/2007/FM/sections/GC/sessions/GC31A/abstracts/GC31A-0104.html\n",
            "Index: 894, Value: Publisherhttp://dx.doi.org/10.1088/1755-1307/6/2/322001 |Publisherhttp://iopscience.iop.org/1755-1315/6/32/322001\n",
            "Index: 895, Value: Publisherhttp://dx.doi.org/10.1007/s10584-010-9981-8\n",
            "Index: 896, Value: Publisherhttp://www.nature.com/nclimate/journal/v1/n3/full/nclimate1135.html\n",
            "Index: 897, Value: Publisherhttp://hab.ioc-unesco.org/index.php?option=com_oe&task=viewDocumentRecord&docID=3064\n",
            "Index: 899, Value: Publisherhttp://dx.doi.org/10.1007/s10584-006-9221-4\n",
            "Index: 900, Value: Publisherhttp://dx.doi.org/10.1007/s00267-009-9273-0\n",
            "Index: 901, Value: Publisherhttp://dx.doi.org/10.1007/s11027-007-9093-6\n",
            "Index: 902, Value: Publisherhttp://www.cdc.gov/mmwr/preview/mmwrhtml/mm5615a3.htm\n",
            "Index: 903, Value: Publisherhttp://www.ncbi.nlm.nih.gov/pmc/articles/PMC3155333\n",
            "Index: 904, Value: Publisherhttp://dx.doi.org/10.1007/s10750-010-0316-6\n",
            "Index: 905, Value: Publisherhttp://dx.doi.org/10.1016/j.annemergmed.2008.10.024\n",
            "Index: 906, Value: Publisherhttp://dx.doi.org/10.1016/j.annemergmed.2008.10.014\n",
            "Index: 908, Value: Publisherhttp://dx.doi.org/10.5194/hess-15-1427-2011\n",
            "Index: 909, Value: Publisherhttp://dx.doi.org/10.1289/ehp.1001995\n",
            "Index: 911, Value: Publisherhttp://www.bushfirecrc.com/sites/default/files/managed/resource/review-fatalities-february-7.pdf\n",
            "Index: 912, Value: Publisherhttp://dx.doi.org/10.2166/wst.2010.449\n",
            "Index: 913, Value: Publisherhttp://dx.doi.org/10.1016/j.ijheh.2011.10.003\n",
            "Index: 914, Value: Publisherhttp://www.ncbi.nlm.nih.gov/pmc/articles/PMC2638900\n",
            "Index: 915, Value: Publisherhttp://dx.doi.org/10.1186/1476-069x-10-49\n",
            "Index: 916, Value: Publisherhttp://dx.doi.org/10.1177/1010539510391459\n",
            "Index: 917, Value: Publisherhttp://dx.doi.org/10.1177/1010539510391457\n",
            "Index: 918, Value: Publisherhttp://dx.doi.org/10.1177/1010539510391775\n",
            "Index: 921, Value: Publisherhttp://dx.doi.org/10.3390/ijerph8124714\n",
            "Index: 924, Value: Publisherhttp://dx.doi.org/10.1093/ije/dyn165\n",
            "Index: 925, Value: Publisherhttp://dx.doi.org/10.1098/rsta.2007.2052\n",
            "Index: 927, Value: Publisherhttp://www.ncbi.nlm.nih.gov/pmc/articles/PMC3002939\n",
            "Index: 928, Value: Publisherhttp://dx.doi.org/10.2471/blt.11.088302\n",
            "Index: 929, Value: Publisherhttp://www.ncbi.nlm.nih.gov/pmc/articles/PMC2878303\n",
            "Index: 930, Value: Publisherhttp://dx.doi.org/10.1007/s11027-009-9208-3\n",
            "Index: 931, Value: Publisherhttp://dx.doi.org/10.1177/0956247809103019\n",
            "Index: 932, Value: Publisherhttp://dx.doi.org/10.1016/j.cosust.2011.01.001\n",
            "Index: 933, Value: Publisherhttp://dx.doi.org/10.1177/1010539510391660\n",
            "Index: 934, Value: Publisherhttp://dx.doi.org/10.1136/thx.2007.090241\n",
            "Index: 935, Value: Publisherhttp://dx.doi.org/10.1016/j.chemosphere.2007.08.007\n",
            "Index: 936, Value: Publisherhttp://dx.doi.org/10.1007/s10393-011-0690-1\n",
            "Index: 937, Value: Publisherhttp://dx.doi.org/10.1111/j.1440-1584.2011.01225.x\n",
            "Index: 938, Value: Publisherhttp://dx.doi.org/10.1007/s10661-008-0567-0\n",
            "Index: 939, Value: Publisherhttp://dx.doi.org/10.1504/IJARGE.2009.026228\n",
            "Index: 940, Value: Publisherhttp://dx.doi.org/10.1177/0886260510365861\n",
            "Index: 941, Value: Publisherhttp://www.ncbi.nlm.nih.gov/pmc/articles/PMC2822707\n",
            "Index: 942, Value: Publisherhttp://www.ncbi.nlm.nih.gov/pmc/articles/PMC2702337\n",
            "Index: 943, Value: Publisherhttp://dx.doi.org/10.1111/j.1365-2850.2010.01658.x\n",
            "Index: 944, Value: Publisherhttp://dx.doi.org/10.1093/ije/dym148\n",
            "Index: 945, Value: Publisherhttp://dx.doi.org/10.1097/EDE.0b013e31815c09ea\n",
            "Index: 946, Value: Publisherhttp://dx.doi.org/10.1017/s0950268807009776\n",
            "Index: 947, Value: Publisherhttp://dx.doi.org/10.1097/01.ede.0000362523.13023.65 |Publisherhttp://journals.lww.com/epidem/Fulltext/2009/11001/Climatic_Components_of_Seasonal_Variation_in.446.aspx\n",
            "Index: 948, Value: Publisherhttp://dx.doi.org/10.1093/ije/dyn376\n",
            "Index: 949, Value: Publisherhttp://dx.doi.org/10.1007/s10661-008-0709-4\n",
            "Index: 951, Value: Publisherhttp://www.preventionweb.net/files/12075_SEINARPConsultationDraft1.pdf\n",
            "Index: 952, Value: Publisherhttp://dx.doi.org/10.1016/j.apgeog.2011.07.008\n",
            "Index: 953, Value: Publisherhttp://dx.doi.org/10.1016/j.healthpol.2009.07.013\n",
            "Index: 954, Value: Publisherhttp://www.ncbi.nlm.nih.gov/pmc/articles/PMC2911736\n",
            "Index: 955, Value: Publisherhttp://dx.doi.org/10.1007/s00134-009-1694-y\n",
            "Index: 956, Value: Publisherhttp://dx.doi.org/10.1007/978-3-540-72746-0_1 |Publisherhttp://link.springer.com/chapter/10.1007%2F978-3-540-72746-0_1\n",
            "Index: 957, Value: Publisherhttp://dx.doi.org/10.1175/wcas-d-11-00010.1\n",
            "Index: 959, Value: Publisherhttp://dx.doi.org/10.1007/s10393-010-0288-z\n",
            "Index: 960, Value: Publisherhttp://www.ncbi.nlm.nih.gov/pmc/articles/PMC2722733\n",
            "Index: 961, Value: Publisherhttp://dx.doi.org/10.1016/j.jglr.2009.12.009\n",
            "Index: 962, Value: Publisherhttp://dx.doi.org/10.1007/s00267-007-9009-y\n",
            "Index: 963, Value: Publisherhttps://www.cawq.ca/cgi-bin/journal/abstract.cgi?language=english&pk_article=390\n",
            "Index: 965, Value: Publisherhttp://www.hc-sc.gc.ca/ewh-semt/pubs/climat/climate-report-rapport/index-eng.php\n",
            "Index: 966, Value: Publisherhttp://www.hc-sc.gc.ca/ewh-semt/alt_formats/pdf/pubs/climat/workers-guide-travailleurs/extreme-heat-chaleur-accablante-eng.pdf\n",
            "Index: 967, Value: Publisherhttp://dx.doi.org/10.1007/s10661-009-1128-x\n",
            "Index: 969, Value: Publisherhttp://www.proceedings.com/02817.html\n",
            "Index: 970, Value: Publisherhttp://www.nature.com/ngeo/journal/v2/n10/full/ngeo604.html\n",
            "Index: 971, Value: Publisherhttp://dx.doi.org/10.1016/j.envres.2007.10.005\n",
            "Index: 972, Value: Publisherhttp://scholarship.law.georgetown.edu/cgi/viewcontent.cgi?article=1003&context=ois_papers\n",
            "Index: 973, Value: Publisherhttp://dx.doi.org/10.1111/j.1365-2656.2009.01598.x\n",
            "Index: 974, Value: Publisherhttp://dx.doi.org/10.1242/jeb.023861\n",
            "Index: 976, Value: Publisherhttp://www.ncbi.nlm.nih.gov/pmc/articles/PMC3230386\n",
            "Index: 977, Value: Publisherhttp://www.ipcc.ch/pdf/assessment-report/ar4/wg2/ar4-wg2-chapter11.pdf\n",
            "Index: 978, Value: Publisherhttp://dx.doi.org/10.1016/j.jenvman.2007.05.009\n",
            "Index: 979, Value: Publisherhttp://dx.doi.org/10.1136/oem.2006.029306\n",
            "Index: 980, Value: Publisherhttp://scholarworks.boisestate.edu/commhealth_facpubs/29/ |Publisherhttps://www.researchgate.net/publication/242602084_Climate_Change_Idaho's_Treasure_Valley_Air_Quality_Potential_Impact_on_Community_Health\n",
            "Index: 981, Value: Publisherhttp://dx.doi.org/10.1016/j.actatropica.2011.06.018\n",
            "Index: 983, Value: Publisherhttp://dx.doi.org/10.1007/s10654-009-9359-2\n",
            "Index: 984, Value: Publisherhttp://dx.doi.org/10.1111/j.1553-2712.2009.00469.x\n",
            "Index: 985, Value: Publisherhttp://dx.doi.org/10.1016/j.amepre.2008.08.024\n",
            "Index: 986, Value: Publisherhttp://dx.doi.org/10.1289/ehp.1103515\n",
            "Index: 987, Value: Publisherhttp://search.informit.com.au/documentSummary;dn=967460540415764;res=IELBUS\n",
            "Index: 989, Value: Publisherhttp://www.ncbi.nlm.nih.gov/pmc/articles/PMC2799326\n",
            "Index: 990, Value: Publisherhttp://www.ncbi.nlm.nih.gov/pmc/articles/PMC2634804\n",
            "Index: 992, Value: Publisherhttp://apps.who.int/iris/bitstream/10665/117219/1/13_1_2007_17_24.pdf |PubMedhttp://www.ncbi.nlm.nih.gov/pubmed/17546901\n",
            "Index: 993, Value: Publisherhttp://www.ncbi.nlm.nih.gov/pmc/articles/PMC3123625\n",
            "Index: 994, Value: Publisherhttp://dx.doi.org/10.20506/rst.27.2.1818\n",
            "Index: 995, Value: Publisherhttp://dx.doi.org/10.1126/science.1189930\n",
            "Index: 996, Value: Publisherhttp://dx.doi.org/10.1097/DMP.0b013e318194898d\n",
            "Index: 997, Value: Publisherhttp://dx.doi.org/10.1080/15287390801985539\n",
            "Index: 998, Value: Publisherhttp://dx.doi.org/10.1111/j.1365-2052.2010.02043.x\n",
            "Index: 999, Value: Publisherhttp://dx.doi.org/10.1016/j.cosust.2011.10.006\n"
          ]
        }
      ]
    },
    {
      "cell_type": "code",
      "source": [
        "df['Publisher1'] = ''\n",
        "df['Publisher2'] = ''\n",
        "df['PubMed'] = ''\n",
        "\n",
        "for idx, row in df.iterrows():\n",
        "    if pd.isna(row['Source']):\n",
        "        continue\n",
        "\n",
        "    parts = row['Source'].split('|')\n",
        "    publisher_parts = [part.replace('Publisher', '').strip() for part in parts if 'Publisher' in part]\n",
        "    pubmed_parts = [part.replace('PubMed', '').strip() for part in parts if 'PubMed' in part]\n",
        "\n",
        "    if len(publisher_parts) >= 1:\n",
        "        df.at[idx, 'Publisher1'] = publisher_parts[0]\n",
        "    if len(publisher_parts) >= 2:\n",
        "        df.at[idx, 'Publisher2'] = publisher_parts[1]\n",
        "\n",
        "    if len(pubmed_parts) >= 1:\n",
        "        df.at[idx, 'PubMed'] = pubmed_parts[0]"
      ],
      "metadata": {
        "id": "kRwCFDEwcVGU"
      },
      "execution_count": 40,
      "outputs": []
    },
    {
      "cell_type": "code",
      "source": [
        "df.drop('Source', axis=1, inplace=True)"
      ],
      "metadata": {
        "id": "yWMMLDF5cr0q"
      },
      "execution_count": 44,
      "outputs": []
    },
    {
      "cell_type": "markdown",
      "source": [
        "6.2. Exposure"
      ],
      "metadata": {
        "id": "ARyaxrLwcxnP"
      }
    },
    {
      "cell_type": "code",
      "source": [
        "for index, value in df['Exposure'].head(10).items():\n",
        "    if isinstance(value, str) and value.strip() != '':\n",
        "        print(f\"Index: {index}, Value: {value}\")"
      ],
      "metadata": {
        "colab": {
          "base_uri": "https://localhost:8080/"
        },
        "id": "R7aaZFR5c11M",
        "outputId": "ad88411e-6eb4-4df6-aa5f-ed53e657eb60"
      },
      "execution_count": 57,
      "outputs": [
        {
          "output_type": "stream",
          "name": "stdout",
          "text": [
            "Index: 0, Value: Extreme Weather-Related Event or Disaster | Temperature: Flood |Extreme Weather-Related Event or Disaster | Temperature: Heat\n",
            "Index: 1, Value: Food Quality: Crop/Plant Pathogen\n",
            "Index: 3, Value: Extreme Weather-Related Event or Disaster | Temperature: Drought | Flood |Extreme Weather-Related Event or Disaster | Temperature: Heat | Variability\n",
            "Index: 6, Value: Ecosystem Change | Extreme Weather-Related Event or Disaster | Food Quality | Food Security | Glacier Melt/Snow Melt | Precipitation | Sea Level Rise | Temperature | Water Quality | Water Security: Drought | Flood | Hurricane | Landslide |Ecosystem Change | Extreme Weather-Related Event or Disaster | Food Quality | Food Security | Glacier Melt/Snow Melt | Precipitation | Sea Level Rise | Temperature | Water Quality | Water Security: Nutritional quality |Ecosystem Change | Extreme Weather-Related Event or Disaster | Food Quality | Food Security | Glacier Melt/Snow Melt | Precipitation | Sea Level Rise | Temperature | Water Quality | Water Security: Availability/Distribution | Crop/Plant Food Security | Livestock/Game Food Security |Ecosystem Change | Extreme Weather-Related Event or Disaster | Food Quality | Food Security | Glacier Melt/Snow Melt | Precipitation | Sea Level Rise | Temperature | Water Quality | Water Security: Heat | Variability |Ecosystem Change | Extreme Weather-Related Event or Disaster | Food Quality | Food Security | Glacier Melt/Snow Melt | Precipitation | Sea Level Rise | Temperature | Water Quality | Water Security: Other Water Quality | SpecifyOther Water Quality | Specify: Sea surface temperature; Ocean acidification; Saltwater intrusionWater quality issue (other) |Other Water Quality | Specify: Sea surface temperature; Ocean acidification; Saltwater intrusion\n",
            "Index: 7, Value: Air Pollution | Temperature: Ground-Level Ozone | Interaction with Temperature | Particulate Matter | Other Air Pollution | SpecifyGround-Level Ozone | Interaction with Temperature | Particulate Matter | Other Air Pollution | Specify: SO2;NO2Air Pollution (other) |Ground-Level Ozone | Interaction with Temperature | Particulate Matter | Other Air Pollution | Specify: SO2;NO2 |Air Pollution | Temperature: Heat\n",
            "Index: 9, Value: Meteorological Factor | Temperature: Variability\n"
          ]
        }
      ]
    },
    {
      "cell_type": "markdown",
      "source": [
        "6.3. Geographic Feature"
      ],
      "metadata": {
        "id": "myXIGpAgdGvz"
      }
    },
    {
      "cell_type": "code",
      "source": [
        "for index, value in df['Geographic Feature'].head(10).items():\n",
        "    if isinstance(value, str) and value.strip() != '':\n",
        "        print(f\"Index: {index}, Value: {value}\")"
      ],
      "metadata": {
        "colab": {
          "base_uri": "https://localhost:8080/"
        },
        "id": "XfTRMRSFdJfU",
        "outputId": "811fcfa5-03de-456d-bf44-6fbb213d0b69"
      },
      "execution_count": 56,
      "outputs": [
        {
          "output_type": "stream",
          "name": "stdout",
          "text": [
            "Index: 6, Value: Forest | Ocean/Coastal | Other Geographic Feature | Specify: Forests\n"
          ]
        }
      ]
    },
    {
      "cell_type": "markdown",
      "source": [
        "6.4. Geographic Location"
      ],
      "metadata": {
        "id": "4U_lRQ6gdZCm"
      }
    },
    {
      "cell_type": "code",
      "source": [
        "for index, value in df['Geographic Location'].head(10).items():\n",
        "    if isinstance(value, str) and value.strip() != '':\n",
        "        print(f\"Index: {index}, Value: {value}\")"
      ],
      "metadata": {
        "colab": {
          "base_uri": "https://localhost:8080/"
        },
        "id": "AIxttAX7dcNc",
        "outputId": "5ed77c5a-ffd7-4480-93aa-923845133e8b"
      },
      "execution_count": 58,
      "outputs": [
        {
          "output_type": "stream",
          "name": "stdout",
          "text": [
            "Index: 0, Value: Non-United States: Europe\n",
            "Index: 1, Value: Non-United States: Africa | Asia | Europe\n",
            "Index: 8, Value: Non-United States: Europe\n"
          ]
        }
      ]
    },
    {
      "cell_type": "markdown",
      "source": [
        "6.5. Health Impact"
      ],
      "metadata": {
        "id": "ISAsiPwAdeuh"
      }
    },
    {
      "cell_type": "code",
      "source": [
        "for index, value in df['Health Impact'].head(10).items():\n",
        "    if isinstance(value, str) and value.strip() != '':\n",
        "        print(f\"Index: {index}, Value: {value}\")"
      ],
      "metadata": {
        "colab": {
          "base_uri": "https://localhost:8080/"
        },
        "id": "bSs3yDuXdhr_",
        "outputId": "eda41734-ce71-4e53-9e6a-9da0a91ecb97"
      },
      "execution_count": 59,
      "outputs": [
        {
          "output_type": "stream",
          "name": "stdout",
          "text": [
            "Index: 0, Value: Cancer | Dermatological Impact | Infectious Disease | Morbidity/Mortality: Foodborne DiseaseFoodborne Disease: General Foodborne DiseaseFoodborne Disease |Foodborne Disease: General Foodborne Disease\n",
            "Index: 1, Value: Infectious Disease: Vectorborne Disease | Zoonotic DiseaseVectorborne Disease | Zoonotic Disease: Mosquito-borne Disease | Tick-borne DiseaseMosquito-borne Disease | Tick-borne Disease: Chikungunya | Malaria | West Nile Virus | Yellow FeverMosquito-borne DiseaseVectorborne Disease | Zoonotic Disease: Other Zoonotic Disease | SpecifyOther Zoonotic Disease | Specify: BartonellaZoonotic Disease (other)Vectorborne DiseaseZoonotic Disease |Vectorborne Disease | Zoonotic Disease: Mosquito-borne Disease | Tick-borne DiseaseMosquito-borne Disease | Tick-borne Disease: Chikungunya | Malaria | West Nile Virus | Yellow FeverMosquito-borne Disease |Mosquito-borne Disease | Tick-borne Disease: Chikungunya | Malaria | West Nile Virus | Yellow Fever |Vectorborne Disease | Zoonotic Disease: Other Zoonotic Disease | SpecifyOther Zoonotic Disease | Specify: BartonellaZoonotic Disease (other) |Other Zoonotic Disease | Specify: Bartonella\n",
            "Index: 6, Value: Infectious Disease | Injury | Morbidity/Mortality | Other Health Impact | Specify: Foodborne Disease | Vectorborne DiseaseFoodborne Disease | Vectorborne Disease: Diarrheal Disease | UnspecifiedFoodborne Disease | Vectorborne Disease: General Vectorborne Disease | Mosquito-borne DiseaseGeneral Vectorborne Disease | Mosquito-borne Disease: Dengue | MalariaMosquito-borne DiseaseFoodborne DiseaseVectorborne Disease |Foodborne Disease | Vectorborne Disease: Diarrheal Disease | Unspecified |Foodborne Disease | Vectorborne Disease: General Vectorborne Disease | Mosquito-borne DiseaseGeneral Vectorborne Disease | Mosquito-borne Disease: Dengue | MalariaMosquito-borne Disease |General Vectorborne Disease | Mosquito-borne Disease: Dengue | Malaria |Infectious Disease | Injury | Morbidity/Mortality | Other Health Impact | Specify: Heat stress\n",
            "Index: 9, Value: Respiratory Impact: Asthma\n"
          ]
        }
      ]
    },
    {
      "cell_type": "markdown",
      "source": [
        "6.6. Resource column noting include"
      ],
      "metadata": {
        "id": "p1OoMinPx2sV"
      }
    },
    {
      "cell_type": "code",
      "source": [
        "df['Resource Type'].value_counts()"
      ],
      "metadata": {
        "colab": {
          "base_uri": "https://localhost:8080/",
          "height": 147
        },
        "id": "k4-EhPNUgApy",
        "outputId": "9a4e230a-f11f-4ea5-c7ae-e662d2be2df0"
      },
      "execution_count": 79,
      "outputs": [
        {
          "output_type": "execute_result",
          "data": {
            "text/plain": [
              "Resource Type\n",
              "    22695\n",
              "Name: count, dtype: int64"
            ],
            "text/html": [
              "<div>\n",
              "<style scoped>\n",
              "    .dataframe tbody tr th:only-of-type {\n",
              "        vertical-align: middle;\n",
              "    }\n",
              "\n",
              "    .dataframe tbody tr th {\n",
              "        vertical-align: top;\n",
              "    }\n",
              "\n",
              "    .dataframe thead th {\n",
              "        text-align: right;\n",
              "    }\n",
              "</style>\n",
              "<table border=\"1\" class=\"dataframe\">\n",
              "  <thead>\n",
              "    <tr style=\"text-align: right;\">\n",
              "      <th></th>\n",
              "      <th>count</th>\n",
              "    </tr>\n",
              "    <tr>\n",
              "      <th>Resource Type</th>\n",
              "      <th></th>\n",
              "    </tr>\n",
              "  </thead>\n",
              "  <tbody>\n",
              "    <tr>\n",
              "      <th></th>\n",
              "      <td>22695</td>\n",
              "    </tr>\n",
              "  </tbody>\n",
              "</table>\n",
              "</div><br><label><b>dtype:</b> int64</label>"
            ]
          },
          "metadata": {},
          "execution_count": 79
        }
      ]
    },
    {
      "cell_type": "markdown",
      "source": [
        "6.7. Special Topic"
      ],
      "metadata": {
        "id": "pTBpMGbxdoGS"
      }
    },
    {
      "cell_type": "code",
      "source": [
        "for index, value in df['Health Impact'].head(10).items():\n",
        "    if isinstance(value, str) and value.strip() != '':\n",
        "        print(f\"Index: {index}, Value: {value}\")"
      ],
      "metadata": {
        "colab": {
          "base_uri": "https://localhost:8080/"
        },
        "id": "yvF6qPf3dn6A",
        "outputId": "45944bbb-9b74-4a02-f3f4-fe098ab67eac"
      },
      "execution_count": 61,
      "outputs": [
        {
          "output_type": "stream",
          "name": "stdout",
          "text": [
            "Index: 0, Value: Cancer | Dermatological Impact | Infectious Disease | Morbidity/Mortality: Foodborne DiseaseFoodborne Disease: General Foodborne DiseaseFoodborne Disease |Foodborne Disease: General Foodborne Disease\n",
            "Index: 1, Value: Infectious Disease: Vectorborne Disease | Zoonotic DiseaseVectorborne Disease | Zoonotic Disease: Mosquito-borne Disease | Tick-borne DiseaseMosquito-borne Disease | Tick-borne Disease: Chikungunya | Malaria | West Nile Virus | Yellow FeverMosquito-borne DiseaseVectorborne Disease | Zoonotic Disease: Other Zoonotic Disease | SpecifyOther Zoonotic Disease | Specify: BartonellaZoonotic Disease (other)Vectorborne DiseaseZoonotic Disease |Vectorborne Disease | Zoonotic Disease: Mosquito-borne Disease | Tick-borne DiseaseMosquito-borne Disease | Tick-borne Disease: Chikungunya | Malaria | West Nile Virus | Yellow FeverMosquito-borne Disease |Mosquito-borne Disease | Tick-borne Disease: Chikungunya | Malaria | West Nile Virus | Yellow Fever |Vectorborne Disease | Zoonotic Disease: Other Zoonotic Disease | SpecifyOther Zoonotic Disease | Specify: BartonellaZoonotic Disease (other) |Other Zoonotic Disease | Specify: Bartonella\n",
            "Index: 6, Value: Infectious Disease | Injury | Morbidity/Mortality | Other Health Impact | Specify: Foodborne Disease | Vectorborne DiseaseFoodborne Disease | Vectorborne Disease: Diarrheal Disease | UnspecifiedFoodborne Disease | Vectorborne Disease: General Vectorborne Disease | Mosquito-borne DiseaseGeneral Vectorborne Disease | Mosquito-borne Disease: Dengue | MalariaMosquito-borne DiseaseFoodborne DiseaseVectorborne Disease |Foodborne Disease | Vectorborne Disease: Diarrheal Disease | Unspecified |Foodborne Disease | Vectorborne Disease: General Vectorborne Disease | Mosquito-borne DiseaseGeneral Vectorborne Disease | Mosquito-borne Disease: Dengue | MalariaMosquito-borne Disease |General Vectorborne Disease | Mosquito-borne Disease: Dengue | Malaria |Infectious Disease | Injury | Morbidity/Mortality | Other Health Impact | Specify: Heat stress\n",
            "Index: 9, Value: Respiratory Impact: Asthma\n"
          ]
        }
      ]
    },
    {
      "cell_type": "markdown",
      "source": [
        "6.8. Abstract"
      ],
      "metadata": {
        "id": "xy35vQBHdx23"
      }
    },
    {
      "cell_type": "code",
      "source": [
        "for index, value in df['Abstract'].head(10).items():\n",
        "    if isinstance(value, str) and value.strip() != '':\n",
        "        print(f\"Index: {index}, Value: {value}\")"
      ],
      "metadata": {
        "colab": {
          "base_uri": "https://localhost:8080/"
        },
        "id": "4_Q2W_Z7d9mK",
        "outputId": "b98b713a-d1e2-48f3-f471-c991f561b2ec"
      },
      "execution_count": 62,
      "outputs": [
        {
          "output_type": "stream",
          "name": "stdout",
          "text": [
            "Index: 2, Value: <p>Purpose - This paper aims to review the latest management developments across the globe and pinpoint practical implications from cutting-edge research and case studies. Design/methodology/approach - This briefing is prepared by an independent writer, who adds their own impartial comments and places the articles in context. Findings - As cyclones, hurricanes, floods and fires wreak havoc with communities round the world, the warnings that global warming might make the weather even worse and less predictable are at last being recognized by even the most stubborn of \"head-in-the-sand\" optimists. So how do you stay in business if you are flooded out, burned down or blown away? Surely you have a plan? Practical implications - The paper provides strategic insights and practical thinking that have influenced some of the world's leading organizations. Originality/value - The briefing saves busy executives and researchers hours of reading time by selecting only the very best, most pertinent information and presenting it in a condensed and easy-to digest format.</p>\n",
            "Index: 3, Value: <p>Anticipating more human health problems from global warming, the World Health Organization (WHO) and several United Nations partners announced a new research agenda to produce better estimates of the scale and nature of human health vulnerability due to changing climate, as well as to find health-protecting strategies and tools. WHO warned that warming may be gradual but the effects, more storms, floods, droughts, and heat waves will be abrupt and acutely felt. WHO predicted that global warming will influence some of the most fundamental determinants of health, air, water, food, shelter, and freedom from disease. The impact will be global, but consequences will not be evenly distributed. Climate change will affect problems that are already huge, largely concentrated in the developing world, and will be difficult to control. The program will provide better surveillance and forecasting, stronger basic health services, and more effective means to help people adapt to a changing climate and to limit climate change's effect on health.</p>\n",
            "Index: 4, Value: <p> This authoritative volume (along with its companion on vulnerability), resulting from the work of the Assessments of Impacts and Adaptations to Climate Change (AIACC) project launched with the IPCC in 2002, is the first to provide an in-depth investigation of the stakes in developing countries. It covers current practices for managing climate risks, deficits between current practices and needs, the changing nature of the risks due to human caused climate change, strategies for adapting to changing risks, and the need to integrate these strategies into development planning and resource management. The book also identifies obstacles to effective adaptation and explores measures needed to create conditions that are favourable to climate change adaptation. -- Publisher's description</p>\n",
            "Index: 5, Value: <p>The award of the Nobel Peace Prize for 2007 to the IPCC brings needed attention to the threats from climate change for highly vulnerable regions of the developing world. This authoritative volume (along with its companion covering adaptation) resulting from the work of the Assessments of Impacts and Adaptations to Climate Change (AIACC) project launched with the IPCC in 2002, is the first to provide an in-depth investigation of the stakes in developing countries. It discusses who is vulnerable and the nature and causes of their vulnerability for parts of the world that have been poorly researched till now. It also provides researchers with new examples of applications of vulnerability assessment methods, an approach that is of growing interest in the climate change area but for which there are relatively few applications in the literature. -- Publisher's description.</p>\n",
            "Index: 6, Value: <p>Climate change poses a serious challenge to social and economic development. Efforts to reduce greenhouse gas emissions need to move hand in hand with policies and incentives to adapt to the impacts of climate change. How much adaptation might cost, and how large its benefits might be, are issues that are increasingly relevant both for on-the-ground projects and in international development co-operation and negotiations contexts. This report provides a critical assessment of adaptation costs and benefits in key climate sensitive sectors, as well as at national and global levels. It also moves the discussion beyond cost estimation to the potential and limits of economic and policy instruments - including insurance and risk sharing, environmental markets and pricing, and public private partnerships - that can be used to motivate adaptation actions.--Publisher’s description.</p>\n",
            "Index: 7, Value: <p>Climate change is leading to variations in weather patterns and an apparent increase in extreme weather events, including heat-waves. Recent heat-waves in Europe have led to a rise in related mortality but the adverse health effects of hot weather and heat-waves are largely preventable. Prevention requires a portfolio of actions at different levels, including meteorological early warning systems, timely public and medical advice, improvements to housing and urban planning and ensuring that health care and social systems are ready to act. These actions can be integrated into a defined heat–health action plan. This guidance results from the EuroHEAT project on improving public health responses to extreme weather/heat-waves, co-funded by the European Commission. It explains the importance of the development of heat–health action plans, their characteristics and core elements, with examples from several European countries that have begun their implementation and evaluation. -- Publisher's description.</p>\n",
            "Index: 8, Value: <p>There is now scientific consensus that climate change affects health through changing weather patterns (for example, more intense and frequent extreme events) and indirectly through changes in water, air, food quality and quantity, ecosystems, agriculture, livelihoods and infrastructure. The effects will be unevenly distributed, and the people at greatest risk include the poor, very young, elderly and/or ill. Climate change can also pose a threat to health security. Failure to respond could be very costly in terms of disease, health care expenditure and lost productivity. This publication intends to stimulate debate and support an active response by providing up-to-date information on the health effects, as well as practical guidance on specific actions that decision-makers at different levels in health and other sectors can take now. As long as climate change is not too rapid or strong, many of the health effects can be controlled by strengthening health systems. This can include strengthening preparedness, public health services and health security, advocating action in other sectors to benefit health, better informing citizens and leading by example. Health systems need to strengthen their capacity to assess potential climate-related health effects, to review their capacities to cope, and develop and implement adaptation and mitigation strategies, and to strengthen a range of key areas of work – from disease surveillance and control to disaster risk reduction – that are essential for rapid detection of and action against climate-related risks. -- Publisher's description.</p>\n",
            "Index: 9, Value: <p>Changes in humidity and temperature result in an increase in Emergency Department (ED) visits for pediatric asthma exacerbations according to a report published this month inAnnals of Allergy, Asthma &amp; Immunology, the scientific journal of the American College of Allergy, Asthma and Immunology (ACAAI).</p>\n"
          ]
        }
      ]
    },
    {
      "cell_type": "code",
      "source": [
        "# remove the <p> tag and any other formatting\n",
        "df['Abstract']=df['Abstract'].str.replace('<p>', ' ')"
      ],
      "metadata": {
        "id": "syDLlwzT6Y4x"
      },
      "execution_count": 63,
      "outputs": []
    },
    {
      "cell_type": "markdown",
      "source": [
        "6.9. Clean Model/Methodology column"
      ],
      "metadata": {
        "id": "dnTLwgLGy2e3"
      }
    },
    {
      "cell_type": "code",
      "source": [
        "for index, value in df['Model/Methodology'].head(10).items():\n",
        "    if isinstance(value, str) and value.strip() != '':\n",
        "        print(f\"Index: {index}, Value: {value}\")"
      ],
      "metadata": {
        "colab": {
          "base_uri": "https://localhost:8080/"
        },
        "collapsed": true,
        "id": "OeJdRk94yppz",
        "outputId": "6fb5b2a8-a448-48a0-f27b-94b8cbde1114"
      },
      "execution_count": 64,
      "outputs": [
        {
          "output_type": "stream",
          "name": "stdout",
          "text": [
            "Index: 6, Value: <ul> Cost/Economic Impact Prediction, Methodology </ul>\n"
          ]
        }
      ]
    },
    {
      "cell_type": "code",
      "source": [
        "# flattened out with pipe\n",
        "\n",
        "def extract_items(html_content):\n",
        "    if pd.isna(html_content) or html_content is None:\n",
        "        return \"\"\n",
        "\n",
        "    # First\n",
        "    soup = BeautifulSoup(html_content, 'html.parser')\n",
        "    items= soup.get_text(strip=True).replace(',', ' |')\n",
        "\n",
        "    return items\n",
        "\n",
        "df['Model/Methodology']=df['Model/Methodology'].apply(extract_items)"
      ],
      "metadata": {
        "id": "WWOcVg-L8rD4"
      },
      "execution_count": 65,
      "outputs": []
    },
    {
      "cell_type": "code",
      "source": [
        "for index, value in df['Model/Methodology'].head(10).items():\n",
        "    if isinstance(value, str) and value.strip() != '':\n",
        "        print(f\"Index: {index}, Value: {value}\")"
      ],
      "metadata": {
        "colab": {
          "base_uri": "https://localhost:8080/"
        },
        "id": "r-KCmsAkeIou",
        "outputId": "80d3bcb4-a062-4540-a670-dfb2d1b0d380"
      },
      "execution_count": 67,
      "outputs": [
        {
          "output_type": "stream",
          "name": "stdout",
          "text": [
            "Index: 6, Value: Cost/Economic Impact Prediction | Methodology\n"
          ]
        }
      ]
    },
    {
      "cell_type": "markdown",
      "source": [
        "6.10. Clean Model Timescale"
      ],
      "metadata": {
        "id": "Gg_31twEznQ4"
      }
    },
    {
      "cell_type": "code",
      "source": [
        "for index, value in df['Model Timescale'].head(10).items():\n",
        "    if isinstance(value, str) and value.strip() != '':\n",
        "        print(f\"Index: {index}, Value: {value}\")"
      ],
      "metadata": {
        "collapsed": true,
        "colab": {
          "base_uri": "https://localhost:8080/"
        },
        "id": "CJRaxnS9zjlp",
        "outputId": "a165dba7-ab77-4448-b7fa-00cddbc7270b"
      },
      "execution_count": 68,
      "outputs": [
        {
          "output_type": "stream",
          "name": "stdout",
          "text": [
            "Index: 6, Value: <ul> Long-Term (&gt;10 years) </ul>\n"
          ]
        }
      ]
    },
    {
      "cell_type": "code",
      "source": [
        "df['Model Timescale']=df['Model Timescale'].apply(extract_items)\n",
        "for index, value in df['Model Timescale'].head(10).items():\n",
        "    if isinstance(value, str) and value.strip() != '':\n",
        "        print(f\"Index: {index}, Value: {value}\")"
      ],
      "metadata": {
        "id": "-4mqKuMVzqXF",
        "colab": {
          "base_uri": "https://localhost:8080/"
        },
        "outputId": "96d676c5-472c-4a44-f767-c1fa2ced0428"
      },
      "execution_count": 70,
      "outputs": [
        {
          "output_type": "stream",
          "name": "stdout",
          "text": [
            "Index: 6, Value: Long-Term (>10 years)\n"
          ]
        }
      ]
    },
    {
      "cell_type": "markdown",
      "source": [
        "6.11. Climate change and socioeconomics scenarios"
      ],
      "metadata": {
        "id": "GpBOqHVcfOAh"
      }
    },
    {
      "cell_type": "code",
      "source": [
        "df['Climate Change and Socioeconomic Scenarios'].value_counts()"
      ],
      "metadata": {
        "colab": {
          "base_uri": "https://localhost:8080/",
          "height": 507
        },
        "id": "S3-pIdLDfqZD",
        "outputId": "6cbe2754-7a18-4d2e-ea9c-a0e31e7621b4"
      },
      "execution_count": 77,
      "outputs": [
        {
          "output_type": "execute_result",
          "data": {
            "text/plain": [
              "Climate Change and Socioeconomic Scenarios\n",
              "                                                                                                                                                                         22563\n",
              "Representative Concentration Pathway (RCP) | Other Climate Change Scenario | Specify: CMIP5                                                                                  3\n",
              "Other Climate Change Scenario | Specify: Ecological Niche Model                                                                                                              2\n",
              "Other Climate Change Scenario | Specify: Business As Usual                                                                                                                   2\n",
              "Other Climate Change Scenario | Specify: Unspecified IPCC CC Scenario                                                                                                        2\n",
              "                                                                                                                                                                         ...  \n",
              "Other Climate Change Scenario | Specify: IPCC WGIII AR5 Scenarios                                                                                                            1\n",
              "Other Climate Change Scenario | Specify: Mean Annual Temperature                                                                                                             1\n",
              "Other Socioeconomic Scenario | Specify: Unspecified Low Carbon Scenario                                                                                                      1\n",
              "Other Socioeconomic Scenario | Specify: Business as Usual; Cap and Trade; Clean Energy Standard                                                                              1\n",
              "Other Socioeconomic Scenario | Specify: Business As Usual (BAU); Social Optimum (SO); Second-Best with Carbon Taxes (SB-CT); Second-Best with Fertility Taxes (SB-FT)        1\n",
              "Name: count, Length: 127, dtype: int64"
            ],
            "text/html": [
              "<div>\n",
              "<style scoped>\n",
              "    .dataframe tbody tr th:only-of-type {\n",
              "        vertical-align: middle;\n",
              "    }\n",
              "\n",
              "    .dataframe tbody tr th {\n",
              "        vertical-align: top;\n",
              "    }\n",
              "\n",
              "    .dataframe thead th {\n",
              "        text-align: right;\n",
              "    }\n",
              "</style>\n",
              "<table border=\"1\" class=\"dataframe\">\n",
              "  <thead>\n",
              "    <tr style=\"text-align: right;\">\n",
              "      <th></th>\n",
              "      <th>count</th>\n",
              "    </tr>\n",
              "    <tr>\n",
              "      <th>Climate Change and Socioeconomic Scenarios</th>\n",
              "      <th></th>\n",
              "    </tr>\n",
              "  </thead>\n",
              "  <tbody>\n",
              "    <tr>\n",
              "      <th></th>\n",
              "      <td>22563</td>\n",
              "    </tr>\n",
              "    <tr>\n",
              "      <th>Representative Concentration Pathway (RCP) | Other Climate Change Scenario | Specify: CMIP5</th>\n",
              "      <td>3</td>\n",
              "    </tr>\n",
              "    <tr>\n",
              "      <th>Other Climate Change Scenario | Specify: Ecological Niche Model</th>\n",
              "      <td>2</td>\n",
              "    </tr>\n",
              "    <tr>\n",
              "      <th>Other Climate Change Scenario | Specify: Business As Usual</th>\n",
              "      <td>2</td>\n",
              "    </tr>\n",
              "    <tr>\n",
              "      <th>Other Climate Change Scenario | Specify: Unspecified IPCC CC Scenario</th>\n",
              "      <td>2</td>\n",
              "    </tr>\n",
              "    <tr>\n",
              "      <th>...</th>\n",
              "      <td>...</td>\n",
              "    </tr>\n",
              "    <tr>\n",
              "      <th>Other Climate Change Scenario | Specify: IPCC WGIII AR5 Scenarios</th>\n",
              "      <td>1</td>\n",
              "    </tr>\n",
              "    <tr>\n",
              "      <th>Other Climate Change Scenario | Specify: Mean Annual Temperature</th>\n",
              "      <td>1</td>\n",
              "    </tr>\n",
              "    <tr>\n",
              "      <th>Other Socioeconomic Scenario | Specify: Unspecified Low Carbon Scenario</th>\n",
              "      <td>1</td>\n",
              "    </tr>\n",
              "    <tr>\n",
              "      <th>Other Socioeconomic Scenario | Specify: Business as Usual; Cap and Trade; Clean Energy Standard</th>\n",
              "      <td>1</td>\n",
              "    </tr>\n",
              "    <tr>\n",
              "      <th>Other Socioeconomic Scenario | Specify: Business As Usual (BAU); Social Optimum (SO); Second-Best with Carbon Taxes (SB-CT); Second-Best with Fertility Taxes (SB-FT)</th>\n",
              "      <td>1</td>\n",
              "    </tr>\n",
              "  </tbody>\n",
              "</table>\n",
              "<p>127 rows × 1 columns</p>\n",
              "</div><br><label><b>dtype:</b> int64</label>"
            ]
          },
          "metadata": {},
          "execution_count": 77
        }
      ]
    },
    {
      "cell_type": "markdown",
      "source": [
        "### 7. Rename column"
      ],
      "metadata": {
        "id": "GaKlKCGT43-k"
      }
    },
    {
      "cell_type": "code",
      "source": [
        "# Drop unnecessary column\n",
        "drop_columns=['skip', 'university']\n",
        "for col in drop_columns:\n",
        "  df.drop(col, axis=1, inplace=True)"
      ],
      "metadata": {
        "id": "qPoIX3A-4ss6"
      },
      "execution_count": 80,
      "outputs": []
    },
    {
      "cell_type": "code",
      "source": [
        "df.dtypes"
      ],
      "metadata": {
        "colab": {
          "base_uri": "https://localhost:8080/",
          "height": 1000
        },
        "id": "4ad0k05LgOhO",
        "outputId": "2fdda57f-1ccd-4833-9201-db59190df08f"
      },
      "execution_count": 83,
      "outputs": [
        {
          "output_type": "execute_result",
          "data": {
            "text/plain": [
              "reference_id                                    int64\n",
              "reference_title                                object\n",
              "series_editor                                  object\n",
              "reference_type                                 object\n",
              "num                                             int64\n",
              "volume_detailed                                object\n",
              "year_published                                  int64\n",
              "geo                                             int64\n",
              "issue                                          object\n",
              "conference                                     object\n",
              "place_published                                object\n",
              "geo_nonus                                     float64\n",
              "page_s                                         object\n",
              "book_title                                     object\n",
              "Author(s)                                      object\n",
              "Journal                                        object\n",
              "Exposure                                       object\n",
              "Geographic Feature                             object\n",
              "Geographic Location                            object\n",
              "Health Impact                                  object\n",
              "Resource Type                                  object\n",
              "Special Topic                                  object\n",
              "Abstract                                       object\n",
              "Series_detailed                                object\n",
              "Editor                                         object\n",
              "publisher_detailed                             object\n",
              "Model/Methodology                              object\n",
              "Model Timescale                                object\n",
              "Climate Change and Socioeconomic Scenarios     object\n",
              "Volume                                         object\n",
              "Page                                           object\n",
              "Publisher1                                     object\n",
              "Publisher2                                     object\n",
              "PubMed                                         object\n",
              "dtype: object"
            ],
            "text/html": [
              "<div>\n",
              "<style scoped>\n",
              "    .dataframe tbody tr th:only-of-type {\n",
              "        vertical-align: middle;\n",
              "    }\n",
              "\n",
              "    .dataframe tbody tr th {\n",
              "        vertical-align: top;\n",
              "    }\n",
              "\n",
              "    .dataframe thead th {\n",
              "        text-align: right;\n",
              "    }\n",
              "</style>\n",
              "<table border=\"1\" class=\"dataframe\">\n",
              "  <thead>\n",
              "    <tr style=\"text-align: right;\">\n",
              "      <th></th>\n",
              "      <th>0</th>\n",
              "    </tr>\n",
              "  </thead>\n",
              "  <tbody>\n",
              "    <tr>\n",
              "      <th>reference_id</th>\n",
              "      <td>int64</td>\n",
              "    </tr>\n",
              "    <tr>\n",
              "      <th>reference_title</th>\n",
              "      <td>object</td>\n",
              "    </tr>\n",
              "    <tr>\n",
              "      <th>series_editor</th>\n",
              "      <td>object</td>\n",
              "    </tr>\n",
              "    <tr>\n",
              "      <th>reference_type</th>\n",
              "      <td>object</td>\n",
              "    </tr>\n",
              "    <tr>\n",
              "      <th>num</th>\n",
              "      <td>int64</td>\n",
              "    </tr>\n",
              "    <tr>\n",
              "      <th>volume_detailed</th>\n",
              "      <td>object</td>\n",
              "    </tr>\n",
              "    <tr>\n",
              "      <th>year_published</th>\n",
              "      <td>int64</td>\n",
              "    </tr>\n",
              "    <tr>\n",
              "      <th>geo</th>\n",
              "      <td>int64</td>\n",
              "    </tr>\n",
              "    <tr>\n",
              "      <th>issue</th>\n",
              "      <td>object</td>\n",
              "    </tr>\n",
              "    <tr>\n",
              "      <th>conference</th>\n",
              "      <td>object</td>\n",
              "    </tr>\n",
              "    <tr>\n",
              "      <th>place_published</th>\n",
              "      <td>object</td>\n",
              "    </tr>\n",
              "    <tr>\n",
              "      <th>geo_nonus</th>\n",
              "      <td>float64</td>\n",
              "    </tr>\n",
              "    <tr>\n",
              "      <th>page_s</th>\n",
              "      <td>object</td>\n",
              "    </tr>\n",
              "    <tr>\n",
              "      <th>book_title</th>\n",
              "      <td>object</td>\n",
              "    </tr>\n",
              "    <tr>\n",
              "      <th>Author(s)</th>\n",
              "      <td>object</td>\n",
              "    </tr>\n",
              "    <tr>\n",
              "      <th>Journal</th>\n",
              "      <td>object</td>\n",
              "    </tr>\n",
              "    <tr>\n",
              "      <th>Exposure</th>\n",
              "      <td>object</td>\n",
              "    </tr>\n",
              "    <tr>\n",
              "      <th>Geographic Feature</th>\n",
              "      <td>object</td>\n",
              "    </tr>\n",
              "    <tr>\n",
              "      <th>Geographic Location</th>\n",
              "      <td>object</td>\n",
              "    </tr>\n",
              "    <tr>\n",
              "      <th>Health Impact</th>\n",
              "      <td>object</td>\n",
              "    </tr>\n",
              "    <tr>\n",
              "      <th>Resource Type</th>\n",
              "      <td>object</td>\n",
              "    </tr>\n",
              "    <tr>\n",
              "      <th>Special Topic</th>\n",
              "      <td>object</td>\n",
              "    </tr>\n",
              "    <tr>\n",
              "      <th>Abstract</th>\n",
              "      <td>object</td>\n",
              "    </tr>\n",
              "    <tr>\n",
              "      <th>Series_detailed</th>\n",
              "      <td>object</td>\n",
              "    </tr>\n",
              "    <tr>\n",
              "      <th>Editor</th>\n",
              "      <td>object</td>\n",
              "    </tr>\n",
              "    <tr>\n",
              "      <th>publisher_detailed</th>\n",
              "      <td>object</td>\n",
              "    </tr>\n",
              "    <tr>\n",
              "      <th>Model/Methodology</th>\n",
              "      <td>object</td>\n",
              "    </tr>\n",
              "    <tr>\n",
              "      <th>Model Timescale</th>\n",
              "      <td>object</td>\n",
              "    </tr>\n",
              "    <tr>\n",
              "      <th>Climate Change and Socioeconomic Scenarios</th>\n",
              "      <td>object</td>\n",
              "    </tr>\n",
              "    <tr>\n",
              "      <th>Volume</th>\n",
              "      <td>object</td>\n",
              "    </tr>\n",
              "    <tr>\n",
              "      <th>Page</th>\n",
              "      <td>object</td>\n",
              "    </tr>\n",
              "    <tr>\n",
              "      <th>Publisher1</th>\n",
              "      <td>object</td>\n",
              "    </tr>\n",
              "    <tr>\n",
              "      <th>Publisher2</th>\n",
              "      <td>object</td>\n",
              "    </tr>\n",
              "    <tr>\n",
              "      <th>PubMed</th>\n",
              "      <td>object</td>\n",
              "    </tr>\n",
              "  </tbody>\n",
              "</table>\n",
              "</div><br><label><b>dtype:</b> object</label>"
            ]
          },
          "metadata": {},
          "execution_count": 83
        }
      ]
    },
    {
      "cell_type": "code",
      "source": [
        "df = df.rename(columns={\n",
        "    'Model/Methodology': 'Model_Methodology',\n",
        "    'Author(s)': 'Author',\n",
        "    'Publisher1': 'Publisher1_URL',\n",
        "    'Publisher2': 'Publisher2_URL',\n",
        "    'PubMed': 'PubMed_URL',\n",
        "    'Geographic Feature': 'Geographic_Features',\n",
        "    'Geographic Location': 'Geographic_Location',\n",
        "    'Health Impact': 'Health_Impact',\n",
        "    'Resource Type' : 'Resource_Type',\n",
        "    'Special Topic' : 'Special_Topic',\n",
        "    'Climate Change and Socioeconomic Scenarios' : 'Climate_Change_and_Socioeconomic_Scenarios',\n",
        "    'Model Timescale' : 'Model_Timescale'\n",
        "})"
      ],
      "metadata": {
        "id": "2rQBUrKX5CzZ"
      },
      "execution_count": 84,
      "outputs": []
    },
    {
      "cell_type": "markdown",
      "source": [
        "### 8. Change year column type"
      ],
      "metadata": {
        "id": "GTZ4YdeV6jFb"
      }
    },
    {
      "cell_type": "code",
      "source": [
        "# Year field: should be saved an an integer, not a decimal\n",
        "df['year_published'] = df['year_published'].apply(pd.to_numeric, errors='coerce')"
      ],
      "metadata": {
        "id": "ICnfayj67iv8"
      },
      "execution_count": 86,
      "outputs": []
    },
    {
      "cell_type": "markdown",
      "source": [
        "### 9. Write out a new CSV file AND a new sqlite database file"
      ],
      "metadata": {
        "id": "BCmlqWbg6xCn"
      }
    },
    {
      "cell_type": "code",
      "source": [
        "df.to_csv('cchhl.csv', index=False)"
      ],
      "metadata": {
        "id": "ZUV8qbR0hNeG"
      },
      "execution_count": 88,
      "outputs": []
    },
    {
      "cell_type": "code",
      "source": [
        "import sqlite3\n",
        "conn = sqlite3.connect('cchhl.db')\n",
        "df.to_sql('cchhl', conn, if_exists='replace', index=False)"
      ],
      "metadata": {
        "colab": {
          "base_uri": "https://localhost:8080/"
        },
        "id": "hcoWJFbE-q6c",
        "outputId": "51a1ba33-0075-4e1a-ab9d-7f47b320e1bb"
      },
      "execution_count": 90,
      "outputs": [
        {
          "output_type": "execute_result",
          "data": {
            "text/plain": [
              "22695"
            ]
          },
          "metadata": {},
          "execution_count": 90
        }
      ]
    }
  ]
}